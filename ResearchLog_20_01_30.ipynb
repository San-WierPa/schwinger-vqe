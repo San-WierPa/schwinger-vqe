{
 "cells": [
  {
   "cell_type": "markdown",
   "metadata": {},
   "source": [
    "# Research Log 2020/01/28-2020/01/30"
   ]
  },
  {
   "cell_type": "markdown",
   "metadata": {},
   "source": [
    "## Tue 28/01/2020\n",
    "- Concatenating kets is of course $\\neq$ to concatenating qubits. For a 2-spatial-site system, joining an even and and odd parity sector requires just one more qubit (the Hilbert space is twice as large). And I can write down the superposition circuit from before with this many qubits.\n",
    "- Preparing for a meeting with the hackathon team on Wednesday. Will push existing code to a repo.\n",
    "\n",
    "<img src=\"ibmqx4.png\" width=\"200\"> \n",
    "\n",
    "- This particular quantum platform (ibmqx4) should work well for our circuit, where we'd prefer a good connectivity (many links) on one of the qubits (the ancilla)\n",
    "- Some of these IBM-based VQE papers report running on several platforms and \"splining\" the different solutions.\n",
    "- The paper by Dumitrescau et. al on deuteron binding energy uses a Luscher formalism to extrapolate the energy estimate on the quantum computer; could it be possible to find an extrapolation scheme for the weights of the variational-basis operators?"
   ]
  },
  {
   "cell_type": "markdown",
   "metadata": {},
   "source": [
    "## Wed 29/01/2020\n",
    "- Using code from Mathematica, I can, having defined variational-basis operators in the MC computational basis, use my explicit map to the QC basis to evalute the numerical form of each operator element-by-element: $\\langle n | O | m \\rangle$. I've done so for the case of a 2-spatial site system, where I can fit 3 operators.\n",
    "- Met with the hackathon team. Things are looking good. Chris is interested in putting the superposition circuit on quantum hardware and looking at the noise. At first glance, he said what we thought, too: there is nothing *eminently* wrong with the circuit setup :)"
   ]
  },
  {
   "cell_type": "code",
   "execution_count": null,
   "metadata": {},
   "outputs": [],
   "source": []
  },
  {
   "cell_type": "code",
   "execution_count": null,
   "metadata": {},
   "outputs": [],
   "source": []
  }
 ],
 "metadata": {
  "kernelspec": {
   "display_name": "Python (Qiskitenv)",
   "language": "python",
   "name": "qiskitenv"
  },
  "language_info": {
   "codemirror_mode": {
    "name": "ipython",
    "version": 3
   },
   "file_extension": ".py",
   "mimetype": "text/x-python",
   "name": "python",
   "nbconvert_exporter": "python",
   "pygments_lexer": "ipython3",
   "version": "3.6.0"
  }
 },
 "nbformat": 4,
 "nbformat_minor": 2
}
