{
 "cells": [
  {
   "cell_type": "markdown",
   "metadata": {},
   "source": [
    "# VQE with Qiskit\n",
    "\n",
    "This is the current version of my VQE. Ideally this should not be in a Jupyter notebook, of course. But this form is convenient to play with the different parts of the Qiskit's infrastructure and see how they work."
   ]
  },
  {
   "cell_type": "code",
   "execution_count": 1,
   "metadata": {},
   "outputs": [
    {
     "data": {
      "text/plain": [
       "<AccountProvider for IBMQ(hub='ibm-q', group='open', project='main')>"
      ]
     },
     "execution_count": 1,
     "metadata": {},
     "output_type": "execute_result"
    }
   ],
   "source": [
    "from qiskit import *\n",
    "import qiskit.tools.jupyter\n",
    "import numpy as np\n",
    "IBMQ.load_account()"
   ]
  },
  {
   "cell_type": "code",
   "execution_count": 2,
   "metadata": {},
   "outputs": [],
   "source": [
    "from qiskit.aqua.components.variational_forms import VariationalForm\n",
    "from qiskit.aqua.components.initial_states import Zero, VarFormBased\n",
    "from qiskit.aqua.operators import MatrixOperator, TPBGroupedWeightedPauliOperator\n",
    "from qiskit.aqua.operators.op_converter import to_tpb_grouped_weighted_pauli_operator\n",
    "from qiskit.aqua.components.optimizers import SPSA\n",
    "from qiskit.aqua.algorithms.adaptive import VQE"
   ]
  },
  {
   "cell_type": "code",
   "execution_count": 3,
   "metadata": {},
   "outputs": [],
   "source": [
    "from scipy.sparse import *\n",
    "from scipy import *"
   ]
  },
  {
   "cell_type": "markdown",
   "metadata": {},
   "source": [
    "## VQE Settings"
   ]
  },
  {
   "cell_type": "code",
   "execution_count": 4,
   "metadata": {},
   "outputs": [],
   "source": [
    "num_qubits = 2"
   ]
  },
  {
   "cell_type": "markdown",
   "metadata": {},
   "source": [
    "## Variational Form"
   ]
  },
  {
   "cell_type": "code",
   "execution_count": 5,
   "metadata": {},
   "outputs": [],
   "source": [
    "num_var_params = 3\n",
    "var_form_depth = 1\n",
    "optimal_params = [-0.386244, 0.317799, -0.416888]\n",
    "initial_params = [0.0, 0.0, 0.0]\n",
    "var_form_depth2 = 2\n",
    "initial_params2 = [0.0, 0.0, 0.0, 0.0, 0.0, 0.0]"
   ]
  },
  {
   "cell_type": "code",
   "execution_count": 6,
   "metadata": {},
   "outputs": [],
   "source": [
    "class SchwingerAnsatz(VariationalForm):\n",
    "    \"\"\" Variational Layer from Martin's Paper \"\"\"\n",
    "    \n",
    "    CONFIGURATION = {\n",
    "        'name': 'Schwinger Ansatz',\n",
    "        'description': 'Variational Form for Schwinger VQE',\n",
    "        'input_schema': {\n",
    "            '$schema': 'http://json-schema.org/draft-07/schema#',\n",
    "            'id': 'schwinger_schema',\n",
    "            'type': 'object',\n",
    "            'properties': {\n",
    "                'depth': {\n",
    "                    'type': 'integer',\n",
    "                    'default': 3,\n",
    "                    'minimum': 1\n",
    "                },\n",
    "                'entangler_map': {\n",
    "                    'type': ['array', 'null'],\n",
    "                    'default': None\n",
    "                },\n",
    "                'entanglement_gate': {\n",
    "                    'type': 'string',\n",
    "                    'default': 'cx',\n",
    "                    'enum': ['cx']\n",
    "                },\n",
    "            },\n",
    "            'additionalProperties': False\n",
    "        },\n",
    "        'depends': [\n",
    "            {\n",
    "                'pluggable_type': 'initial_state',\n",
    "                'default': {\n",
    "                    'name': 'ZERO',\n",
    "                }\n",
    "            },\n",
    "        ],\n",
    "    }\n",
    "    \n",
    "    def __init__(self, depth=3, entangler_map=None, initial_state=None):\n",
    "        \"\"\"\n",
    "        Constructor.\n",
    "        Args:\n",
    "            depth (int) : number of rotation layers\n",
    "            entangler_map (list[list]): describe the connectivity of qubits, each list describes\n",
    "                             [source, target], or None for full entanglement.\n",
    "                             Note that the order is the list is the order of\n",
    "                             applying the two-qubit gate.\n",
    "            initial_state (InitialState): an initial state object\n",
    "        \"\"\"\n",
    "        self.validate(locals())\n",
    "        super().__init__()\n",
    "        #_support_parameterized_circuit = True\n",
    "        # hard-coded, first pass through FIXME\n",
    "        num_qubits = 2\n",
    "        num_parameters = 3\n",
    "        entanglement='full'\n",
    "        entanglement_gate='cx'\n",
    "        skip_unentangled_qubits = False\n",
    "        self._num_qubits = num_qubits \n",
    "        self._depth = depth\n",
    "        if entangler_map is None:\n",
    "            self._entangler_map = VariationalForm.get_entangler_map(entanglement, num_qubits)\n",
    "        else:\n",
    "            self._entangler_map = VariationalForm.validate_entangler_map(entangler_map, num_qubits)\n",
    "        # determine the entangled qubits\n",
    "        all_qubits = []\n",
    "        for src, targ in self._entangler_map:\n",
    "            all_qubits.extend([src, targ])\n",
    "        self._entangled_qubits = sorted(list(set(all_qubits)))\n",
    "        self._initial_state = initial_state\n",
    "        self._entanglement_gate = entanglement_gate\n",
    "        self._skip_unentangled_qubits = skip_unentangled_qubits\n",
    "        # for the first layer\n",
    "        self._num_parameters = num_parameters\n",
    "        # for repeated block\n",
    "        self._num_parameters += num_parameters * (depth-1)\n",
    "        self._bounds = [(-np.pi, np.pi)] * self._num_parameters\n",
    "    \n",
    "    def construct_circuit(self, parameters, q=None):\n",
    "        \"\"\"\n",
    "        Construct the variational form, given its parameters.\n",
    "        \n",
    "        Args:\n",
    "            parameters (numpy.ndarray): circuit parameters\n",
    "            q (QuantumRegister): Quantum Register for the circuit.\n",
    "            \n",
    "        Returns:\n",
    "            QuantumCircuit: a quantum circuit with given `parameters`\n",
    "            \n",
    "        Raises:\n",
    "            ValueError: the number of parameters is incorrect.\n",
    "        \"\"\"\n",
    "        if len(parameters) != self._num_parameters:\n",
    "            raise ValueError('The number of parameters has to be {}'.format(self._num_parameters))\n",
    "        \n",
    "        if q is None:\n",
    "            q = QuantumRegister(self._num_qubits, name='q')\n",
    "        if self._initial_state is not None:\n",
    "            circuit = self._initial_state.construct_circuit('circuit', q)\n",
    "        else:\n",
    "            circuit = QuantumCircuit(q)\n",
    "        #\n",
    "        param_idx = 0\n",
    "        \n",
    "        def angle(theta=0., phi=0., lam=0.):\n",
    "            return [theta, phi, lam]\n",
    "\n",
    "        for _ in range(self._depth):\n",
    "            # get variational parameters for this layer\n",
    "            t0 = parameters[param_idx] # theta-angle values\n",
    "            t1 = parameters[param_idx+1]\n",
    "            t2 = parameters[param_idx+2]\n",
    "            t = [angle(t_i) for t_i in [t0, t1, t2]]\n",
    "            # Construct circuit\n",
    "            circuit.u3(*(t[1]), 0)  # u3(*angles, q)\n",
    "            circuit.u3(*(t[0]), 1)\n",
    "            circuit.cx(0, 1)        # entangling qubit cx(ctrl, tgt)\n",
    "            circuit.u3(*(t[0]), 1)\n",
    "            circuit.cx(0, 1)        # entangling qubit cx(ctrl, tgt)\n",
    "            circuit.u3(*(t[2]), 1)\n",
    "            circuit.barrier(q)\n",
    "\n",
    "        return circuit  "
   ]
  },
  {
   "cell_type": "code",
   "execution_count": 7,
   "metadata": {},
   "outputs": [
    {
     "data": {
      "image/png": "[encoded data removed]",
      "text/plain": [
       "<PIL.Image.Image image mode=RGB size=725x92 at 0x121884B70>"
      ]
     },
     "execution_count": 7,
     "metadata": {},
     "output_type": "execute_result"
    }
   ],
   "source": [
    "schwinger_form = SchwingerAnsatz(var_form_depth)\n",
    "vqs_circ = schwinger_form.construct_circuit(initial_params)\n",
    "vqs_circ.draw(output='latex', scale=0.5)"
   ]
  },
  {
   "cell_type": "markdown",
   "metadata": {},
   "source": [
    "## Initial State"
   ]
  },
  {
   "cell_type": "code",
   "execution_count": 8,
   "metadata": {},
   "outputs": [
    {
     "data": {
      "image/png": "[encoded data removed]",
      "text/plain": [
       "<PIL.Image.Image image mode=RGB size=136x50 at 0x1040CE630>"
      ]
     },
     "execution_count": 8,
     "metadata": {},
     "output_type": "execute_result"
    }
   ],
   "source": [
    "fiducial_state = Zero(num_qubits)\n",
    "fid_circ = fiducial_state.construct_circuit()\n",
    "fid_circ.draw(output='latex', scale=0.5)"
   ]
  },
  {
   "cell_type": "code",
   "execution_count": 9,
   "metadata": {},
   "outputs": [
    {
     "data": {
      "image/png": "[encoded data removed]",
      "text/plain": [
       "<PIL.Image.Image image mode=RGB size=725x92 at 0x12189B438>"
      ]
     },
     "execution_count": 9,
     "metadata": {},
     "output_type": "execute_result"
    }
   ],
   "source": [
    "var_form_wavefunction = VarFormBased(schwinger_form, initial_params)\n",
    "var_form_wavefunction.construct_circuit().draw(output='latex', scale=0.5)"
   ]
  },
  {
   "cell_type": "markdown",
   "metadata": {},
   "source": [
    "## Hamiltonian"
   ]
  },
  {
   "cell_type": "code",
   "execution_count": 1,
   "metadata": {},
   "outputs": [
    {
     "ename": "NameError",
     "evalue": "name 'np' is not defined",
     "output_type": "error",
     "traceback": [
      "\u001b[0;31m---------------------------------------------------------------------------\u001b[0m",
      "\u001b[0;31mNameError\u001b[0m                                 Traceback (most recent call last)",
      "\u001b[0;32m<ipython-input-1-4b484acfefe5>\u001b[0m in \u001b[0;36m<module>\u001b[0;34m\u001b[0m\n\u001b[1;32m      1\u001b[0m \u001b[0;31m# these correspond to L=2 spatial sites. They have slightly different truncations so that the dimensionality is the same.\u001b[0m\u001b[0;34m\u001b[0m\u001b[0;34m\u001b[0m\u001b[0m\n\u001b[1;32m      2\u001b[0m \u001b[0;34m\u001b[0m\u001b[0m\n\u001b[0;32m----> 3\u001b[0;31m h_even = np.array([\n\u001b[0m\u001b[1;32m      4\u001b[0m  \u001b[0;34m[\u001b[0m\u001b[0;34m-\u001b[0m\u001b[0;36m0.20036\u001b[0m\u001b[0;34m,\u001b[0m \u001b[0;36m1.19976\u001b[0m\u001b[0;34m,\u001b[0m \u001b[0;36m0.\u001b[0m\u001b[0;34m,\u001b[0m \u001b[0;36m0.\u001b[0m\u001b[0;34m]\u001b[0m\u001b[0;34m,\u001b[0m\u001b[0;34m\u001b[0m\u001b[0m\n\u001b[1;32m      5\u001b[0m  \u001b[0;34m[\u001b[0m\u001b[0;36m1.19976\u001b[0m\u001b[0;34m,\u001b[0m \u001b[0;36m1.\u001b[0m\u001b[0;34m,\u001b[0m \u001b[0;36m0.848358\u001b[0m\u001b[0;34m,\u001b[0m \u001b[0;36m0.\u001b[0m\u001b[0;34m]\u001b[0m\u001b[0;34m,\u001b[0m\u001b[0;34m\u001b[0m\u001b[0m\n",
      "\u001b[0;31mNameError\u001b[0m: name 'np' is not defined"
     ]
    }
   ],
   "source": [
    "# these correspond to L=2 spatial sites. \n",
    "# They have slightly different truncations so that the dimensions of the matrices are the same.\n",
    "\n",
    "h_even = np.array([\n",
    " [-0.20036, 1.19976, 0., 0.],\n",
    " [1.19976, 1., 0.848358, 0.],\n",
    " [0., 0.848358, 2.20036, 0.848358],\n",
    " [0., 0., 0.848358, 3.]\n",
    "])\n",
    "\n",
    "h_odd = np.array([\n",
    "    [1., 0.848358, 0., 0.],\n",
    "    [0.848358, 2.20036, -0.848358, 0.],\n",
    "    [0., -0.848358, 3., -0.848358],\n",
    "    [0., 0., -0.848358, 3.79964]\n",
    "])"
   ]
  },
  {
   "cell_type": "code",
   "execution_count": 30,
   "metadata": {},
   "outputs": [],
   "source": [
    "# this is a \"switch\" :)\n",
    "h = h_even\n",
    "# h = h_odd"
   ]
  },
  {
   "cell_type": "code",
   "execution_count": 66,
   "metadata": {},
   "outputs": [],
   "source": [
    "# Thread on qubit ordering in Qiskit\n",
    "# https://github.com/Qiskit/qiskit-terra/issues/1148"
   ]
  },
  {
   "cell_type": "code",
   "execution_count": 31,
   "metadata": {},
   "outputs": [
    {
     "name": "stdout",
     "output_type": "stream",
     "text": [
      "TPB: YY (2)\n",
      "II\t(1.5+0j)\n",
      "YY\t(0.424179+0j)\n",
      "TPB: XX (2)\n",
      "IX\t(1.0240589999999998+0j)\n",
      "XX\t(0.424179+0j)\n",
      "TPB: ZZ (3)\n",
      "IZ\t(-0.5+0j)\n",
      "ZI\t(-1.10018+0j)\n",
      "ZZ\t(-0.10017999999999999+0j)\n",
      "TPB: ZX (1)\n",
      "ZX\t(0.175701+0j)\n",
      "\n"
     ]
    }
   ],
   "source": [
    "H_mat = csr_matrix(h)\n",
    "H_MatrixOperator = MatrixOperator(H_mat)\n",
    "H_Operator = to_tpb_grouped_weighted_pauli_operator(H_MatrixOperator, \n",
    "                                                    TPBGroupedWeightedPauliOperator.sorted_grouping)\n",
    "print(H_Operator.print_details())"
   ]
  },
  {
   "cell_type": "code",
   "execution_count": 32,
   "metadata": {},
   "outputs": [],
   "source": [
    "operator_mode=None\n",
    "input_circuit=None\n",
    "backend=None\n",
    "qr=None\n",
    "cr=None\n",
    "use_simulator_operator_mode=False\n",
    "wave_function=fid_circ\n",
    "statevector_mode=True"
   ]
  },
  {
   "cell_type": "code",
   "execution_count": 33,
   "metadata": {},
   "outputs": [],
   "source": [
    "H_circs = H_Operator.construct_evaluation_circuit(operator_mode,\n",
    "                                        input_circuit,\n",
    "                                        backend,\n",
    "                                        qr,\n",
    "                                        cr,\n",
    "                                        use_simulator_operator_mode,\n",
    "                                        wave_function,\n",
    "                                        statevector_mode)"
   ]
  },
  {
   "cell_type": "code",
   "execution_count": 34,
   "metadata": {},
   "outputs": [
    {
     "data": {
      "image/png": "[encoded data removed]",
      "text/plain": [
       "<PIL.Image.Image image mode=RGB size=136x50 at 0x121911438>"
      ]
     },
     "execution_count": 34,
     "metadata": {},
     "output_type": "execute_result"
    }
   ],
   "source": [
    "H_circs[0].draw(output='latex', scale=0.5)"
   ]
  },
  {
   "cell_type": "code",
   "execution_count": 35,
   "metadata": {},
   "outputs": [
    {
     "data": {
      "image/png": "[encoded data removed]",
      "text/plain": [
       "<PIL.Image.Image image mode=RGB size=326x100 at 0x1219E3828>"
      ]
     },
     "execution_count": 35,
     "metadata": {},
     "output_type": "execute_result"
    }
   ],
   "source": [
    "H_circs[1].draw(output='latex', scale=0.5)"
   ]
  },
  {
   "cell_type": "markdown",
   "metadata": {},
   "source": [
    "## Optimizer"
   ]
  },
  {
   "cell_type": "code",
   "execution_count": 36,
   "metadata": {},
   "outputs": [
    {
     "name": "stdout",
     "output_type": "stream",
     "text": [
      "Optimizer: SPSA\n",
      "-- gradient_support_level: 1\n",
      "-- bounds_support_level: 1\n",
      "-- initial_point_support_level: 3\n",
      "-- options: {'last_avg': 1, 'save_steps': 1}\n",
      "-- max_evals_grouped: 1\n",
      "-- max_trials: 500\n",
      "-- parameters: [0.62831853 0.1        0.602      0.101      0.        ]\n",
      "-- skip_calibration: False\n",
      "\n"
     ]
    }
   ],
   "source": [
    "max_trials = 500\n",
    "optimizer = qiskit.aqua.components.optimizers.SPSA(max_trials)\n",
    "print(optimizer.setting) "
   ]
  },
  {
   "cell_type": "markdown",
   "metadata": {},
   "source": [
    "## Variational Quantum Simulation\n",
    "### Extend VQE class to incude statistics in results, or find a way to retrieve statistics from the existing class\n",
    "\n",
    "Q: where is the counts object in the existing class?"
   ]
  },
  {
   "cell_type": "code",
   "execution_count": 37,
   "metadata": {},
   "outputs": [],
   "source": [
    "# a callback that can access the intermediate data \n",
    "# during the optimization.\n",
    "# Internally, four arguments are provided as follows \n",
    "# the index of evaluation, parameters of variational form,\n",
    "# evaluated mean, evaluated standard deviation.\n",
    "def simple_callback(eval_count, parameter_set, mean, std):\n",
    "    if eval_count % 1 == 0:\n",
    "        print('Energy evaluation %s returned %4f +/- %4f' % (eval_count, np.real(mean), np.real(std)))"
   ]
  },
  {
   "cell_type": "code",
   "execution_count": 38,
   "metadata": {},
   "outputs": [],
   "source": [
    "# classVQE(operator, var_form, optimizer, \n",
    "# operator_mode=None, initial_point=None, \n",
    "# max_evals_grouped=1, \n",
    "# aux_operators=None, callback=None, \n",
    "# auto_conversion=True)\n",
    "operator_mode = None\n",
    "initial_point = initial_params\n",
    "max_evals_grouped=1              # max number of evaluations performed simultaneously\n",
    "aux_operators = None\n",
    "auto_conversion=False\n",
    "sim = VQE(H_Operator, schwinger_form, optimizer,\n",
    "          operator_mode,\n",
    "          initial_point, \n",
    "          max_evals_grouped, \n",
    "          aux_operators, \n",
    "          simple_callback, \n",
    "          auto_conversion)"
   ]
  },
  {
   "cell_type": "code",
   "execution_count": 39,
   "metadata": {},
   "outputs": [],
   "source": [
    "backend = None\n",
    "use_simulator_operator_mode=False\n",
    "statevector_mode=True"
   ]
  },
  {
   "cell_type": "code",
   "execution_count": 40,
   "metadata": {},
   "outputs": [],
   "source": [
    "sim_circs = sim.construct_circuit(initial_params, backend, use_simulator_operator_mode, statevector_mode)"
   ]
  },
  {
   "cell_type": "code",
   "execution_count": 41,
   "metadata": {},
   "outputs": [
    {
     "data": {
      "image/png": "[encoded data removed]",
      "text/plain": [
       "<PIL.Image.Image image mode=RGB size=903x92 at 0x121998588>"
      ]
     },
     "execution_count": 41,
     "metadata": {},
     "output_type": "execute_result"
    }
   ],
   "source": [
    "sim_circs[2].draw(output='latex', scale=0.5)"
   ]
  },
  {
   "cell_type": "code",
   "execution_count": 42,
   "metadata": {},
   "outputs": [],
   "source": [
    "backend_sim = Aer.get_backend('qasm_simulator')"
   ]
  },
  {
   "cell_type": "code",
   "execution_count": 43,
   "metadata": {},
   "outputs": [],
   "source": [
    "from qiskit.aqua import QuantumInstance\n",
    "nshots = 1024\n",
    "my_quantum_instance = QuantumInstance(backend_sim, nshots)"
   ]
  },
  {
   "cell_type": "code",
   "execution_count": 44,
   "metadata": {},
   "outputs": [
    {
     "name": "stdout",
     "output_type": "stream",
     "text": [
      "\n",
      "Qiskit Terra version: 0.10.0\n",
      "Backend: 'qasm_simulator (AerProvider)', with following setting:\n",
      "{'basis_gates': ['u1', 'u2', 'u3', 'cx', 'cz', 'cu1', 'id', 'x', 'y', 'z', 'h', 's', 'sdg', 't', 'tdg', 'ccx', 'swap', 'multiplexer', 'snapshot', 'unitary', 'reset', 'initialize', 'kraus', 'roerror'], 'coupling_map': None}\n",
      "{'pass_manager': None, 'initial_layout': None, 'seed_transpiler': None, 'optimization_level': None}\n",
      "RunConfig(max_credits=10, shots=1024)\n",
      "{'timeout': None}\n",
      "{}\n",
      "{}\n",
      "Measurement mitigation: None\n"
     ]
    }
   ],
   "source": [
    "print(my_quantum_instance)"
   ]
  },
  {
   "cell_type": "code",
   "execution_count": 45,
   "metadata": {},
   "outputs": [
    {
     "name": "stdout",
     "output_type": "stream",
     "text": [
      "\n",
      "==================== Setting of VQE ============================\n",
      "Algorithm: VQE\n",
      "-- quantum_instance: None\n",
      "-- var_form: <__main__.SchwingerAnsatz object at 0x120fcb908>\n",
      "-- optimizer: <qiskit.aqua.components.optimizers.spsa.SPSA object at 0x12189b400>\n",
      "-- cost_fn: <bound method VQE._energy_evaluation of <qiskit.aqua.algorithms.adaptive.vqe.vqe.VQE object at 0x122da8c88>>\n",
      "-- initial_point: [0.0, 0.0, 0.0]\n",
      "-- callback: <function simple_callback at 0x121906048>\n",
      "-- operator: : Representation: tpb grouped paulis, qubits: 2, size: 8, group: 4\n",
      "-- eval_count: 0\n",
      "-- aux_operators: []\n",
      "-- auto_conversion: False\n",
      "===============================================================\n",
      "Variational Form: Schwinger Ansatz\n",
      "-- num_parameters: 3\n",
      "-- num_qubits: 2\n",
      "-- bounds: [(-3.141592653589793, 3.141592653589793), (-3.141592653589793, 3.141592653589793), (-3.141592653589793, 3.141592653589793)]\n",
      "-- depth: 1\n",
      "-- entangler_map: [[0, 1]]\n",
      "-- entangled_qubits: [0, 1]\n",
      "-- initial_state: None\n",
      "-- entanglement_gate: cx\n",
      "-- skip_unentangled_qubits: False\n",
      "===============================================================\n",
      "Optimizer: SPSA\n",
      "-- gradient_support_level: 1\n",
      "-- bounds_support_level: 1\n",
      "-- initial_point_support_level: 3\n",
      "-- options: {'last_avg': 1, 'save_steps': 1}\n",
      "-- max_evals_grouped: 1\n",
      "-- max_trials: 500\n",
      "-- parameters: [0.62831853 0.1        0.602      0.101      0.        ]\n",
      "-- skip_calibration: False\n",
      "===============================================================\n",
      "\n"
     ]
    }
   ],
   "source": [
    "print(sim.print_settings())"
   ]
  },
  {
   "cell_type": "code",
   "execution_count": 46,
   "metadata": {},
   "outputs": [
    {
     "name": "stdout",
     "output_type": "stream",
     "text": [
      "Energy evaluation 1 returned -0.312960 +/- 0.039092\n",
      "Energy evaluation 2 returned -0.101098 +/- 0.037014\n",
      "Energy evaluation 3 returned -0.043640 +/- 0.036914\n",
      "Energy evaluation 4 returned -0.359775 +/- 0.038585\n",
      "Energy evaluation 5 returned -0.081191 +/- 0.038695\n",
      "Energy evaluation 6 returned -0.348835 +/- 0.035769\n",
      "Energy evaluation 7 returned -0.307141 +/- 0.038924\n",
      "Energy evaluation 8 returned -0.093443 +/- 0.035949\n",
      "Energy evaluation 9 returned -0.002269 +/- 0.036172\n",
      "Energy evaluation 10 returned -0.235246 +/- 0.042387\n",
      "Energy evaluation 11 returned -0.256707 +/- 0.041350\n",
      "Energy evaluation 12 returned -0.078893 +/- 0.035675\n",
      "Energy evaluation 13 returned -0.275174 +/- 0.038760\n",
      "Energy evaluation 14 returned -0.033440 +/- 0.036243\n",
      "Energy evaluation 15 returned -0.231284 +/- 0.036018\n",
      "Energy evaluation 16 returned 0.039395 +/- 0.041877\n",
      "Energy evaluation 17 returned -0.287118 +/- 0.041816\n",
      "Energy evaluation 18 returned -0.022548 +/- 0.035968\n",
      "Energy evaluation 19 returned -0.372349 +/- 0.038444\n",
      "Energy evaluation 20 returned -0.054136 +/- 0.036423\n",
      "Energy evaluation 21 returned -0.279577 +/- 0.038189\n",
      "Energy evaluation 22 returned -0.069557 +/- 0.036574\n",
      "Energy evaluation 23 returned -0.293898 +/- 0.035746\n",
      "Energy evaluation 24 returned -0.051864 +/- 0.038413\n",
      "Energy evaluation 25 returned -0.020145 +/- 0.042208\n",
      "Energy evaluation 26 returned -0.263310 +/- 0.036076\n",
      "Energy evaluation 27 returned -0.012595 +/- 0.041776\n",
      "Energy evaluation 28 returned -0.315522 +/- 0.035135\n",
      "Energy evaluation 29 returned -0.069131 +/- 0.035593\n",
      "Energy evaluation 30 returned -0.221961 +/- 0.042045\n",
      "Energy evaluation 31 returned -0.379086 +/- 0.039037\n",
      "Energy evaluation 32 returned -0.103478 +/- 0.036053\n",
      "Energy evaluation 33 returned -0.052187 +/- 0.036640\n",
      "Energy evaluation 34 returned -0.367466 +/- 0.038833\n",
      "Energy evaluation 35 returned -0.276772 +/- 0.038689\n",
      "Energy evaluation 36 returned -0.083900 +/- 0.036685\n",
      "Energy evaluation 37 returned -0.051282 +/- 0.034983\n",
      "Energy evaluation 38 returned -0.354416 +/- 0.042629\n",
      "Energy evaluation 39 returned -0.051569 +/- 0.036370\n",
      "Energy evaluation 40 returned -0.363431 +/- 0.038795\n",
      "Energy evaluation 41 returned -0.201897 +/- 0.036259\n",
      "Energy evaluation 42 returned -0.045010 +/- 0.042686\n",
      "Energy evaluation 43 returned 0.006635 +/- 0.035976\n",
      "Energy evaluation 44 returned -0.266805 +/- 0.041551\n",
      "Energy evaluation 45 returned -0.320742 +/- 0.036981\n",
      "Energy evaluation 46 returned -0.104955 +/- 0.039287\n",
      "Energy evaluation 47 returned -0.034102 +/- 0.036669\n",
      "Energy evaluation 48 returned -0.333926 +/- 0.038507\n",
      "Energy evaluation 49 returned -0.022155 +/- 0.035024\n",
      "Energy evaluation 50 returned -0.227926 +/- 0.042526\n",
      "Energy evaluation 51 returned -0.028327 +/- 0.041508\n",
      "Energy evaluation 52 returned -0.250671 +/- 0.034955\n",
      "Energy evaluation 53 returned 1.349187 +/- 0.040811\n",
      "Energy evaluation 54 returned 0.620355 +/- 0.042716\n",
      "Energy evaluation 55 returned 2.570584 +/- 0.048432\n",
      "Energy evaluation 56 returned 2.682450 +/- 0.047096\n",
      "Energy evaluation 57 returned 2.591087 +/- 0.045235\n",
      "Energy evaluation 58 returned 2.612538 +/- 0.049016\n",
      "Energy evaluation 59 returned 2.559555 +/- 0.045786\n",
      "Energy evaluation 60 returned 2.587850 +/- 0.047842\n",
      "Energy evaluation 61 returned 2.614616 +/- 0.042134\n",
      "Energy evaluation 62 returned 2.464068 +/- 0.050308\n",
      "Energy evaluation 63 returned 2.534611 +/- 0.048834\n",
      "Energy evaluation 64 returned 2.237622 +/- 0.052646\n",
      "Energy evaluation 65 returned 2.014413 +/- 0.049865\n",
      "Energy evaluation 66 returned 1.740756 +/- 0.041609\n",
      "Energy evaluation 67 returned 1.754901 +/- 0.034260\n",
      "Energy evaluation 68 returned 1.323249 +/- 0.030508\n",
      "Energy evaluation 69 returned 0.919285 +/- 0.037328\n",
      "Energy evaluation 70 returned 0.915573 +/- 0.032361\n",
      "Energy evaluation 71 returned 1.028265 +/- 0.035851\n",
      "Energy evaluation 72 returned 0.727165 +/- 0.033748\n",
      "Energy evaluation 73 returned 0.634489 +/- 0.033912\n",
      "Energy evaluation 74 returned 0.601939 +/- 0.039194\n",
      "Energy evaluation 75 returned 0.705329 +/- 0.033003\n",
      "Energy evaluation 76 returned 0.625682 +/- 0.040734\n",
      "Energy evaluation 77 returned 0.588252 +/- 0.035402\n",
      "Energy evaluation 78 returned 0.613430 +/- 0.043637\n",
      "Energy evaluation 79 returned 0.791844 +/- 0.041632\n",
      "Energy evaluation 80 returned 0.442632 +/- 0.036167\n",
      "Energy evaluation 81 returned 0.265668 +/- 0.035537\n",
      "Energy evaluation 82 returned 0.309409 +/- 0.035655\n",
      "Energy evaluation 83 returned 0.267479 +/- 0.034242\n",
      "Energy evaluation 84 returned 0.267578 +/- 0.037904\n",
      "Energy evaluation 85 returned 0.250501 +/- 0.037806\n",
      "Energy evaluation 86 returned 0.268440 +/- 0.035225\n",
      "Energy evaluation 87 returned 0.254752 +/- 0.035236\n",
      "Energy evaluation 88 returned 0.243608 +/- 0.037936\n",
      "Energy evaluation 89 returned 0.281812 +/- 0.035750\n",
      "Energy evaluation 90 returned 0.169398 +/- 0.036513\n",
      "Energy evaluation 91 returned 0.416818 +/- 0.036685\n",
      "Energy evaluation 92 returned 0.066605 +/- 0.036125\n",
      "Energy evaluation 93 returned -0.075469 +/- 0.035505\n",
      "Energy evaluation 94 returned -0.016082 +/- 0.037019\n",
      "Energy evaluation 95 returned -0.063717 +/- 0.035739\n",
      "Energy evaluation 96 returned -0.132798 +/- 0.035726\n",
      "Energy evaluation 97 returned -0.247681 +/- 0.036246\n",
      "Energy evaluation 98 returned 0.056707 +/- 0.036645\n",
      "Energy evaluation 99 returned -0.410154 +/- 0.038440\n",
      "Energy evaluation 100 returned -0.170610 +/- 0.041300\n",
      "Energy evaluation 101 returned -0.366600 +/- 0.041062\n",
      "Energy evaluation 102 returned -0.525264 +/- 0.034943\n",
      "Energy evaluation 103 returned -0.356009 +/- 0.036118\n",
      "Energy evaluation 104 returned -0.566630 +/- 0.036166\n",
      "Energy evaluation 105 returned -0.687630 +/- 0.035046\n",
      "Energy evaluation 106 returned -0.650131 +/- 0.038239\n",
      "Energy evaluation 107 returned -0.657521 +/- 0.038517\n",
      "Energy evaluation 108 returned -0.710955 +/- 0.034448\n",
      "Energy evaluation 109 returned -0.678339 +/- 0.034277\n",
      "Energy evaluation 110 returned -0.638260 +/- 0.039844\n",
      "Energy evaluation 111 returned -0.591977 +/- 0.039108\n",
      "Energy evaluation 112 returned -0.631995 +/- 0.034392\n",
      "Energy evaluation 113 returned -0.641127 +/- 0.034856\n",
      "Energy evaluation 114 returned -0.784877 +/- 0.034678\n",
      "Energy evaluation 115 returned -0.787135 +/- 0.037376\n",
      "Energy evaluation 116 returned -0.664304 +/- 0.033857\n",
      "Energy evaluation 117 returned -0.740824 +/- 0.038627\n",
      "Energy evaluation 118 returned -0.887085 +/- 0.034406\n",
      "Energy evaluation 119 returned -0.823423 +/- 0.036056\n",
      "Energy evaluation 120 returned -0.829502 +/- 0.033468\n",
      "Energy evaluation 121 returned -0.957112 +/- 0.034484\n",
      "Energy evaluation 122 returned -0.790902 +/- 0.034582\n",
      "Energy evaluation 123 returned -0.950828 +/- 0.036935\n",
      "Energy evaluation 124 returned -0.790019 +/- 0.032883\n",
      "Energy evaluation 125 returned -0.948288 +/- 0.032379\n",
      "Energy evaluation 126 returned -0.849379 +/- 0.041408\n",
      "Energy evaluation 127 returned -0.841878 +/- 0.037722\n",
      "Energy evaluation 128 returned -1.000322 +/- 0.031970\n",
      "Energy evaluation 129 returned -0.909729 +/- 0.036597\n",
      "Energy evaluation 130 returned -0.953236 +/- 0.030034\n",
      "Energy evaluation 131 returned -0.912031 +/- 0.031848\n",
      "Energy evaluation 132 returned -1.032702 +/- 0.031005\n",
      "Energy evaluation 133 returned -0.995419 +/- 0.030134\n",
      "Energy evaluation 134 returned -1.006104 +/- 0.032599\n",
      "Energy evaluation 135 returned -0.905992 +/- 0.030214\n",
      "Energy evaluation 136 returned -0.890340 +/- 0.037083\n",
      "Energy evaluation 137 returned -0.927780 +/- 0.032455\n",
      "Energy evaluation 138 returned -0.977937 +/- 0.032427\n",
      "Energy evaluation 139 returned -0.982215 +/- 0.029453\n",
      "Energy evaluation 140 returned -0.990033 +/- 0.035036\n",
      "Energy evaluation 141 returned -0.969610 +/- 0.034501\n",
      "Energy evaluation 142 returned -0.922128 +/- 0.031436\n",
      "Energy evaluation 143 returned -0.901352 +/- 0.031787\n",
      "Energy evaluation 144 returned -1.053021 +/- 0.031878\n",
      "Energy evaluation 145 returned -0.939138 +/- 0.035894\n",
      "Energy evaluation 146 returned -0.960393 +/- 0.032580\n",
      "Energy evaluation 147 returned -0.936145 +/- 0.035481\n",
      "Energy evaluation 148 returned -0.926796 +/- 0.033102\n",
      "Energy evaluation 149 returned -1.004352 +/- 0.033089\n",
      "Energy evaluation 150 returned -1.003607 +/- 0.033265\n",
      "Energy evaluation 151 returned -0.914521 +/- 0.037732\n",
      "Energy evaluation 152 returned -0.986677 +/- 0.030830\n",
      "Energy evaluation 153 returned -0.988704 +/- 0.029859\n",
      "Energy evaluation 154 returned -0.982692 +/- 0.035747\n",
      "Energy evaluation 155 returned -0.979816 +/- 0.035213\n"
     ]
    },
    {
     "name": "stdout",
     "output_type": "stream",
     "text": [
      "Energy evaluation 156 returned -0.977754 +/- 0.030779\n",
      "Energy evaluation 157 returned -0.972822 +/- 0.033547\n",
      "Energy evaluation 158 returned -0.989923 +/- 0.031149\n",
      "Energy evaluation 159 returned -0.977630 +/- 0.030004\n",
      "Energy evaluation 160 returned -0.966276 +/- 0.036104\n",
      "Energy evaluation 161 returned -1.032474 +/- 0.032505\n",
      "Energy evaluation 162 returned -0.995728 +/- 0.032235\n",
      "Energy evaluation 163 returned -0.978751 +/- 0.031491\n",
      "Energy evaluation 164 returned -0.928298 +/- 0.034838\n",
      "Energy evaluation 165 returned -0.951703 +/- 0.036331\n",
      "Energy evaluation 166 returned -0.964104 +/- 0.028656\n",
      "Energy evaluation 167 returned -0.994273 +/- 0.031479\n",
      "Energy evaluation 168 returned -1.013213 +/- 0.031778\n",
      "Energy evaluation 169 returned -0.958846 +/- 0.030172\n",
      "Energy evaluation 170 returned -0.997140 +/- 0.034054\n",
      "Energy evaluation 171 returned -0.971058 +/- 0.031765\n",
      "Energy evaluation 172 returned -0.984947 +/- 0.033022\n",
      "Energy evaluation 173 returned -0.944092 +/- 0.030647\n",
      "Energy evaluation 174 returned -1.038609 +/- 0.032930\n",
      "Energy evaluation 175 returned -0.989096 +/- 0.032974\n",
      "Energy evaluation 176 returned -0.986434 +/- 0.033572\n",
      "Energy evaluation 177 returned -0.950014 +/- 0.035470\n",
      "Energy evaluation 178 returned -0.979397 +/- 0.031114\n",
      "Energy evaluation 179 returned -1.011473 +/- 0.033000\n",
      "Energy evaluation 180 returned -1.011603 +/- 0.031860\n",
      "Energy evaluation 181 returned -0.913095 +/- 0.032865\n",
      "Energy evaluation 182 returned -0.978199 +/- 0.034696\n",
      "Energy evaluation 183 returned -1.018628 +/- 0.031265\n",
      "Energy evaluation 184 returned -0.992526 +/- 0.034300\n",
      "Energy evaluation 185 returned -1.046886 +/- 0.030722\n",
      "Energy evaluation 186 returned -0.886042 +/- 0.034984\n",
      "Energy evaluation 187 returned -0.966339 +/- 0.030175\n",
      "Energy evaluation 188 returned -0.960467 +/- 0.033775\n",
      "Energy evaluation 189 returned -0.930149 +/- 0.034381\n",
      "Energy evaluation 190 returned -0.958703 +/- 0.030430\n",
      "Energy evaluation 191 returned -0.986572 +/- 0.028738\n",
      "Energy evaluation 192 returned -0.943823 +/- 0.035405\n",
      "Energy evaluation 193 returned -1.009810 +/- 0.031914\n",
      "Energy evaluation 194 returned -0.965547 +/- 0.030420\n",
      "Energy evaluation 195 returned -0.957103 +/- 0.029246\n",
      "Energy evaluation 196 returned -1.009444 +/- 0.034413\n",
      "Energy evaluation 197 returned -0.972848 +/- 0.034906\n",
      "Energy evaluation 198 returned -0.935121 +/- 0.029968\n",
      "Energy evaluation 199 returned -1.000996 +/- 0.035776\n",
      "Energy evaluation 200 returned -1.000516 +/- 0.029058\n",
      "Energy evaluation 201 returned -1.003080 +/- 0.031115\n",
      "Energy evaluation 202 returned -0.998858 +/- 0.032661\n",
      "Energy evaluation 203 returned -0.960264 +/- 0.030210\n",
      "Energy evaluation 204 returned -0.989510 +/- 0.035551\n",
      "Energy evaluation 205 returned -0.986948 +/- 0.032593\n",
      "Energy evaluation 206 returned -0.994093 +/- 0.033000\n",
      "Energy evaluation 207 returned -1.027977 +/- 0.032425\n",
      "Energy evaluation 208 returned -0.966266 +/- 0.033260\n",
      "Energy evaluation 209 returned -0.950201 +/- 0.034190\n",
      "Energy evaluation 210 returned -0.973517 +/- 0.031061\n",
      "Energy evaluation 211 returned -0.959443 +/- 0.030282\n",
      "Energy evaluation 212 returned -0.972456 +/- 0.035244\n",
      "Energy evaluation 213 returned -0.982941 +/- 0.035733\n",
      "Energy evaluation 214 returned -0.962848 +/- 0.031680\n",
      "Energy evaluation 215 returned -0.958869 +/- 0.032877\n",
      "Energy evaluation 216 returned -0.987785 +/- 0.033938\n",
      "Energy evaluation 217 returned -0.951387 +/- 0.034380\n",
      "Energy evaluation 218 returned -0.992357 +/- 0.033356\n",
      "Energy evaluation 219 returned -0.957125 +/- 0.032964\n",
      "Energy evaluation 220 returned -0.990546 +/- 0.034452\n",
      "Energy evaluation 221 returned -1.016796 +/- 0.033051\n",
      "Energy evaluation 222 returned -0.992304 +/- 0.033841\n",
      "Energy evaluation 223 returned -0.964695 +/- 0.032556\n",
      "Energy evaluation 224 returned -0.946636 +/- 0.036540\n",
      "Energy evaluation 225 returned -1.004331 +/- 0.031317\n",
      "Energy evaluation 226 returned -0.982939 +/- 0.034916\n",
      "Energy evaluation 227 returned -0.993363 +/- 0.034851\n",
      "Energy evaluation 228 returned -1.008175 +/- 0.031736\n",
      "Energy evaluation 229 returned -0.995127 +/- 0.031936\n",
      "Energy evaluation 230 returned -0.958882 +/- 0.035453\n",
      "Energy evaluation 231 returned -0.933341 +/- 0.035615\n",
      "Energy evaluation 232 returned -0.990002 +/- 0.030798\n",
      "Energy evaluation 233 returned -0.984740 +/- 0.034282\n",
      "Energy evaluation 234 returned -1.021059 +/- 0.030905\n",
      "Energy evaluation 235 returned -1.008940 +/- 0.031189\n",
      "Energy evaluation 236 returned -0.932738 +/- 0.034105\n",
      "Energy evaluation 237 returned -0.999385 +/- 0.030648\n",
      "Energy evaluation 238 returned -1.031410 +/- 0.031251\n",
      "Energy evaluation 239 returned -1.071874 +/- 0.029266\n",
      "Energy evaluation 240 returned -0.971366 +/- 0.034303\n",
      "Energy evaluation 241 returned -1.014428 +/- 0.033576\n",
      "Energy evaluation 242 returned -0.974511 +/- 0.029729\n",
      "Energy evaluation 243 returned -0.965787 +/- 0.033989\n",
      "Energy evaluation 244 returned -1.001037 +/- 0.029878\n",
      "Energy evaluation 245 returned -1.016222 +/- 0.033337\n",
      "Energy evaluation 246 returned -0.979427 +/- 0.028394\n",
      "Energy evaluation 247 returned -1.000765 +/- 0.032946\n",
      "Energy evaluation 248 returned -0.986574 +/- 0.030223\n",
      "Energy evaluation 249 returned -0.966048 +/- 0.030173\n",
      "Energy evaluation 250 returned -0.951229 +/- 0.034302\n",
      "Energy evaluation 251 returned -0.936098 +/- 0.030926\n",
      "Energy evaluation 252 returned -1.059215 +/- 0.032599\n",
      "Energy evaluation 253 returned -1.016551 +/- 0.030404\n",
      "Energy evaluation 254 returned -1.045766 +/- 0.033647\n",
      "Energy evaluation 255 returned -1.014421 +/- 0.033886\n",
      "Energy evaluation 256 returned -1.000519 +/- 0.030864\n",
      "Energy evaluation 257 returned -0.988957 +/- 0.030284\n",
      "Energy evaluation 258 returned -0.961813 +/- 0.036580\n",
      "Energy evaluation 259 returned -0.987085 +/- 0.033984\n",
      "Energy evaluation 260 returned -1.014332 +/- 0.030347\n",
      "Energy evaluation 261 returned -0.949958 +/- 0.034291\n",
      "Energy evaluation 262 returned -0.930763 +/- 0.031500\n",
      "Energy evaluation 263 returned -0.952544 +/- 0.031666\n",
      "Energy evaluation 264 returned -0.916802 +/- 0.034290\n",
      "Energy evaluation 265 returned -0.961361 +/- 0.033055\n",
      "Energy evaluation 266 returned -0.975222 +/- 0.032397\n",
      "Energy evaluation 267 returned -1.000560 +/- 0.032219\n",
      "Energy evaluation 268 returned -1.011482 +/- 0.032433\n",
      "Energy evaluation 269 returned -1.018711 +/- 0.032341\n",
      "Energy evaluation 270 returned -0.969989 +/- 0.031070\n",
      "Energy evaluation 271 returned -1.004249 +/- 0.032739\n",
      "Energy evaluation 272 returned -1.000857 +/- 0.032147\n",
      "Energy evaluation 273 returned -0.982145 +/- 0.032231\n",
      "Energy evaluation 274 returned -0.963525 +/- 0.033555\n",
      "Energy evaluation 275 returned -0.965406 +/- 0.034944\n",
      "Energy evaluation 276 returned -0.974764 +/- 0.031193\n",
      "Energy evaluation 277 returned -1.007396 +/- 0.031198\n",
      "Energy evaluation 278 returned -0.952251 +/- 0.033106\n",
      "Energy evaluation 279 returned -0.971938 +/- 0.032878\n",
      "Energy evaluation 280 returned -0.996970 +/- 0.032135\n",
      "Energy evaluation 281 returned -1.057311 +/- 0.028851\n",
      "Energy evaluation 282 returned -1.054224 +/- 0.033127\n",
      "Energy evaluation 283 returned -0.973065 +/- 0.033764\n",
      "Energy evaluation 284 returned -0.995916 +/- 0.030335\n",
      "Energy evaluation 285 returned -1.013060 +/- 0.029412\n",
      "Energy evaluation 286 returned -0.955700 +/- 0.035520\n",
      "Energy evaluation 287 returned -1.038589 +/- 0.029736\n",
      "Energy evaluation 288 returned -0.988555 +/- 0.033303\n",
      "Energy evaluation 289 returned -1.019940 +/- 0.032103\n",
      "Energy evaluation 290 returned -0.973226 +/- 0.030499\n",
      "Energy evaluation 291 returned -1.001944 +/- 0.029158\n",
      "Energy evaluation 292 returned -1.014805 +/- 0.032096\n",
      "Energy evaluation 293 returned -1.051932 +/- 0.032051\n",
      "Energy evaluation 294 returned -1.011401 +/- 0.029580\n",
      "Energy evaluation 295 returned -0.991578 +/- 0.027796\n",
      "Energy evaluation 296 returned -0.997336 +/- 0.035106\n",
      "Energy evaluation 297 returned -1.035077 +/- 0.030736\n",
      "Energy evaluation 298 returned -1.068231 +/- 0.030155\n",
      "Energy evaluation 299 returned -1.012571 +/- 0.032350\n",
      "Energy evaluation 300 returned -0.989392 +/- 0.030903\n",
      "Energy evaluation 301 returned -1.050393 +/- 0.033515\n",
      "Energy evaluation 302 returned -1.018043 +/- 0.029795\n",
      "Energy evaluation 303 returned -1.018460 +/- 0.028957\n",
      "Energy evaluation 304 returned -1.003807 +/- 0.034760\n",
      "Energy evaluation 305 returned -0.968360 +/- 0.029422\n",
      "Energy evaluation 306 returned -1.030824 +/- 0.033297\n",
      "Energy evaluation 307 returned -1.070581 +/- 0.031086\n"
     ]
    },
    {
     "name": "stdout",
     "output_type": "stream",
     "text": [
      "Energy evaluation 308 returned -0.982960 +/- 0.032953\n",
      "Energy evaluation 309 returned -1.016643 +/- 0.030054\n",
      "Energy evaluation 310 returned -0.957738 +/- 0.034455\n",
      "Energy evaluation 311 returned -1.010879 +/- 0.029988\n",
      "Energy evaluation 312 returned -0.981442 +/- 0.034315\n",
      "Energy evaluation 313 returned -1.008678 +/- 0.029064\n",
      "Energy evaluation 314 returned -0.924320 +/- 0.035833\n",
      "Energy evaluation 315 returned -1.017333 +/- 0.028538\n",
      "Energy evaluation 316 returned -1.005444 +/- 0.033763\n",
      "Energy evaluation 317 returned -0.982334 +/- 0.028658\n",
      "Energy evaluation 318 returned -0.964909 +/- 0.034040\n",
      "Energy evaluation 319 returned -0.966101 +/- 0.034301\n",
      "Energy evaluation 320 returned -0.939906 +/- 0.028442\n",
      "Energy evaluation 321 returned -0.968772 +/- 0.029772\n",
      "Energy evaluation 322 returned -1.046850 +/- 0.030765\n",
      "Energy evaluation 323 returned -0.984982 +/- 0.032787\n",
      "Energy evaluation 324 returned -0.990503 +/- 0.029865\n",
      "Energy evaluation 325 returned -1.017764 +/- 0.028752\n",
      "Energy evaluation 326 returned -0.950700 +/- 0.034994\n",
      "Energy evaluation 327 returned -0.997135 +/- 0.030981\n",
      "Energy evaluation 328 returned -0.975491 +/- 0.029489\n",
      "Energy evaluation 329 returned -0.972806 +/- 0.034078\n",
      "Energy evaluation 330 returned -0.981202 +/- 0.028427\n",
      "Energy evaluation 331 returned -0.978299 +/- 0.028645\n",
      "Energy evaluation 332 returned -1.028507 +/- 0.032724\n",
      "Energy evaluation 333 returned -1.010059 +/- 0.032171\n",
      "Energy evaluation 334 returned -1.088345 +/- 0.028920\n",
      "Energy evaluation 335 returned -1.009090 +/- 0.033368\n",
      "Energy evaluation 336 returned -0.948907 +/- 0.028512\n",
      "Energy evaluation 337 returned -1.004802 +/- 0.030582\n",
      "Energy evaluation 338 returned -0.977992 +/- 0.032109\n",
      "Energy evaluation 339 returned -1.004904 +/- 0.029125\n",
      "Energy evaluation 340 returned -0.955380 +/- 0.033291\n",
      "Energy evaluation 341 returned -1.018584 +/- 0.030745\n",
      "Energy evaluation 342 returned -0.979712 +/- 0.031918\n",
      "Energy evaluation 343 returned -1.032912 +/- 0.030301\n",
      "Energy evaluation 344 returned -1.043696 +/- 0.030367\n",
      "Energy evaluation 345 returned -1.013556 +/- 0.031283\n",
      "Energy evaluation 346 returned -1.038483 +/- 0.030264\n",
      "Energy evaluation 347 returned -0.960210 +/- 0.028349\n",
      "Energy evaluation 348 returned -1.051457 +/- 0.033036\n",
      "Energy evaluation 349 returned -1.039500 +/- 0.029547\n",
      "Energy evaluation 350 returned -1.031227 +/- 0.032873\n",
      "Energy evaluation 351 returned -1.018471 +/- 0.032615\n",
      "Energy evaluation 352 returned -1.010844 +/- 0.029978\n",
      "Energy evaluation 353 returned -1.012772 +/- 0.029535\n",
      "Energy evaluation 354 returned -1.000323 +/- 0.032967\n",
      "Energy evaluation 355 returned -1.000687 +/- 0.028583\n",
      "Energy evaluation 356 returned -1.000270 +/- 0.033882\n",
      "Energy evaluation 357 returned -0.987950 +/- 0.030151\n",
      "Energy evaluation 358 returned -1.015989 +/- 0.033320\n",
      "Energy evaluation 359 returned -0.975909 +/- 0.032893\n",
      "Energy evaluation 360 returned -0.998574 +/- 0.032262\n",
      "Energy evaluation 361 returned -1.023015 +/- 0.029067\n",
      "Energy evaluation 362 returned -0.995162 +/- 0.033632\n",
      "Energy evaluation 363 returned -0.971626 +/- 0.032280\n",
      "Energy evaluation 364 returned -1.002704 +/- 0.031152\n",
      "Energy evaluation 365 returned -1.037169 +/- 0.031675\n",
      "Energy evaluation 366 returned -0.978517 +/- 0.030587\n",
      "Energy evaluation 367 returned -0.942053 +/- 0.035098\n",
      "Energy evaluation 368 returned -0.979370 +/- 0.029238\n",
      "Energy evaluation 369 returned -1.005278 +/- 0.032485\n",
      "Energy evaluation 370 returned -0.952787 +/- 0.029882\n",
      "Energy evaluation 371 returned -1.025750 +/- 0.029822\n",
      "Energy evaluation 372 returned -1.043063 +/- 0.031617\n",
      "Energy evaluation 373 returned -0.988118 +/- 0.033120\n",
      "Energy evaluation 374 returned -1.053557 +/- 0.029130\n",
      "Energy evaluation 375 returned -1.038599 +/- 0.031176\n",
      "Energy evaluation 376 returned -1.007137 +/- 0.031994\n",
      "Energy evaluation 377 returned -0.955415 +/- 0.035156\n",
      "Energy evaluation 378 returned -0.953262 +/- 0.029595\n",
      "Energy evaluation 379 returned -0.997941 +/- 0.031113\n",
      "Energy evaluation 380 returned -1.002885 +/- 0.030891\n",
      "Energy evaluation 381 returned -1.030364 +/- 0.031747\n",
      "Energy evaluation 382 returned -0.990541 +/- 0.030049\n",
      "Energy evaluation 383 returned -0.986288 +/- 0.034102\n",
      "Energy evaluation 384 returned -1.007078 +/- 0.029771\n",
      "Energy evaluation 385 returned -1.003371 +/- 0.031017\n",
      "Energy evaluation 386 returned -1.016183 +/- 0.031404\n",
      "Energy evaluation 387 returned -0.950539 +/- 0.030778\n",
      "Energy evaluation 388 returned -0.993273 +/- 0.033175\n",
      "Energy evaluation 389 returned -0.981233 +/- 0.033527\n",
      "Energy evaluation 390 returned -1.029072 +/- 0.030678\n",
      "Energy evaluation 391 returned -1.027962 +/- 0.029790\n",
      "Energy evaluation 392 returned -1.081424 +/- 0.030763\n",
      "Energy evaluation 393 returned -0.967099 +/- 0.031346\n",
      "Energy evaluation 394 returned -1.038616 +/- 0.031191\n",
      "Energy evaluation 395 returned -0.981334 +/- 0.035559\n",
      "Energy evaluation 396 returned -0.966400 +/- 0.030011\n",
      "Energy evaluation 397 returned -0.999424 +/- 0.031468\n",
      "Energy evaluation 398 returned -1.032908 +/- 0.031850\n",
      "Energy evaluation 399 returned -0.949841 +/- 0.033744\n",
      "Energy evaluation 400 returned -1.018053 +/- 0.030214\n",
      "Energy evaluation 401 returned -0.995807 +/- 0.030416\n",
      "Energy evaluation 402 returned -1.021478 +/- 0.032157\n",
      "Energy evaluation 403 returned -0.955239 +/- 0.035692\n",
      "Energy evaluation 404 returned -1.005999 +/- 0.029002\n",
      "Energy evaluation 405 returned -0.987789 +/- 0.028684\n",
      "Energy evaluation 406 returned -1.035405 +/- 0.033285\n",
      "Energy evaluation 407 returned -1.046919 +/- 0.032448\n",
      "Energy evaluation 408 returned -1.020857 +/- 0.029839\n",
      "Energy evaluation 409 returned -1.013803 +/- 0.029661\n",
      "Energy evaluation 410 returned -1.008908 +/- 0.032469\n",
      "Energy evaluation 411 returned -0.992118 +/- 0.033532\n",
      "Energy evaluation 412 returned -0.940726 +/- 0.030829\n",
      "Energy evaluation 413 returned -1.067336 +/- 0.032989\n",
      "Energy evaluation 414 returned -1.013668 +/- 0.030081\n",
      "Energy evaluation 415 returned -1.015375 +/- 0.033196\n",
      "Energy evaluation 416 returned -1.040144 +/- 0.030658\n",
      "Energy evaluation 417 returned -1.114180 +/- 0.029496\n",
      "Energy evaluation 418 returned -0.987188 +/- 0.033668\n",
      "Energy evaluation 419 returned -0.979777 +/- 0.029562\n",
      "Energy evaluation 420 returned -0.990685 +/- 0.034931\n",
      "Energy evaluation 421 returned -1.012206 +/- 0.031068\n",
      "Energy evaluation 422 returned -1.052037 +/- 0.030990\n",
      "Energy evaluation 423 returned -1.036486 +/- 0.031411\n",
      "Energy evaluation 424 returned -1.036222 +/- 0.031231\n",
      "Energy evaluation 425 returned -1.034253 +/- 0.030343\n",
      "Energy evaluation 426 returned -1.047581 +/- 0.032557\n",
      "Energy evaluation 427 returned -0.941968 +/- 0.035761\n",
      "Energy evaluation 428 returned -1.014034 +/- 0.028562\n",
      "Energy evaluation 429 returned -0.942503 +/- 0.028495\n",
      "Energy evaluation 430 returned -0.975546 +/- 0.033733\n",
      "Energy evaluation 431 returned -1.034016 +/- 0.031877\n",
      "Energy evaluation 432 returned -0.989360 +/- 0.030711\n",
      "Energy evaluation 433 returned -1.033169 +/- 0.029264\n",
      "Energy evaluation 434 returned -1.041099 +/- 0.033073\n",
      "Energy evaluation 435 returned -0.990798 +/- 0.028741\n",
      "Energy evaluation 436 returned -1.050603 +/- 0.034193\n",
      "Energy evaluation 437 returned -0.956302 +/- 0.034974\n",
      "Energy evaluation 438 returned -0.988718 +/- 0.030130\n",
      "Energy evaluation 439 returned -1.035522 +/- 0.032767\n",
      "Energy evaluation 440 returned -1.024322 +/- 0.030150\n",
      "Energy evaluation 441 returned -0.982264 +/- 0.030704\n",
      "Energy evaluation 442 returned -1.002022 +/- 0.034012\n",
      "Energy evaluation 443 returned -1.007192 +/- 0.030875\n",
      "Energy evaluation 444 returned -0.994180 +/- 0.032362\n",
      "Energy evaluation 445 returned -0.925057 +/- 0.031837\n",
      "Energy evaluation 446 returned -0.983131 +/- 0.033272\n",
      "Energy evaluation 447 returned -0.973905 +/- 0.033660\n",
      "Energy evaluation 448 returned -0.980306 +/- 0.031361\n",
      "Energy evaluation 449 returned -1.020674 +/- 0.030594\n",
      "Energy evaluation 450 returned -0.957747 +/- 0.032551\n",
      "Energy evaluation 451 returned -1.036089 +/- 0.028588\n",
      "Energy evaluation 452 returned -0.947865 +/- 0.034828\n",
      "Energy evaluation 453 returned -0.963473 +/- 0.032856\n",
      "Energy evaluation 454 returned -0.974776 +/- 0.029805\n",
      "Energy evaluation 455 returned -0.997285 +/- 0.028696\n",
      "Energy evaluation 456 returned -1.062690 +/- 0.032282\n",
      "Energy evaluation 457 returned -1.064056 +/- 0.030614\n",
      "Energy evaluation 458 returned -0.928468 +/- 0.032035\n",
      "Energy evaluation 459 returned -0.996457 +/- 0.031381\n"
     ]
    },
    {
     "name": "stdout",
     "output_type": "stream",
     "text": [
      "Energy evaluation 460 returned -0.998995 +/- 0.031430\n",
      "Energy evaluation 461 returned -0.997782 +/- 0.033850\n",
      "Energy evaluation 462 returned -1.005171 +/- 0.029771\n",
      "Energy evaluation 463 returned -1.044870 +/- 0.030491\n",
      "Energy evaluation 464 returned -1.089435 +/- 0.030343\n",
      "Energy evaluation 465 returned -1.017014 +/- 0.028469\n",
      "Energy evaluation 466 returned -0.949915 +/- 0.034741\n",
      "Energy evaluation 467 returned -0.988227 +/- 0.029346\n",
      "Energy evaluation 468 returned -0.970201 +/- 0.033249\n",
      "Energy evaluation 469 returned -1.041182 +/- 0.028652\n",
      "Energy evaluation 470 returned -1.006448 +/- 0.033239\n",
      "Energy evaluation 471 returned -1.000450 +/- 0.030018\n",
      "Energy evaluation 472 returned -0.982792 +/- 0.032452\n",
      "Energy evaluation 473 returned -1.005076 +/- 0.029224\n",
      "Energy evaluation 474 returned -0.996627 +/- 0.031898\n",
      "Energy evaluation 475 returned -1.058459 +/- 0.031425\n",
      "Energy evaluation 476 returned -1.004578 +/- 0.028678\n",
      "Energy evaluation 477 returned -0.992924 +/- 0.032056\n",
      "Energy evaluation 478 returned -0.962458 +/- 0.029804\n",
      "Energy evaluation 479 returned -0.984787 +/- 0.029419\n",
      "Energy evaluation 480 returned -1.037343 +/- 0.031573\n",
      "Energy evaluation 481 returned -0.988187 +/- 0.029560\n",
      "Energy evaluation 482 returned -1.087454 +/- 0.031012\n",
      "Energy evaluation 483 returned -0.929571 +/- 0.033912\n",
      "Energy evaluation 484 returned -1.014305 +/- 0.030752\n",
      "Energy evaluation 485 returned -1.015335 +/- 0.030716\n",
      "Energy evaluation 486 returned -1.032011 +/- 0.030111\n",
      "Energy evaluation 487 returned -1.036203 +/- 0.028862\n",
      "Energy evaluation 488 returned -1.019500 +/- 0.032392\n",
      "Energy evaluation 489 returned -1.014977 +/- 0.033950\n",
      "Energy evaluation 490 returned -1.010702 +/- 0.029418\n",
      "Energy evaluation 491 returned -0.978726 +/- 0.033028\n",
      "Energy evaluation 492 returned -0.969216 +/- 0.030281\n",
      "Energy evaluation 493 returned -1.022514 +/- 0.031330\n",
      "Energy evaluation 494 returned -1.031747 +/- 0.031050\n",
      "Energy evaluation 495 returned -1.008285 +/- 0.033561\n",
      "Energy evaluation 496 returned -1.011479 +/- 0.028591\n",
      "Energy evaluation 497 returned -1.019905 +/- 0.029388\n",
      "Energy evaluation 498 returned -0.968131 +/- 0.032740\n",
      "Energy evaluation 499 returned -0.970135 +/- 0.032944\n",
      "Energy evaluation 500 returned -0.957711 +/- 0.029904\n",
      "Energy evaluation 501 returned -0.972746 +/- 0.031686\n",
      "Energy evaluation 502 returned -1.035787 +/- 0.030632\n",
      "Energy evaluation 503 returned -0.999771 +/- 0.029889\n",
      "Energy evaluation 504 returned -1.040297 +/- 0.031325\n",
      "Energy evaluation 505 returned -1.001281 +/- 0.031925\n",
      "Energy evaluation 506 returned -0.932370 +/- 0.030636\n",
      "Energy evaluation 507 returned -1.015898 +/- 0.029934\n",
      "Energy evaluation 508 returned -1.040165 +/- 0.032420\n",
      "Energy evaluation 509 returned -1.019636 +/- 0.030304\n",
      "Energy evaluation 510 returned -1.070370 +/- 0.031907\n",
      "Energy evaluation 511 returned -1.009259 +/- 0.034385\n",
      "Energy evaluation 512 returned -1.055275 +/- 0.029234\n",
      "Energy evaluation 513 returned -1.032390 +/- 0.030369\n",
      "Energy evaluation 514 returned -0.997725 +/- 0.032020\n",
      "Energy evaluation 515 returned -1.039257 +/- 0.029976\n",
      "Energy evaluation 516 returned -1.018703 +/- 0.032649\n",
      "Energy evaluation 517 returned -0.895766 +/- 0.035252\n",
      "Energy evaluation 518 returned -0.960783 +/- 0.029041\n",
      "Energy evaluation 519 returned -0.978300 +/- 0.032907\n",
      "Energy evaluation 520 returned -1.024285 +/- 0.028868\n",
      "Energy evaluation 521 returned -1.033568 +/- 0.028073\n",
      "Energy evaluation 522 returned -0.979309 +/- 0.034731\n",
      "Energy evaluation 523 returned -0.996910 +/- 0.027550\n",
      "Energy evaluation 524 returned -1.026695 +/- 0.032227\n",
      "Energy evaluation 525 returned -1.026725 +/- 0.028871\n",
      "Energy evaluation 526 returned -0.989988 +/- 0.031890\n",
      "Energy evaluation 527 returned -1.030618 +/- 0.030769\n",
      "Energy evaluation 528 returned -1.009489 +/- 0.030491\n",
      "Energy evaluation 529 returned -0.943446 +/- 0.029211\n",
      "Energy evaluation 530 returned -1.002899 +/- 0.033549\n",
      "Energy evaluation 531 returned -1.055611 +/- 0.028888\n",
      "Energy evaluation 532 returned -0.987193 +/- 0.032852\n",
      "Energy evaluation 533 returned -0.973812 +/- 0.033650\n",
      "Energy evaluation 534 returned -1.008793 +/- 0.028499\n",
      "Energy evaluation 535 returned -1.002442 +/- 0.033247\n",
      "Energy evaluation 536 returned -0.979050 +/- 0.028028\n",
      "Energy evaluation 537 returned -1.021798 +/- 0.030957\n",
      "Energy evaluation 538 returned -0.955905 +/- 0.030136\n",
      "Energy evaluation 539 returned -0.995062 +/- 0.028435\n",
      "Energy evaluation 540 returned -1.030636 +/- 0.032705\n",
      "Energy evaluation 541 returned -1.059005 +/- 0.029589\n",
      "Energy evaluation 542 returned -1.028612 +/- 0.032389\n",
      "Energy evaluation 543 returned -0.988681 +/- 0.028481\n",
      "Energy evaluation 544 returned -1.098524 +/- 0.032917\n",
      "Energy evaluation 545 returned -1.003033 +/- 0.033193\n",
      "Energy evaluation 546 returned -0.984168 +/- 0.029482\n",
      "Energy evaluation 547 returned -0.953914 +/- 0.030708\n",
      "Energy evaluation 548 returned -0.962426 +/- 0.035355\n",
      "Energy evaluation 549 returned -1.016996 +/- 0.032995\n",
      "Energy evaluation 550 returned -0.948069 +/- 0.030913\n",
      "Energy evaluation 551 returned -0.998628 +/- 0.029362\n",
      "Energy evaluation 552 returned -0.930002 +/- 0.036119\n",
      "Energy evaluation 553 returned -0.997537 +/- 0.030695\n",
      "Energy evaluation 554 returned -0.949172 +/- 0.033133\n",
      "Energy evaluation 555 returned -0.972522 +/- 0.029607\n",
      "Energy evaluation 556 returned -0.990836 +/- 0.032604\n",
      "Energy evaluation 557 returned -0.987327 +/- 0.031917\n",
      "Energy evaluation 558 returned -1.027601 +/- 0.031225\n",
      "Energy evaluation 559 returned -0.981128 +/- 0.029572\n",
      "Energy evaluation 560 returned -1.015096 +/- 0.032622\n",
      "Energy evaluation 561 returned -1.036735 +/- 0.029538\n",
      "Energy evaluation 562 returned -1.000527 +/- 0.033030\n",
      "Energy evaluation 563 returned -1.076357 +/- 0.028828\n",
      "Energy evaluation 564 returned -1.009354 +/- 0.031267\n",
      "Energy evaluation 565 returned -1.034018 +/- 0.032091\n",
      "Energy evaluation 566 returned -1.027922 +/- 0.029580\n",
      "Energy evaluation 567 returned -1.038407 +/- 0.030141\n",
      "Energy evaluation 568 returned -0.941023 +/- 0.032533\n",
      "Energy evaluation 569 returned -1.007199 +/- 0.031371\n",
      "Energy evaluation 570 returned -0.997390 +/- 0.030440\n",
      "Energy evaluation 571 returned -0.997293 +/- 0.029733\n",
      "Energy evaluation 572 returned -1.043258 +/- 0.031997\n",
      "Energy evaluation 573 returned -0.944463 +/- 0.029382\n",
      "Energy evaluation 574 returned -1.016673 +/- 0.033361\n",
      "Energy evaluation 575 returned -0.956558 +/- 0.030252\n",
      "Energy evaluation 576 returned -0.972806 +/- 0.035707\n",
      "Energy evaluation 577 returned -1.049055 +/- 0.032347\n",
      "Energy evaluation 578 returned -0.983299 +/- 0.029547\n",
      "Energy evaluation 579 returned -0.984989 +/- 0.031747\n",
      "Energy evaluation 580 returned -0.947126 +/- 0.034282\n",
      "Energy evaluation 581 returned -0.994526 +/- 0.031989\n",
      "Energy evaluation 582 returned -1.016416 +/- 0.031132\n",
      "Energy evaluation 583 returned -1.008232 +/- 0.031608\n",
      "Energy evaluation 584 returned -0.965481 +/- 0.032344\n",
      "Energy evaluation 585 returned -0.933038 +/- 0.031678\n",
      "Energy evaluation 586 returned -1.034294 +/- 0.033063\n",
      "Energy evaluation 587 returned -0.978778 +/- 0.032595\n",
      "Energy evaluation 588 returned -0.993780 +/- 0.032748\n",
      "Energy evaluation 589 returned -0.995854 +/- 0.033552\n",
      "Energy evaluation 590 returned -1.066320 +/- 0.030348\n",
      "Energy evaluation 591 returned -0.995247 +/- 0.033491\n",
      "Energy evaluation 592 returned -1.005635 +/- 0.031272\n",
      "Energy evaluation 593 returned -1.046583 +/- 0.029933\n",
      "Energy evaluation 594 returned -1.006273 +/- 0.033430\n",
      "Energy evaluation 595 returned -1.023166 +/- 0.031368\n",
      "Energy evaluation 596 returned -1.039526 +/- 0.030762\n",
      "Energy evaluation 597 returned -0.980954 +/- 0.032936\n",
      "Energy evaluation 598 returned -0.975662 +/- 0.030761\n",
      "Energy evaluation 599 returned -1.003178 +/- 0.030394\n",
      "Energy evaluation 600 returned -0.987224 +/- 0.033573\n",
      "Energy evaluation 601 returned -1.000557 +/- 0.029643\n",
      "Energy evaluation 602 returned -1.062850 +/- 0.032559\n",
      "Energy evaluation 603 returned -0.920248 +/- 0.035567\n",
      "Energy evaluation 604 returned -0.990981 +/- 0.030302\n",
      "Energy evaluation 605 returned -0.988810 +/- 0.033071\n",
      "Energy evaluation 606 returned -1.031543 +/- 0.029474\n",
      "Energy evaluation 607 returned -0.977832 +/- 0.031199\n",
      "Energy evaluation 608 returned -0.997979 +/- 0.033567\n",
      "Energy evaluation 609 returned -0.995667 +/- 0.031165\n",
      "Energy evaluation 610 returned -1.036953 +/- 0.030592\n",
      "Energy evaluation 611 returned -1.015575 +/- 0.029849\n"
     ]
    },
    {
     "name": "stdout",
     "output_type": "stream",
     "text": [
      "Energy evaluation 612 returned -1.060558 +/- 0.030551\n",
      "Energy evaluation 613 returned -0.930496 +/- 0.035381\n",
      "Energy evaluation 614 returned -0.924492 +/- 0.029831\n",
      "Energy evaluation 615 returned -0.981252 +/- 0.034111\n",
      "Energy evaluation 616 returned -1.012124 +/- 0.029448\n",
      "Energy evaluation 617 returned -1.022328 +/- 0.034233\n",
      "Energy evaluation 618 returned -1.037974 +/- 0.028247\n",
      "Energy evaluation 619 returned -1.005443 +/- 0.028544\n",
      "Energy evaluation 620 returned -1.055727 +/- 0.032564\n",
      "Energy evaluation 621 returned -0.974949 +/- 0.032197\n",
      "Energy evaluation 622 returned -0.985693 +/- 0.032088\n",
      "Energy evaluation 623 returned -0.997293 +/- 0.032324\n",
      "Energy evaluation 624 returned -0.984620 +/- 0.030627\n",
      "Energy evaluation 625 returned -0.897118 +/- 0.034828\n",
      "Energy evaluation 626 returned -0.966810 +/- 0.030937\n",
      "Energy evaluation 627 returned -0.949687 +/- 0.032211\n",
      "Energy evaluation 628 returned -1.003103 +/- 0.030951\n",
      "Energy evaluation 629 returned -1.061392 +/- 0.028990\n",
      "Energy evaluation 630 returned -1.025873 +/- 0.031537\n",
      "Energy evaluation 631 returned -1.018692 +/- 0.031118\n",
      "Energy evaluation 632 returned -1.014461 +/- 0.031270\n",
      "Energy evaluation 633 returned -1.019118 +/- 0.031548\n",
      "Energy evaluation 634 returned -0.974019 +/- 0.031488\n",
      "Energy evaluation 635 returned -1.016356 +/- 0.031946\n",
      "Energy evaluation 636 returned -0.990184 +/- 0.030459\n",
      "Energy evaluation 637 returned -1.002186 +/- 0.029605\n",
      "Energy evaluation 638 returned -0.987953 +/- 0.033293\n",
      "Energy evaluation 639 returned -1.026530 +/- 0.029446\n",
      "Energy evaluation 640 returned -1.011107 +/- 0.032726\n",
      "Energy evaluation 641 returned -0.952373 +/- 0.033908\n",
      "Energy evaluation 642 returned -0.971970 +/- 0.029712\n",
      "Energy evaluation 643 returned -1.023216 +/- 0.033475\n",
      "Energy evaluation 644 returned -0.966897 +/- 0.029043\n",
      "Energy evaluation 645 returned -0.991689 +/- 0.030065\n",
      "Energy evaluation 646 returned -1.021487 +/- 0.031929\n",
      "Energy evaluation 647 returned -1.031237 +/- 0.029394\n",
      "Energy evaluation 648 returned -0.999764 +/- 0.032845\n",
      "Energy evaluation 649 returned -0.982541 +/- 0.030287\n",
      "Energy evaluation 650 returned -0.985233 +/- 0.033432\n",
      "Energy evaluation 651 returned -0.960383 +/- 0.031653\n",
      "Energy evaluation 652 returned -1.004434 +/- 0.031351\n",
      "Energy evaluation 653 returned -1.006057 +/- 0.031768\n",
      "Energy evaluation 654 returned -1.030284 +/- 0.030812\n",
      "Energy evaluation 655 returned -0.965910 +/- 0.029572\n",
      "Energy evaluation 656 returned -1.000663 +/- 0.033499\n",
      "Energy evaluation 657 returned -0.992233 +/- 0.029627\n",
      "Energy evaluation 658 returned -0.981029 +/- 0.033469\n",
      "Energy evaluation 659 returned -0.989239 +/- 0.034149\n",
      "Energy evaluation 660 returned -1.003668 +/- 0.030366\n",
      "Energy evaluation 661 returned -0.979303 +/- 0.034518\n",
      "Energy evaluation 662 returned -1.041787 +/- 0.028709\n",
      "Energy evaluation 663 returned -0.952733 +/- 0.033180\n",
      "Energy evaluation 664 returned -0.978025 +/- 0.030887\n",
      "Energy evaluation 665 returned -1.014879 +/- 0.033773\n",
      "Energy evaluation 666 returned -0.971568 +/- 0.028943\n",
      "Energy evaluation 667 returned -0.988407 +/- 0.030178\n",
      "Energy evaluation 668 returned -0.974265 +/- 0.033165\n",
      "Energy evaluation 669 returned -1.039650 +/- 0.028755\n",
      "Energy evaluation 670 returned -1.046830 +/- 0.031776\n",
      "Energy evaluation 671 returned -1.006964 +/- 0.031163\n",
      "Energy evaluation 672 returned -1.001486 +/- 0.031018\n",
      "Energy evaluation 673 returned -1.023970 +/- 0.033573\n",
      "Energy evaluation 674 returned -1.002522 +/- 0.028713\n",
      "Energy evaluation 675 returned -1.020254 +/- 0.034019\n",
      "Energy evaluation 676 returned -1.012838 +/- 0.028928\n",
      "Energy evaluation 677 returned -1.027180 +/- 0.031987\n",
      "Energy evaluation 678 returned -0.962635 +/- 0.030705\n",
      "Energy evaluation 679 returned -1.005270 +/- 0.029947\n",
      "Energy evaluation 680 returned -0.973874 +/- 0.033202\n",
      "Energy evaluation 681 returned -1.001784 +/- 0.033251\n",
      "Energy evaluation 682 returned -0.976280 +/- 0.030886\n",
      "Energy evaluation 683 returned -1.003960 +/- 0.031204\n",
      "Energy evaluation 684 returned -1.028409 +/- 0.030291\n",
      "Energy evaluation 685 returned -0.956298 +/- 0.030916\n",
      "Energy evaluation 686 returned -0.983385 +/- 0.033398\n",
      "Energy evaluation 687 returned -1.010843 +/- 0.033905\n",
      "Energy evaluation 688 returned -1.004733 +/- 0.030051\n",
      "Energy evaluation 689 returned -1.025858 +/- 0.029227\n",
      "Energy evaluation 690 returned -0.958299 +/- 0.034934\n",
      "Energy evaluation 691 returned -1.032305 +/- 0.028645\n",
      "Energy evaluation 692 returned -1.007217 +/- 0.032846\n",
      "Energy evaluation 693 returned -0.992724 +/- 0.030012\n",
      "Energy evaluation 694 returned -0.942128 +/- 0.033468\n",
      "Energy evaluation 695 returned -1.025548 +/- 0.029243\n",
      "Energy evaluation 696 returned -1.030507 +/- 0.032052\n",
      "Energy evaluation 697 returned -0.988584 +/- 0.029476\n",
      "Energy evaluation 698 returned -0.998575 +/- 0.031822\n",
      "Energy evaluation 699 returned -0.992944 +/- 0.032534\n",
      "Energy evaluation 700 returned -0.991125 +/- 0.029964\n",
      "Energy evaluation 701 returned -1.004927 +/- 0.031039\n",
      "Energy evaluation 702 returned -1.006185 +/- 0.032424\n",
      "Energy evaluation 703 returned -0.988360 +/- 0.033606\n",
      "Energy evaluation 704 returned -0.987339 +/- 0.030044\n",
      "Energy evaluation 705 returned -0.970343 +/- 0.032569\n",
      "Energy evaluation 706 returned -1.027441 +/- 0.029881\n",
      "Energy evaluation 707 returned -0.999017 +/- 0.029791\n",
      "Energy evaluation 708 returned -0.997669 +/- 0.031865\n",
      "Energy evaluation 709 returned -1.030310 +/- 0.029729\n",
      "Energy evaluation 710 returned -0.964720 +/- 0.032387\n",
      "Energy evaluation 711 returned -1.035176 +/- 0.030499\n",
      "Energy evaluation 712 returned -1.038476 +/- 0.030512\n",
      "Energy evaluation 713 returned -1.001885 +/- 0.028574\n",
      "Energy evaluation 714 returned -1.012430 +/- 0.032660\n",
      "Energy evaluation 715 returned -1.037009 +/- 0.031385\n",
      "Energy evaluation 716 returned -1.050030 +/- 0.030719\n",
      "Energy evaluation 717 returned -1.015403 +/- 0.032448\n",
      "Energy evaluation 718 returned -0.973162 +/- 0.030246\n",
      "Energy evaluation 719 returned -0.979209 +/- 0.029788\n",
      "Energy evaluation 720 returned -0.993309 +/- 0.032066\n",
      "Energy evaluation 721 returned -1.029046 +/- 0.029558\n",
      "Energy evaluation 722 returned -1.000254 +/- 0.032540\n",
      "Energy evaluation 723 returned -1.045749 +/- 0.028596\n",
      "Energy evaluation 724 returned -1.062260 +/- 0.032056\n",
      "Energy evaluation 725 returned -0.997557 +/- 0.028664\n",
      "Energy evaluation 726 returned -0.975803 +/- 0.033140\n",
      "Energy evaluation 727 returned -0.950574 +/- 0.031444\n",
      "Energy evaluation 728 returned -0.937808 +/- 0.032004\n",
      "Energy evaluation 729 returned -0.948764 +/- 0.031630\n",
      "Energy evaluation 730 returned -0.976490 +/- 0.031435\n",
      "Energy evaluation 731 returned -0.952599 +/- 0.030320\n",
      "Energy evaluation 732 returned -0.957026 +/- 0.032995\n",
      "Energy evaluation 733 returned -1.033642 +/- 0.032343\n",
      "Energy evaluation 734 returned -1.023964 +/- 0.029977\n",
      "Energy evaluation 735 returned -1.014269 +/- 0.030515\n",
      "Energy evaluation 736 returned -0.979599 +/- 0.030760\n",
      "Energy evaluation 737 returned -1.009261 +/- 0.032994\n",
      "Energy evaluation 738 returned -1.007616 +/- 0.028226\n",
      "Energy evaluation 739 returned -0.978927 +/- 0.029639\n",
      "Energy evaluation 740 returned -0.978492 +/- 0.032689\n",
      "Energy evaluation 741 returned -0.994011 +/- 0.031041\n",
      "Energy evaluation 742 returned -1.077454 +/- 0.029608\n",
      "Energy evaluation 743 returned -1.008691 +/- 0.029834\n",
      "Energy evaluation 744 returned -1.024701 +/- 0.031714\n",
      "Energy evaluation 745 returned -0.967031 +/- 0.030287\n",
      "Energy evaluation 746 returned -0.983552 +/- 0.031372\n",
      "Energy evaluation 747 returned -0.958564 +/- 0.029115\n",
      "Energy evaluation 748 returned -1.004334 +/- 0.034142\n",
      "Energy evaluation 749 returned -0.968760 +/- 0.031538\n",
      "Energy evaluation 750 returned -1.028481 +/- 0.031500\n",
      "Energy evaluation 751 returned -1.033065 +/- 0.033237\n",
      "Energy evaluation 752 returned -0.970632 +/- 0.028920\n",
      "Energy evaluation 753 returned -1.007900 +/- 0.033847\n",
      "Energy evaluation 754 returned -1.022979 +/- 0.027927\n",
      "Energy evaluation 755 returned -1.038072 +/- 0.029619\n",
      "Energy evaluation 756 returned -0.999529 +/- 0.033424\n",
      "Energy evaluation 757 returned -0.987971 +/- 0.031726\n",
      "Energy evaluation 758 returned -1.021136 +/- 0.031699\n",
      "Energy evaluation 759 returned -1.016606 +/- 0.033332\n",
      "Energy evaluation 760 returned -0.973878 +/- 0.030526\n",
      "Energy evaluation 761 returned -0.989606 +/- 0.030759\n",
      "Energy evaluation 762 returned -1.048515 +/- 0.032352\n",
      "Energy evaluation 763 returned -1.012853 +/- 0.033643\n"
     ]
    },
    {
     "name": "stdout",
     "output_type": "stream",
     "text": [
      "Energy evaluation 764 returned -0.984406 +/- 0.028709\n",
      "Energy evaluation 765 returned -1.038847 +/- 0.028800\n",
      "Energy evaluation 766 returned -0.945290 +/- 0.035992\n",
      "Energy evaluation 767 returned -0.934604 +/- 0.030318\n",
      "Energy evaluation 768 returned -1.025080 +/- 0.033580\n",
      "Energy evaluation 769 returned -1.001754 +/- 0.031031\n",
      "Energy evaluation 770 returned -0.969815 +/- 0.034262\n",
      "Energy evaluation 771 returned -1.032264 +/- 0.028857\n",
      "Energy evaluation 772 returned -0.965925 +/- 0.034774\n",
      "Energy evaluation 773 returned -0.955554 +/- 0.030673\n",
      "Energy evaluation 774 returned -1.006333 +/- 0.033086\n",
      "Energy evaluation 775 returned -1.019836 +/- 0.034222\n",
      "Energy evaluation 776 returned -0.993095 +/- 0.029411\n",
      "Energy evaluation 777 returned -0.995085 +/- 0.030918\n",
      "Energy evaluation 778 returned -0.972708 +/- 0.033856\n",
      "Energy evaluation 779 returned -1.006356 +/- 0.033156\n",
      "Energy evaluation 780 returned -0.983738 +/- 0.031730\n",
      "Energy evaluation 781 returned -0.999202 +/- 0.032426\n",
      "Energy evaluation 782 returned -0.967296 +/- 0.031890\n",
      "Energy evaluation 783 returned -0.989585 +/- 0.032317\n",
      "Energy evaluation 784 returned -1.026921 +/- 0.031944\n",
      "Energy evaluation 785 returned -1.013427 +/- 0.032138\n",
      "Energy evaluation 786 returned -0.980686 +/- 0.030909\n",
      "Energy evaluation 787 returned -1.033284 +/- 0.032354\n",
      "Energy evaluation 788 returned -1.026354 +/- 0.030291\n",
      "Energy evaluation 789 returned -0.995181 +/- 0.030606\n",
      "Energy evaluation 790 returned -0.964487 +/- 0.033306\n",
      "Energy evaluation 791 returned -1.034563 +/- 0.034049\n",
      "Energy evaluation 792 returned -1.016514 +/- 0.028655\n",
      "Energy evaluation 793 returned -1.058874 +/- 0.030552\n",
      "Energy evaluation 794 returned -0.965489 +/- 0.033638\n",
      "Energy evaluation 795 returned -1.021706 +/- 0.031261\n",
      "Energy evaluation 796 returned -0.990877 +/- 0.031747\n",
      "Energy evaluation 797 returned -1.043222 +/- 0.029427\n",
      "Energy evaluation 798 returned -1.000918 +/- 0.031730\n",
      "Energy evaluation 799 returned -1.015074 +/- 0.030476\n",
      "Energy evaluation 800 returned -1.010389 +/- 0.031775\n",
      "Energy evaluation 801 returned -0.983412 +/- 0.033002\n",
      "Energy evaluation 802 returned -1.018070 +/- 0.030190\n",
      "Energy evaluation 803 returned -1.014011 +/- 0.033739\n",
      "Energy evaluation 804 returned -0.999561 +/- 0.029242\n",
      "Energy evaluation 805 returned -1.007867 +/- 0.030653\n",
      "Energy evaluation 806 returned -1.057827 +/- 0.031436\n",
      "Energy evaluation 807 returned -1.010461 +/- 0.030611\n",
      "Energy evaluation 808 returned -1.021173 +/- 0.032579\n",
      "Energy evaluation 809 returned -0.988795 +/- 0.030798\n",
      "Energy evaluation 810 returned -0.976049 +/- 0.033237\n",
      "Energy evaluation 811 returned -1.050875 +/- 0.030897\n",
      "Energy evaluation 812 returned -0.994737 +/- 0.030674\n",
      "Energy evaluation 813 returned -1.051519 +/- 0.033297\n",
      "Energy evaluation 814 returned -0.964558 +/- 0.029762\n",
      "Energy evaluation 815 returned -0.996008 +/- 0.029100\n",
      "Energy evaluation 816 returned -0.993707 +/- 0.034352\n",
      "Energy evaluation 817 returned -1.010508 +/- 0.030071\n",
      "Energy evaluation 818 returned -0.996494 +/- 0.034206\n",
      "Energy evaluation 819 returned -0.960008 +/- 0.034899\n",
      "Energy evaluation 820 returned -1.004597 +/- 0.029206\n",
      "Energy evaluation 821 returned -0.972296 +/- 0.031041\n",
      "Energy evaluation 822 returned -0.999239 +/- 0.032893\n",
      "Energy evaluation 823 returned -1.047629 +/- 0.031361\n",
      "Energy evaluation 824 returned -1.013570 +/- 0.031703\n",
      "Energy evaluation 825 returned -1.015195 +/- 0.032388\n",
      "Energy evaluation 826 returned -0.981160 +/- 0.030682\n",
      "Energy evaluation 827 returned -0.985156 +/- 0.031048\n",
      "Energy evaluation 828 returned -1.045335 +/- 0.031045\n",
      "Energy evaluation 829 returned -0.985935 +/- 0.028635\n",
      "Energy evaluation 830 returned -0.982657 +/- 0.034689\n",
      "Energy evaluation 831 returned -0.971841 +/- 0.032870\n",
      "Energy evaluation 832 returned -1.010518 +/- 0.031281\n",
      "Energy evaluation 833 returned -0.963195 +/- 0.033510\n",
      "Energy evaluation 834 returned -1.019588 +/- 0.030822\n",
      "Energy evaluation 835 returned -1.043767 +/- 0.030268\n",
      "Energy evaluation 836 returned -1.039282 +/- 0.031601\n",
      "Energy evaluation 837 returned -0.994284 +/- 0.030081\n",
      "Energy evaluation 838 returned -1.009055 +/- 0.032438\n",
      "Energy evaluation 839 returned -1.066025 +/- 0.031604\n",
      "Energy evaluation 840 returned -1.056986 +/- 0.032032\n",
      "Energy evaluation 841 returned -0.969929 +/- 0.033831\n",
      "Energy evaluation 842 returned -1.003994 +/- 0.028756\n",
      "Energy evaluation 843 returned -0.998878 +/- 0.028716\n",
      "Energy evaluation 844 returned -1.006606 +/- 0.033050\n",
      "Energy evaluation 845 returned -0.915828 +/- 0.034796\n",
      "Energy evaluation 846 returned -0.994991 +/- 0.029383\n",
      "Energy evaluation 847 returned -1.037954 +/- 0.032849\n",
      "Energy evaluation 848 returned -1.001680 +/- 0.028501\n",
      "Energy evaluation 849 returned -0.999291 +/- 0.032250\n",
      "Energy evaluation 850 returned -0.944266 +/- 0.030697\n",
      "Energy evaluation 851 returned -0.971935 +/- 0.031715\n",
      "Energy evaluation 852 returned -1.060727 +/- 0.030605\n",
      "Energy evaluation 853 returned -1.032563 +/- 0.031386\n",
      "Energy evaluation 854 returned -0.955671 +/- 0.032050\n",
      "Energy evaluation 855 returned -0.947998 +/- 0.033991\n",
      "Energy evaluation 856 returned -1.029358 +/- 0.030034\n",
      "Energy evaluation 857 returned -0.948348 +/- 0.034408\n",
      "Energy evaluation 858 returned -1.039134 +/- 0.028664\n",
      "Energy evaluation 859 returned -0.969156 +/- 0.032361\n",
      "Energy evaluation 860 returned -0.975736 +/- 0.029732\n",
      "Energy evaluation 861 returned -1.004798 +/- 0.030653\n",
      "Energy evaluation 862 returned -1.036103 +/- 0.030390\n",
      "Energy evaluation 863 returned -0.948856 +/- 0.028903\n",
      "Energy evaluation 864 returned -0.984436 +/- 0.032585\n",
      "Energy evaluation 865 returned -0.983995 +/- 0.030171\n",
      "Energy evaluation 866 returned -0.965291 +/- 0.032333\n",
      "Energy evaluation 867 returned -1.054589 +/- 0.031633\n",
      "Energy evaluation 868 returned -0.942003 +/- 0.031025\n",
      "Energy evaluation 869 returned -1.013261 +/- 0.031042\n",
      "Energy evaluation 870 returned -0.991128 +/- 0.031202\n",
      "Energy evaluation 871 returned -0.991636 +/- 0.028591\n",
      "Energy evaluation 872 returned -1.005285 +/- 0.034241\n",
      "Energy evaluation 873 returned -1.031351 +/- 0.029259\n",
      "Energy evaluation 874 returned -0.940665 +/- 0.032439\n",
      "Energy evaluation 875 returned -0.971245 +/- 0.031180\n",
      "Energy evaluation 876 returned -0.985595 +/- 0.031281\n",
      "Energy evaluation 877 returned -0.933980 +/- 0.033197\n",
      "Energy evaluation 878 returned -1.012364 +/- 0.030320\n",
      "Energy evaluation 879 returned -1.041157 +/- 0.030666\n",
      "Energy evaluation 880 returned -0.963685 +/- 0.031215\n",
      "Energy evaluation 881 returned -1.018748 +/- 0.032783\n",
      "Energy evaluation 882 returned -1.031432 +/- 0.028277\n",
      "Energy evaluation 883 returned -1.045197 +/- 0.030093\n",
      "Energy evaluation 884 returned -1.007362 +/- 0.030157\n",
      "Energy evaluation 885 returned -0.976399 +/- 0.032202\n",
      "Energy evaluation 886 returned -1.017160 +/- 0.029975\n",
      "Energy evaluation 887 returned -1.027443 +/- 0.030754\n",
      "Energy evaluation 888 returned -0.956579 +/- 0.030650\n",
      "Energy evaluation 889 returned -1.028610 +/- 0.030124\n",
      "Energy evaluation 890 returned -0.988558 +/- 0.030567\n",
      "Energy evaluation 891 returned -0.958965 +/- 0.031365\n",
      "Energy evaluation 892 returned -1.047168 +/- 0.029941\n",
      "Energy evaluation 893 returned -0.995076 +/- 0.032124\n",
      "Energy evaluation 894 returned -1.009023 +/- 0.029651\n",
      "Energy evaluation 895 returned -1.004003 +/- 0.032725\n",
      "Energy evaluation 896 returned -0.968634 +/- 0.027834\n",
      "Energy evaluation 897 returned -1.009351 +/- 0.029933\n",
      "Energy evaluation 898 returned -1.058100 +/- 0.029780\n",
      "Energy evaluation 899 returned -1.080048 +/- 0.030266\n",
      "Energy evaluation 900 returned -0.987050 +/- 0.030403\n",
      "Energy evaluation 901 returned -1.066432 +/- 0.031535\n",
      "Energy evaluation 902 returned -1.025815 +/- 0.029332\n",
      "Energy evaluation 903 returned -0.997605 +/- 0.032094\n",
      "Energy evaluation 904 returned -1.021647 +/- 0.030131\n",
      "Energy evaluation 905 returned -1.008002 +/- 0.028398\n",
      "Energy evaluation 906 returned -1.083282 +/- 0.032930\n",
      "Energy evaluation 907 returned -0.986042 +/- 0.031845\n",
      "Energy evaluation 908 returned -0.999664 +/- 0.031380\n",
      "Energy evaluation 909 returned -0.995228 +/- 0.031296\n",
      "Energy evaluation 910 returned -1.071293 +/- 0.030609\n",
      "Energy evaluation 911 returned -1.021714 +/- 0.030650\n",
      "Energy evaluation 912 returned -0.984121 +/- 0.031598\n",
      "Energy evaluation 913 returned -0.906140 +/- 0.033059\n",
      "Energy evaluation 914 returned -0.962667 +/- 0.031941\n",
      "Energy evaluation 915 returned -1.003275 +/- 0.033222\n"
     ]
    },
    {
     "name": "stdout",
     "output_type": "stream",
     "text": [
      "Energy evaluation 916 returned -1.027552 +/- 0.029684\n",
      "Energy evaluation 917 returned -1.038957 +/- 0.031342\n",
      "Energy evaluation 918 returned -1.032703 +/- 0.030499\n",
      "Energy evaluation 919 returned -1.012438 +/- 0.031287\n",
      "Energy evaluation 920 returned -0.954840 +/- 0.032072\n",
      "Energy evaluation 921 returned -0.941036 +/- 0.031047\n",
      "Energy evaluation 922 returned -0.978787 +/- 0.032874\n",
      "Energy evaluation 923 returned -1.023992 +/- 0.031888\n",
      "Energy evaluation 924 returned -1.051470 +/- 0.030525\n",
      "Energy evaluation 925 returned -0.953305 +/- 0.032180\n",
      "Energy evaluation 926 returned -1.027486 +/- 0.031497\n",
      "Energy evaluation 927 returned -1.012056 +/- 0.030152\n",
      "Energy evaluation 928 returned -1.005287 +/- 0.032828\n",
      "Energy evaluation 929 returned -0.958502 +/- 0.034190\n",
      "Energy evaluation 930 returned -1.005403 +/- 0.029471\n",
      "Energy evaluation 931 returned -0.951173 +/- 0.030098\n",
      "Energy evaluation 932 returned -0.983252 +/- 0.031644\n",
      "Energy evaluation 933 returned -1.014983 +/- 0.031564\n",
      "Energy evaluation 934 returned -1.020637 +/- 0.030994\n",
      "Energy evaluation 935 returned -0.979045 +/- 0.031183\n",
      "Energy evaluation 936 returned -1.019122 +/- 0.030343\n",
      "Energy evaluation 937 returned -0.975833 +/- 0.029680\n",
      "Energy evaluation 938 returned -1.014263 +/- 0.034816\n",
      "Energy evaluation 939 returned -1.011748 +/- 0.031408\n",
      "Energy evaluation 940 returned -0.980889 +/- 0.031409\n",
      "Energy evaluation 941 returned -0.994026 +/- 0.033422\n",
      "Energy evaluation 942 returned -0.986416 +/- 0.029618\n",
      "Energy evaluation 943 returned -1.000234 +/- 0.031609\n",
      "Energy evaluation 944 returned -0.987262 +/- 0.032685\n",
      "Energy evaluation 945 returned -0.982514 +/- 0.030606\n",
      "Energy evaluation 946 returned -1.048452 +/- 0.031562\n",
      "Energy evaluation 947 returned -0.966857 +/- 0.033662\n",
      "Energy evaluation 948 returned -0.993959 +/- 0.030461\n",
      "Energy evaluation 949 returned -0.984632 +/- 0.031115\n",
      "Energy evaluation 950 returned -0.980623 +/- 0.032735\n",
      "Energy evaluation 951 returned -0.989101 +/- 0.032322\n",
      "Energy evaluation 952 returned -1.051076 +/- 0.030681\n",
      "Energy evaluation 953 returned -0.978454 +/- 0.032496\n",
      "Energy evaluation 954 returned -0.995703 +/- 0.030221\n",
      "Energy evaluation 955 returned -0.984192 +/- 0.033358\n",
      "Energy evaluation 956 returned -0.989634 +/- 0.029976\n",
      "Energy evaluation 957 returned -1.002075 +/- 0.032222\n",
      "Energy evaluation 958 returned -1.022773 +/- 0.030444\n",
      "Energy evaluation 959 returned -1.017580 +/- 0.032618\n",
      "Energy evaluation 960 returned -1.076650 +/- 0.029324\n",
      "Energy evaluation 961 returned -1.033148 +/- 0.031903\n",
      "Energy evaluation 962 returned -0.983973 +/- 0.030337\n",
      "Energy evaluation 963 returned -1.007571 +/- 0.029704\n",
      "Energy evaluation 964 returned -1.043149 +/- 0.032099\n",
      "Energy evaluation 965 returned -1.001924 +/- 0.031119\n",
      "Energy evaluation 966 returned -0.986784 +/- 0.031841\n",
      "Energy evaluation 967 returned -1.082205 +/- 0.029332\n",
      "Energy evaluation 968 returned -0.972525 +/- 0.033719\n",
      "Energy evaluation 969 returned -1.006405 +/- 0.029949\n",
      "Energy evaluation 970 returned -1.051903 +/- 0.031756\n",
      "Energy evaluation 971 returned -1.020721 +/- 0.030698\n",
      "Energy evaluation 972 returned -1.008382 +/- 0.030580\n",
      "Energy evaluation 973 returned -0.956208 +/- 0.033673\n",
      "Energy evaluation 974 returned -1.043983 +/- 0.029133\n",
      "Energy evaluation 975 returned -0.979724 +/- 0.032870\n",
      "Energy evaluation 976 returned -1.023193 +/- 0.030027\n",
      "Energy evaluation 977 returned -0.995601 +/- 0.029177\n",
      "Energy evaluation 978 returned -1.043253 +/- 0.032594\n",
      "Energy evaluation 979 returned -0.939233 +/- 0.030988\n",
      "Energy evaluation 980 returned -1.003961 +/- 0.031889\n",
      "Energy evaluation 981 returned -0.980294 +/- 0.032455\n",
      "Energy evaluation 982 returned -1.001026 +/- 0.031860\n",
      "Energy evaluation 983 returned -1.039580 +/- 0.029283\n",
      "Energy evaluation 984 returned -0.957826 +/- 0.033157\n",
      "Energy evaluation 985 returned -0.953085 +/- 0.028276\n",
      "Energy evaluation 986 returned -1.035063 +/- 0.033699\n",
      "Energy evaluation 987 returned -0.952345 +/- 0.032437\n",
      "Energy evaluation 988 returned -0.988995 +/- 0.031107\n",
      "Energy evaluation 989 returned -1.005049 +/- 0.034489\n",
      "Energy evaluation 990 returned -0.976047 +/- 0.029938\n",
      "Energy evaluation 991 returned -1.040770 +/- 0.032332\n",
      "Energy evaluation 992 returned -1.051077 +/- 0.029297\n",
      "Energy evaluation 993 returned -0.994302 +/- 0.031076\n",
      "Energy evaluation 994 returned -1.000177 +/- 0.031545\n",
      "Energy evaluation 995 returned -1.059233 +/- 0.030560\n",
      "Energy evaluation 996 returned -0.943895 +/- 0.031980\n",
      "Energy evaluation 997 returned -0.996269 +/- 0.032550\n",
      "Energy evaluation 998 returned -1.018806 +/- 0.031940\n",
      "Energy evaluation 999 returned -0.985877 +/- 0.030149\n",
      "Energy evaluation 1000 returned -1.014200 +/- 0.033021\n",
      "Energy evaluation 1001 returned -0.980908 +/- 0.033599\n",
      "Energy evaluation 1002 returned -0.960637 +/- 0.030494\n",
      "Energy evaluation 1003 returned -1.057159 +/- 0.032433\n",
      "Energy evaluation 1004 returned -0.960011 +/- 0.031435\n",
      "Energy evaluation 1005 returned -1.029741 +/- 0.032445\n",
      "Energy evaluation 1006 returned -1.008653 +/- 0.032447\n",
      "Energy evaluation 1007 returned -1.029259 +/- 0.031117\n",
      "Energy evaluation 1008 returned -0.933410 +/- 0.033941\n",
      "Energy evaluation 1009 returned -1.015444 +/- 0.031688\n",
      "Energy evaluation 1010 returned -0.996858 +/- 0.031926\n",
      "Energy evaluation 1011 returned -1.011008 +/- 0.030782\n",
      "Energy evaluation 1012 returned -0.960961 +/- 0.032693\n",
      "Energy evaluation 1013 returned -0.981880 +/- 0.030086\n",
      "Energy evaluation 1014 returned -1.004666 +/- 0.035247\n",
      "Energy evaluation 1015 returned -1.014012 +/- 0.031641\n",
      "Energy evaluation 1016 returned -1.029690 +/- 0.030527\n",
      "Energy evaluation 1017 returned -0.939272 +/- 0.035263\n",
      "Energy evaluation 1018 returned -0.988080 +/- 0.029403\n",
      "Energy evaluation 1019 returned -0.994735 +/- 0.030244\n",
      "Energy evaluation 1020 returned -1.050457 +/- 0.033609\n",
      "Energy evaluation 1021 returned -0.991310 +/- 0.031102\n",
      "Energy evaluation 1022 returned -1.046572 +/- 0.032027\n",
      "Energy evaluation 1023 returned -1.056091 +/- 0.031667\n",
      "Energy evaluation 1024 returned -0.973981 +/- 0.032808\n",
      "Energy evaluation 1025 returned -1.096347 +/- 0.028933\n",
      "Energy evaluation 1026 returned -1.011837 +/- 0.034143\n",
      "Energy evaluation 1027 returned -1.007744 +/- 0.031929\n",
      "Energy evaluation 1028 returned -0.989976 +/- 0.033064\n",
      "Energy evaluation 1029 returned -0.998382 +/- 0.031782\n",
      "Energy evaluation 1030 returned -0.993342 +/- 0.031438\n",
      "Energy evaluation 1031 returned -0.984503 +/- 0.030274\n",
      "Energy evaluation 1032 returned -1.000098 +/- 0.032164\n",
      "Energy evaluation 1033 returned -1.008085 +/- 0.032786\n",
      "Energy evaluation 1034 returned -1.008753 +/- 0.030021\n",
      "Energy evaluation 1035 returned -1.006708 +/- 0.030807\n",
      "Energy evaluation 1036 returned -1.010562 +/- 0.033671\n",
      "Energy evaluation 1037 returned -0.994265 +/- 0.030746\n",
      "Energy evaluation 1038 returned -0.986126 +/- 0.033145\n",
      "Energy evaluation 1039 returned -0.994033 +/- 0.031267\n",
      "Energy evaluation 1040 returned -0.966239 +/- 0.033731\n",
      "Energy evaluation 1041 returned -1.031516 +/- 0.031611\n",
      "Energy evaluation 1042 returned -0.947196 +/- 0.032370\n",
      "Energy evaluation 1043 returned -1.006401 +/- 0.032874\n",
      "Energy evaluation 1044 returned -0.991555 +/- 0.031208\n",
      "Energy evaluation 1045 returned -0.980332 +/- 0.030799\n",
      "Energy evaluation 1046 returned -0.985517 +/- 0.033285\n",
      "Energy evaluation 1047 returned -1.013518 +/- 0.034536\n",
      "Energy evaluation 1048 returned -0.989324 +/- 0.030178\n",
      "Energy evaluation 1049 returned -1.029435 +/- 0.030922\n",
      "Energy evaluation 1050 returned -1.003269 +/- 0.032143\n",
      "Energy evaluation 1051 returned -1.031053 +/- 0.031134\n"
     ]
    }
   ],
   "source": [
    "res = sim.run(my_quantum_instance)"
   ]
  },
  {
   "cell_type": "code",
   "execution_count": 47,
   "metadata": {},
   "outputs": [
    {
     "data": {
      "text/plain": [
       "{'num_optimizer_evals': None,\n",
       " 'min_val': -1.0310529453124997,\n",
       " 'opt_params': array([ 0.13028114, -1.18048464,  0.17737505]),\n",
       " 'eval_time': 319.48160219192505,\n",
       " 'eval_count': 1051,\n",
       " 'energy': -1.0310529453124997,\n",
       " 'eigvals': array([-1.03105295]),\n",
       " 'min_vector': {'00': 679, '10': 35, '01': 306, '11': 4},\n",
       " 'eigvecs': array([{'00': 679, '10': 35, '01': 306, '11': 4}], dtype=object)}"
      ]
     },
     "execution_count": 47,
     "metadata": {},
     "output_type": "execute_result"
    }
   ],
   "source": [
    "res"
   ]
  },
  {
   "cell_type": "code",
   "execution_count": 48,
   "metadata": {},
   "outputs": [
    {
     "data": {
      "text/plain": [
       "{'00': 669, '10': 39, '01': 311, '11': 5}"
      ]
     },
     "execution_count": 48,
     "metadata": {},
     "output_type": "execute_result"
    }
   ],
   "source": [
    "sim.get_optimal_vector()"
   ]
  },
  {
   "cell_type": "code",
   "execution_count": 40,
   "metadata": {},
   "outputs": [
    {
     "data": {
      "text/plain": [
       "-1.0123023945312497"
      ]
     },
     "execution_count": 40,
     "metadata": {},
     "output_type": "execute_result"
    }
   ],
   "source": [
    "sim.get_optimal_cost()"
   ]
  },
  {
   "cell_type": "code",
   "execution_count": 41,
   "metadata": {},
   "outputs": [],
   "source": [
    "energy_eval = sim.get_optimal_cost()"
   ]
  },
  {
   "cell_type": "code",
   "execution_count": 42,
   "metadata": {},
   "outputs": [],
   "source": [
    "energy_eval_err = 0.011"
   ]
  },
  {
   "cell_type": "code",
   "execution_count": 43,
   "metadata": {},
   "outputs": [
    {
     "data": {
      "text/plain": [
       "array([ 0.16592805, -1.17523697,  0.09040933])"
      ]
     },
     "execution_count": 43,
     "metadata": {},
     "output_type": "execute_result"
    }
   ],
   "source": [
    "sim._ret['opt_params']"
   ]
  },
  {
   "cell_type": "code",
   "execution_count": 44,
   "metadata": {},
   "outputs": [
    {
     "name": "stdout",
     "output_type": "stream",
     "text": [
      "Energy evaluation 1052 returned -1.026434 +/- 0.032051\n",
      "Energy evaluation 1053 returned -1.038314 +/- 0.031294\n",
      "Energy evaluation 1054 returned -0.969552 +/- 0.033326\n",
      "Energy evaluation 1055 returned -1.061718 +/- 0.031637\n",
      "Energy evaluation 1056 returned -0.998336 +/- 0.031866\n"
     ]
    },
    {
     "data": {
      "text/plain": [
       "-0.9983360878906249"
      ]
     },
     "execution_count": 44,
     "metadata": {},
     "output_type": "execute_result"
    }
   ],
   "source": [
    "sim._energy_evaluation(sim._ret['opt_params'])\n",
    "sim._energy_evaluation(sim._ret['opt_params'])\n",
    "sim._energy_evaluation(sim._ret['opt_params'])\n",
    "sim._energy_evaluation(sim._ret['opt_params'])\n",
    "sim._energy_evaluation(sim._ret['opt_params'])"
   ]
  },
  {
   "cell_type": "code",
   "execution_count": 45,
   "metadata": {},
   "outputs": [
    {
     "data": {
      "text/plain": [
       "<QasmSimulator('qasm_simulator') from AerProvider()>"
      ]
     },
     "execution_count": 45,
     "metadata": {},
     "output_type": "execute_result"
    }
   ],
   "source": [
    "sim.quantum_instance.backend"
   ]
  },
  {
   "cell_type": "code",
   "execution_count": 52,
   "metadata": {},
   "outputs": [
    {
     "data": {
      "image/png": "[encoded data removed]",
      "text/plain": [
       "<PIL.Image.Image image mode=RGB size=2026x313 at 0x127D71DD8>"
      ]
     },
     "execution_count": 52,
     "metadata": {},
     "output_type": "execute_result"
    }
   ],
   "source": [
    "from qiskit.aqua.utils.run_circuits import find_regs_by_name\n",
    "opt_circ = sim.get_optimal_circuit()\n",
    "c = ClassicalRegister(opt_circ.width(), name='c')\n",
    "q = find_regs_by_name(opt_circ, 'q')\n",
    "opt_circ.add_register(c)\n",
    "opt_circ.barrier(q)\n",
    "opt_circ.measure(q, c)\n",
    "opt_circ.draw(output='latex', filename='example_gate.png', scale=1.0)"
   ]
  },
  {
   "cell_type": "code",
   "execution_count": 55,
   "metadata": {},
   "outputs": [
    {
     "name": "stdout",
     "output_type": "stream",
     "text": [
      "% \\documentclass[preview]{standalone}\n",
      "% If the image is too large to fit on this documentclass use\n",
      "\\documentclass[draft]{beamer}\n",
      "% img_width = 4, img_depth = 12\n",
      "\\usepackage[size=custom,height=10,width=40,scale=0.5]{beamerposter}\n",
      "% instead and customize the height and width (in cm) to fit.\n",
      "% Large images may run out of memory quickly.\n",
      "% To fix this use the LuaLaTeX compiler, which dynamically\n",
      "% allocates memory.\n",
      "\\usepackage[braket, qm]{qcircuit}\n",
      "\\usepackage{amsmath}\n",
      "\\pdfmapfile{+sansmathaccent.map}\n",
      "% \\usepackage[landscape]{geometry}\n",
      "% Comment out the above line if using the beamer documentclass.\n",
      "\\begin{document}\n",
      "\\begin{equation*}\n",
      "    \\Qcircuit @C=1.0em @R=0.0em @!R {\n",
      "\t \t\\lstick{ q_{0} : \\ket{0} } & \\gate{U_3(-1.18,0,0)} & \\ctrl{1} & \\qw & \\ctrl{1} & \\qw \\barrier[0em]{1} & \\qw \\barrier[0em]{1} & \\qw & \\meter & \\qw & \\qw & \\qw & \\qw\\\\\n",
      "\t \t\\lstick{ q_{1} : \\ket{0} } & \\gate{U_3(0.166,0,0)} & \\targ & \\gate{U_3(0.166,0,0)} & \\targ & \\gate{U_3(0.0904,0,0)} & \\qw & \\qw & \\qw & \\meter & \\qw & \\qw & \\qw\\\\\n",
      "\t \t\\lstick{c_{0}: 0} & \\cw & \\cw & \\cw & \\cw & \\cw & \\cw & \\cw & \\cw \\cwx[-2] & \\cw & \\cw & \\cw & \\cw\\\\\n",
      "\t \t\\lstick{c_{1}: 0} & \\cw & \\cw & \\cw & \\cw & \\cw & \\cw & \\cw & \\cw & \\cw \\cwx[-2] & \\cw & \\cw & \\cw\\\\\n",
      "\t }\n",
      "\\end{equation*}\n",
      "\n",
      "\\end{document}\n"
     ]
    }
   ],
   "source": [
    "latex_source = opt_circ.draw(output='latex_source', filename='example_gate.png', scale=0.5)\n",
    "print(latex_source)"
   ]
  },
  {
   "cell_type": "code",
   "execution_count": 36,
   "metadata": {},
   "outputs": [],
   "source": [
    "# build an optimized circuit;\n",
    "# make measurement, retrieve memory\n",
    "# bootstrap uncertainties"
   ]
  },
  {
   "cell_type": "code",
   "execution_count": 37,
   "metadata": {},
   "outputs": [
    {
     "data": {
      "text/plain": [
       "1024"
      ]
     },
     "execution_count": 37,
     "metadata": {},
     "output_type": "execute_result"
    }
   ],
   "source": [
    "sim.quantum_instance.run_config.shots"
   ]
  },
  {
   "cell_type": "code",
   "execution_count": 38,
   "metadata": {},
   "outputs": [],
   "source": [
    "sim.quantum_instance.set_config(shots=1024, memory=True)"
   ]
  },
  {
   "cell_type": "code",
   "execution_count": 39,
   "metadata": {},
   "outputs": [
    {
     "data": {
      "text/plain": [
       "RunConfig(max_credits=10, memory=True, shots=1024)"
      ]
     },
     "execution_count": 39,
     "metadata": {},
     "output_type": "execute_result"
    }
   ],
   "source": [
    "sim.quantum_instance.run_config"
   ]
  },
  {
   "cell_type": "code",
   "execution_count": 99,
   "metadata": {},
   "outputs": [],
   "source": [
    "# takes in results from a single circuit \n",
    "# with memory=True, and estimates\n",
    "# the uncertanities on the probability of each outcome \n",
    "# (currently with bootstrap)\n",
    "# returns outcome:(pba, std) dictionary\n",
    "def compute_stats(res, invert_qubit_order = False):\n",
    "    # check that there is a single circuit in the results\n",
    "    # (ambiguous otherwise)\n",
    "    assert(len(res.results)==1)\n",
    "    # generates all possible outcomes given \\\n",
    "    # the number of qubits \n",
    "    def _generate_bitstrings(nqubits, invert_qubit_order):\n",
    "        # (recursive, modifies all_strings in place)\n",
    "        def _generate_bitstrings_rec(nqubits, all_strings, a_string, irecur): \n",
    "            # base\n",
    "            if irecur == nqubits: \n",
    "                all_strings.append(''.join([bit for bit in a_string]))\n",
    "                return \n",
    "            # append 0\n",
    "            _generate_bitstrings_rec(nqubits, all_strings, a_string + ['0'], irecur + 1)\n",
    "            # append 1\n",
    "            _generate_bitstrings_rec(nqubits, all_strings, a_string + ['1'], irecur + 1)\n",
    "        all_strings = []\n",
    "        _generate_bitstrings_rec(nqubits, all_strings, [], 0)\n",
    "        if (invert_qubit_order): \n",
    "        # pesky Qiskit messes up qubit ordering... this may or may not be necessary to translate the results.\n",
    "            all_strings = [''.join(reversed(bitstring)) for bitstring in all_strings]\n",
    "        return all_strings\n",
    "    # bootstrap specific?\n",
    "    # given ensembles of outcomes and a particular outcome\n",
    "    # calculates the statistics of that outcome:\n",
    "    # returns outcome:(pba, std) estimates for the outcome\n",
    "    def _calc_outcome_stats(ensembles, nshots, outcome):\n",
    "        cts = np.count_nonzero(ensembles==outcome, axis=0)\n",
    "        pba = np.mean(cts)/nshots\n",
    "        std = np.std(cts/nshots, ddof = 1) # use unbiased estimator\n",
    "        return (pba, std)\n",
    "    nqubits = int(np.log2(len(res.get_counts(0)))) # pull number of qubits from results\n",
    "    outcomes = _generate_bitstrings(nqubits, invert_qubit_order)\n",
    "    mem = res.get_memory(0)\n",
    "    nshots = sum(list(res.get_counts(0).values()))\n",
    "    nens = nshots # choose number of ensemles = number of samples\n",
    "    nsam = nshots\n",
    "    ensembles = np.random.choice(mem, (nens, nsam))\n",
    "    stats = map(lambda outcome: (outcome, _calc_outcome_stats(ensembles, nshots, outcome)), outcomes)\n",
    "    return dict(stats)"
   ]
  },
  {
   "cell_type": "code",
   "execution_count": 123,
   "metadata": {},
   "outputs": [],
   "source": [
    "sim.quantum_instance.set_config(shots=8*1024, memory=True)\n",
    "opt_res = sim.quantum_instance.execute(opt_circ)\n",
    "sim.quantum_instance.set_config(shots=8*1024, memory=False) # reset to no memory! saves resources?"
   ]
  },
  {
   "cell_type": "code",
   "execution_count": 124,
   "metadata": {},
   "outputs": [],
   "source": [
    "measured_coeffs =compute_stats(opt_res)"
   ]
  },
  {
   "cell_type": "code",
   "execution_count": 125,
   "metadata": {},
   "outputs": [
    {
     "data": {
      "text/plain": [
       "{'00': (0.6633566468954086, 0.0051791707031224),\n",
       " '01': (0.31028591096401215, 0.005074526669436938),\n",
       " '10': (0.024283871054649353, 0.001710327639293606),\n",
       " '11': (0.0020735710859298706, 0.0005048760400780176)}"
      ]
     },
     "execution_count": 125,
     "metadata": {},
     "output_type": "execute_result"
    }
   ],
   "source": [
    "measured_coeffs"
   ]
  },
  {
   "cell_type": "code",
   "execution_count": 126,
   "metadata": {},
   "outputs": [
    {
     "data": {
      "image/png": "[encoded data removed]",
      "text/plain": [
       "<PIL.Image.Image image mode=RGB size=1051x160 at 0x127691908>"
      ]
     },
     "execution_count": 126,
     "metadata": {},
     "output_type": "execute_result"
    }
   ],
   "source": [
    "transp_circ = transpile(opt_circ, sim.quantum_instance.backend, optimization_level=3)\n",
    "transp_circ.draw(output='latex', scale=0.5)"
   ]
  },
  {
   "cell_type": "code",
   "execution_count": 45,
   "metadata": {},
   "outputs": [
    {
     "data": {
      "image/png": "[encoded data removed]",
      "text/plain": [
       "<PIL.Image.Image image mode=RGB size=1051x160 at 0x126CFB438>"
      ]
     },
     "execution_count": 45,
     "metadata": {},
     "output_type": "execute_result"
    }
   ],
   "source": [
    "opt_circ.decompose().draw(output='latex', scale=0.5)"
   ]
  },
  {
   "cell_type": "code",
   "execution_count": 105,
   "metadata": {},
   "outputs": [],
   "source": [
    "# compare with Mathematica's expectations\n",
    "mathematica_res = -1.01162 # Even\n",
    "mathematica_res2 = 0.486204 # Odd\n",
    "\n",
    "# odd coefficients\n",
    "even_coeffs = [0.669069, 0.305919, 0.023941, 0.00107068]\n",
    "even_coeffs_at_theta = [0.664109, 0.0236388, 0.309821, 0.00243079]\n",
    "odd_coeffs = [0.7041621406145364, 0.2582831083289985, 0.03524433188695736, 0.002310419169507747]"
   ]
  },
  {
   "cell_type": "code",
   "execution_count": 129,
   "metadata": {},
   "outputs": [
    {
     "data": {
      "text/plain": [
       "<matplotlib.legend.Legend at 0x126d81908>"
      ]
     },
     "execution_count": 129,
     "metadata": {},
     "output_type": "execute_result"
    },
    {
     "data": {
      "image/png": "[encoded data removed]",
      "text/plain": [
       "<Figure size 432x288 with 1 Axes>"
      ]
     },
     "metadata": {
      "needs_background": "light"
     },
     "output_type": "display_data"
    }
   ],
   "source": [
    "import matplotlib.pyplot as plt\n",
    "outcomes = list(measured_coeffs.keys())\n",
    "outcomes_bars = np.arange(len(outcomes))\n",
    "avgs = [measured_coeffs[outcome][0] for outcome in outcomes]\n",
    "stds = [measured_coeffs[outcome][1] for outcome in outcomes]\n",
    "fig, ax = plt.subplots()\n",
    "ax.bar(outcomes_bars, avgs, yerr=stds, \n",
    "       align='center', alpha=0.5, ecolor='black',\n",
    "       edgecolor='k',\n",
    "       error_kw=dict(lw=0.5, capsize=10, capthick=2.0),\n",
    "       label='IBM sim')\n",
    "ax.set_ylabel(r'$|c_i|^2$', fontsize=16)\n",
    "ax.set_xlabel(r'outcome', fontsize=16)\n",
    "ax.set_xticks(outcomes_bars)\n",
    "ax.set_xticklabels(outcomes)\n",
    "ax.set_title('$E \\\\pm \\\\Delta E = %.3f \\\\pm %.3f$\\n($E = %.3f$ exact),\\n nshots=%d' \n",
    "             % (energy_eval, energy_eval_err, mathematica_res, \n",
    "                sim.quantum_instance.run_config.shots), fontsize=16)\n",
    "for icoeff in range(len(even_coeffs)):\n",
    "    ax.axhline(y = even_coeffs[icoeff], color ='red', linewidth = 0.5, \n",
    "               label=r'exact $|c_{%d}|^2 = %.3f$' % (icoeff+1, even_coeffs[icoeff]))\n",
    "    ax.axhline(y = even_coeffs_at_theta[icoeff], color ='green', linewidth = 0.5, \n",
    "               label=r'exact $|c(\\theta)_{%d}|^2 = %.3f$' % (icoeff+1, even_coeffs_at_theta[icoeff]))\n",
    "ax.set_yscale('log')\n",
    "plt.tight_layout()\n",
    "plt.legend(frameon=False, fontsize=16, bbox_to_anchor=(1.04,1), loc=\"upper left\")\n",
    "#plt.savefig(\"even.png\", dpi=300)"
   ]
  },
  {
   "cell_type": "code",
   "execution_count": null,
   "metadata": {},
   "outputs": [],
   "source": []
  }
 ],
 "metadata": {
  "kernelspec": {
   "display_name": "Python (Qiskitenv)",
   "language": "python",
   "name": "qiskitenv"
  },
  "language_info": {
   "codemirror_mode": {
    "name": "ipython",
    "version": 3
   },
   "file_extension": ".py",
   "mimetype": "text/x-python",
   "name": "python",
   "nbconvert_exporter": "python",
   "pygments_lexer": "ipython3",
   "version": "3.6.0"
  }
 },
 "nbformat": 4,
 "nbformat_minor": 2
}
