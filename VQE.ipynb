{
 "cells": [
  {
   "cell_type": "markdown",
   "metadata": {},
   "source": [
    "# VQE with Qiskit\n",
    "\n",
    "This is the current version of my VQE. Ideally this should not be in a Jupyter notebook, of course. But this form is convenient to play with the different parts of the Qiskit's infrastructure and see how they work."
   ]
  },
  {
   "cell_type": "code",
   "execution_count": 1,
   "metadata": {},
   "outputs": [
    {
     "data": {
      "text/plain": [
       "<AccountProvider for IBMQ(hub='ibm-q', group='open', project='main')>"
      ]
     },
     "execution_count": 1,
     "metadata": {},
     "output_type": "execute_result"
    }
   ],
   "source": [
    "from qiskit import *\n",
    "import qiskit.tools.jupyter\n",
    "import numpy as np\n",
    "IBMQ.load_account()"
   ]
  },
  {
   "cell_type": "code",
   "execution_count": 2,
   "metadata": {},
   "outputs": [],
   "source": [
    "from qiskit.aqua.components.variational_forms import VariationalForm\n",
    "from qiskit.aqua.components.initial_states import Zero, VarFormBased\n",
    "from qiskit.aqua.operators import MatrixOperator, TPBGroupedWeightedPauliOperator\n",
    "from qiskit.aqua.operators.op_converter import to_tpb_grouped_weighted_pauli_operator\n",
    "from qiskit.aqua.components.optimizers import SPSA\n",
    "from qiskit.aqua.algorithms.adaptive import VQE"
   ]
  },
  {
   "cell_type": "code",
   "execution_count": 3,
   "metadata": {},
   "outputs": [],
   "source": [
    "from scipy.sparse import *\n",
    "from scipy import *"
   ]
  },
  {
   "cell_type": "markdown",
   "metadata": {},
   "source": [
    "## VQE Settings"
   ]
  },
  {
   "cell_type": "code",
   "execution_count": 4,
   "metadata": {},
   "outputs": [],
   "source": [
    "num_qubits = 2"
   ]
  },
  {
   "cell_type": "markdown",
   "metadata": {},
   "source": [
    "## Variational Form"
   ]
  },
  {
   "cell_type": "code",
   "execution_count": 5,
   "metadata": {},
   "outputs": [],
   "source": [
    "num_var_params = 3\n",
    "var_form_depth = 1\n",
    "optimal_params = [-0.386244, 0.317799, -0.416888] # from exact solution\n",
    "initial_params = [0.0, 0.0, 0.0]\n",
    "var_form_depth2 = 2\n",
    "initial_params2 = [0.0, 0.0, 0.0, 0.0, 0.0, 0.0] # deeper ansatz / layer"
   ]
  },
  {
   "cell_type": "code",
   "execution_count": 6,
   "metadata": {},
   "outputs": [],
   "source": [
    "class SchwingerAnsatz(VariationalForm):\n",
    "    \"\"\" Variational Layer from Martin's Paper \"\"\"\n",
    "    \n",
    "    CONFIGURATION = {\n",
    "        'name': 'Schwinger Ansatz',\n",
    "        'description': 'Variational Form for Schwinger VQE',\n",
    "        'input_schema': {\n",
    "            '$schema': 'http://json-schema.org/draft-07/schema#',\n",
    "            'id': 'schwinger_schema',\n",
    "            'type': 'object',\n",
    "            'properties': {\n",
    "                'depth': {\n",
    "                    'type': 'integer',\n",
    "                    'default': 3,\n",
    "                    'minimum': 1\n",
    "                },\n",
    "                'entangler_map': {\n",
    "                    'type': ['array', 'null'],\n",
    "                    'default': None\n",
    "                },\n",
    "                'entanglement_gate': {\n",
    "                    'type': 'string',\n",
    "                    'default': 'cx',\n",
    "                    'enum': ['cx']\n",
    "                },\n",
    "            },\n",
    "            'additionalProperties': False\n",
    "        },\n",
    "        'depends': [\n",
    "            {\n",
    "                'pluggable_type': 'initial_state',\n",
    "                'default': {\n",
    "                    'name': 'ZERO',\n",
    "                }\n",
    "            },\n",
    "        ],\n",
    "    }\n",
    "    \n",
    "    def __init__(self, depth=3, entangler_map=None, initial_state=None):\n",
    "        \"\"\"\n",
    "        Constructor.\n",
    "        Args:\n",
    "            depth (int) : number of rotation layers\n",
    "            entangler_map (list[list]): describe the connectivity of qubits, each list describes\n",
    "                             [source, target], or None for full entanglement.\n",
    "                             Note that the order is the list is the order of\n",
    "                             applying the two-qubit gate.\n",
    "            initial_state (InitialState): an initial state object\n",
    "        \"\"\"\n",
    "        self.validate(locals())\n",
    "        super().__init__()\n",
    "        #_support_parameterized_circuit = True\n",
    "        # hard-coded, first pass through FIXME\n",
    "        num_qubits = 2\n",
    "        num_parameters = 3\n",
    "        entanglement='full'\n",
    "        entanglement_gate='cx'\n",
    "        skip_unentangled_qubits = False\n",
    "        self._num_qubits = num_qubits \n",
    "        self._depth = depth\n",
    "        if entangler_map is None:\n",
    "            self._entangler_map = VariationalForm.get_entangler_map(entanglement, num_qubits)\n",
    "        else:\n",
    "            self._entangler_map = VariationalForm.validate_entangler_map(entangler_map, num_qubits)\n",
    "        # determine the entangled qubits\n",
    "        all_qubits = []\n",
    "        for src, targ in self._entangler_map:\n",
    "            all_qubits.extend([src, targ])\n",
    "        self._entangled_qubits = sorted(list(set(all_qubits)))\n",
    "        self._initial_state = initial_state\n",
    "        self._entanglement_gate = entanglement_gate\n",
    "        self._skip_unentangled_qubits = skip_unentangled_qubits\n",
    "        # for the first layer\n",
    "        self._num_parameters = num_parameters\n",
    "        # for repeated block\n",
    "        self._num_parameters += num_parameters * (depth-1)\n",
    "        self._bounds = [(-np.pi, np.pi)] * self._num_parameters\n",
    "    \n",
    "    def construct_circuit(self, parameters, q=None):\n",
    "        \"\"\"\n",
    "        Construct the variational form, given its parameters.\n",
    "        \n",
    "        Args:\n",
    "            parameters (numpy.ndarray): circuit parameters\n",
    "            q (QuantumRegister): Quantum Register for the circuit.\n",
    "            \n",
    "        Returns:\n",
    "            QuantumCircuit: a quantum circuit with given `parameters`\n",
    "            \n",
    "        Raises:\n",
    "            ValueError: the number of parameters is incorrect.\n",
    "        \"\"\"\n",
    "        if len(parameters) != self._num_parameters:\n",
    "            raise ValueError('The number of parameters has to be {}'.format(self._num_parameters))\n",
    "        \n",
    "        if q is None:\n",
    "            q = QuantumRegister(self._num_qubits, name='q')\n",
    "        if self._initial_state is not None:\n",
    "            circuit = self._initial_state.construct_circuit('circuit', q)\n",
    "        else:\n",
    "            circuit = QuantumCircuit(q)\n",
    "        #\n",
    "        param_idx = 0\n",
    "        \n",
    "        def angle(theta=0., phi=0., lam=0.):\n",
    "            return [theta, phi, lam]\n",
    "\n",
    "        for _ in range(self._depth):\n",
    "            # get variational parameters for this layer\n",
    "            t0 = parameters[param_idx] # theta-angle values\n",
    "            t1 = parameters[param_idx+1]\n",
    "            t2 = parameters[param_idx+2]\n",
    "            t = [angle(t_i) for t_i in [t0, t1, t2]]\n",
    "            # Construct circuit\n",
    "            circuit.u3(*(t[1]), 0)  # u3(*angles, q)\n",
    "            circuit.u3(*(t[0]), 1)\n",
    "            circuit.cx(0, 1)        # entangling qubit cx(ctrl, tgt)\n",
    "            circuit.u3(*(t[0]), 1)\n",
    "            circuit.cx(0, 1)        # entangling qubit cx(ctrl, tgt)\n",
    "            circuit.u3(*(t[2]), 1)\n",
    "            circuit.barrier(q)\n",
    "\n",
    "        return circuit  "
   ]
  },
  {
   "cell_type": "code",
   "execution_count": 7,
   "metadata": {},
   "outputs": [
    {
     "data": {
      "image/png": "[encoded data removed]",
      "text/plain": [
       "<PIL.Image.Image image mode=RGB size=725x92 at 0x1210C09E8>"
      ]
     },
     "execution_count": 7,
     "metadata": {},
     "output_type": "execute_result"
    }
   ],
   "source": [
    "schwinger_form = SchwingerAnsatz(var_form_depth)\n",
    "vqs_circ = schwinger_form.construct_circuit(initial_params)\n",
    "vqs_circ.draw(output='latex', scale=0.5)"
   ]
  },
  {
   "cell_type": "markdown",
   "metadata": {},
   "source": [
    "## Initial State"
   ]
  },
  {
   "cell_type": "code",
   "execution_count": 8,
   "metadata": {},
   "outputs": [
    {
     "data": {
      "image/png": "[encoded data removed]",
      "text/plain": [
       "<PIL.Image.Image image mode=RGB size=136x50 at 0x1210145F8>"
      ]
     },
     "execution_count": 8,
     "metadata": {},
     "output_type": "execute_result"
    }
   ],
   "source": [
    "fiducial_state = Zero(num_qubits)\n",
    "fid_circ = fiducial_state.construct_circuit()\n",
    "fid_circ.draw(output='latex', scale=0.5)"
   ]
  },
  {
   "cell_type": "code",
   "execution_count": 9,
   "metadata": {},
   "outputs": [
    {
     "data": {
      "image/png": "[encoded data removed]",
      "text/plain": [
       "<PIL.Image.Image image mode=RGB size=725x92 at 0x103831828>"
      ]
     },
     "execution_count": 9,
     "metadata": {},
     "output_type": "execute_result"
    }
   ],
   "source": [
    "var_form_wavefunction = VarFormBased(schwinger_form, initial_params)\n",
    "var_form_wavefunction.construct_circuit().draw(output='latex', scale=0.5)"
   ]
  },
  {
   "cell_type": "markdown",
   "metadata": {},
   "source": [
    "## Hamiltonian"
   ]
  },
  {
   "cell_type": "code",
   "execution_count": 10,
   "metadata": {},
   "outputs": [],
   "source": [
    "# these correspond to L=2 spatial sites. \n",
    "# They have slightly different truncations so that the dimensions of the matrices are the same.\n",
    "\n",
    "h_even = np.array([\n",
    " [-0.20036, 1.19976, 0., 0.],\n",
    " [1.19976, 1., 0.848358, 0.],\n",
    " [0., 0.848358, 2.20036, 0.848358],\n",
    " [0., 0., 0.848358, 3.]\n",
    "])\n",
    "\n",
    "h_odd = np.array([\n",
    "    [1., 0.848358, 0., 0.],\n",
    "    [0.848358, 2.20036, -0.848358, 0.],\n",
    "    [0., -0.848358, 3., -0.848358],\n",
    "    [0., 0., -0.848358, 3.79964]\n",
    "])"
   ]
  },
  {
   "cell_type": "code",
   "execution_count": 11,
   "metadata": {},
   "outputs": [],
   "source": [
    "# this is a \"switch\" :)\n",
    "h = h_even\n",
    "# h = h_odd"
   ]
  },
  {
   "cell_type": "code",
   "execution_count": 12,
   "metadata": {},
   "outputs": [],
   "source": [
    "# Thread on qubit ordering in Qiskit\n",
    "# https://github.com/Qiskit/qiskit-terra/issues/1148"
   ]
  },
  {
   "cell_type": "code",
   "execution_count": 13,
   "metadata": {},
   "outputs": [
    {
     "name": "stdout",
     "output_type": "stream",
     "text": [
      "TPB: YY (2)\n",
      "II\t(1.5+0j)\n",
      "YY\t(0.424179+0j)\n",
      "TPB: XX (2)\n",
      "IX\t(1.0240589999999998+0j)\n",
      "XX\t(0.424179+0j)\n",
      "TPB: ZZ (3)\n",
      "IZ\t(-0.5+0j)\n",
      "ZI\t(-1.10018+0j)\n",
      "ZZ\t(-0.10017999999999999+0j)\n",
      "TPB: ZX (1)\n",
      "ZX\t(0.175701+0j)\n",
      "\n"
     ]
    }
   ],
   "source": [
    "H_mat = csr_matrix(h)\n",
    "H_MatrixOperator = MatrixOperator(H_mat)\n",
    "H_Operator = to_tpb_grouped_weighted_pauli_operator(H_MatrixOperator, \n",
    "                                                    TPBGroupedWeightedPauliOperator.sorted_grouping)\n",
    "print(H_Operator.print_details())"
   ]
  },
  {
   "cell_type": "code",
   "execution_count": 14,
   "metadata": {},
   "outputs": [],
   "source": [
    "operator_mode=None\n",
    "input_circuit=None\n",
    "backend=None\n",
    "qr=None\n",
    "cr=None\n",
    "use_simulator_operator_mode=False\n",
    "wave_function=fid_circ\n",
    "statevector_mode=True"
   ]
  },
  {
   "cell_type": "code",
   "execution_count": 15,
   "metadata": {},
   "outputs": [],
   "source": [
    "H_circs = H_Operator.construct_evaluation_circuit(operator_mode,\n",
    "                                        input_circuit,\n",
    "                                        backend,\n",
    "                                        qr,\n",
    "                                        cr,\n",
    "                                        use_simulator_operator_mode,\n",
    "                                        wave_function,\n",
    "                                        statevector_mode)"
   ]
  },
  {
   "cell_type": "code",
   "execution_count": 16,
   "metadata": {},
   "outputs": [
    {
     "data": {
      "image/png": "[encoded data removed]",
      "text/plain": [
       "<PIL.Image.Image image mode=RGB size=136x50 at 0x1225ED668>"
      ]
     },
     "execution_count": 16,
     "metadata": {},
     "output_type": "execute_result"
    }
   ],
   "source": [
    "H_circs[0].draw(output='latex', scale=0.5)"
   ]
  },
  {
   "cell_type": "code",
   "execution_count": 17,
   "metadata": {},
   "outputs": [
    {
     "data": {
      "image/png": "[encoded data removed]",
      "text/plain": [
       "<PIL.Image.Image image mode=RGB size=326x100 at 0x1210DD2B0>"
      ]
     },
     "execution_count": 17,
     "metadata": {},
     "output_type": "execute_result"
    }
   ],
   "source": [
    "H_circs[1].draw(output='latex', scale=0.5)"
   ]
  },
  {
   "cell_type": "markdown",
   "metadata": {},
   "source": [
    "## Optimizer"
   ]
  },
  {
   "cell_type": "code",
   "execution_count": 18,
   "metadata": {},
   "outputs": [
    {
     "name": "stdout",
     "output_type": "stream",
     "text": [
      "Optimizer: SPSA\n",
      "-- gradient_support_level: 1\n",
      "-- bounds_support_level: 1\n",
      "-- initial_point_support_level: 3\n",
      "-- options: {'last_avg': 1, 'save_steps': 1}\n",
      "-- max_evals_grouped: 1\n",
      "-- max_trials: 500\n",
      "-- parameters: [0.62831853 0.1        0.602      0.101      0.        ]\n",
      "-- skip_calibration: False\n",
      "\n"
     ]
    }
   ],
   "source": [
    "max_trials = 500\n",
    "optimizer = qiskit.aqua.components.optimizers.SPSA(max_trials)\n",
    "print(optimizer.setting) "
   ]
  },
  {
   "cell_type": "markdown",
   "metadata": {},
   "source": [
    "## Variational Quantum Simulation\n",
    "### Extend VQE class to incude statistics in results, or find a way to retrieve statistics from the existing class\n",
    "\n",
    "Q: where is the counts object in the existing class?"
   ]
  },
  {
   "cell_type": "code",
   "execution_count": 19,
   "metadata": {},
   "outputs": [],
   "source": [
    "# a callback that can access the intermediate data \n",
    "# during the optimization.\n",
    "# Internally, four arguments are provided as follows \n",
    "# the index of evaluation, parameters of variational form,\n",
    "# evaluated mean, evaluated standard deviation.\n",
    "def simple_callback(eval_count, parameter_set, mean, std):\n",
    "    if eval_count % 1 == 0:\n",
    "        print('Energy evaluation %s returned %4f +/- %4f' % (eval_count, np.real(mean), np.real(std)))"
   ]
  },
  {
   "cell_type": "code",
   "execution_count": 20,
   "metadata": {},
   "outputs": [],
   "source": [
    "# classVQE(operator, var_form, optimizer, \n",
    "# operator_mode=None, initial_point=None, \n",
    "# max_evals_grouped=1, \n",
    "# aux_operators=None, callback=None, \n",
    "# auto_conversion=True)\n",
    "operator_mode = None\n",
    "initial_point = initial_params\n",
    "max_evals_grouped=1              # max number of evaluations performed simultaneously\n",
    "aux_operators = None\n",
    "auto_conversion=False\n",
    "sim = VQE(H_Operator, schwinger_form, optimizer,\n",
    "          operator_mode,\n",
    "          initial_point, \n",
    "          max_evals_grouped, \n",
    "          aux_operators, \n",
    "          simple_callback, \n",
    "          auto_conversion)"
   ]
  },
  {
   "cell_type": "code",
   "execution_count": 21,
   "metadata": {},
   "outputs": [],
   "source": [
    "backend = None\n",
    "use_simulator_operator_mode=False\n",
    "statevector_mode=True"
   ]
  },
  {
   "cell_type": "code",
   "execution_count": 22,
   "metadata": {},
   "outputs": [],
   "source": [
    "sim_circs = sim.construct_circuit(initial_params, backend, use_simulator_operator_mode, statevector_mode)"
   ]
  },
  {
   "cell_type": "code",
   "execution_count": 23,
   "metadata": {},
   "outputs": [
    {
     "data": {
      "image/png": "[encoded data removed]",
      "text/plain": [
       "<PIL.Image.Image image mode=RGB size=903x92 at 0x120794E80>"
      ]
     },
     "execution_count": 23,
     "metadata": {},
     "output_type": "execute_result"
    }
   ],
   "source": [
    "sim_circs[2].draw(output='latex', scale=0.5)"
   ]
  },
  {
   "cell_type": "code",
   "execution_count": 24,
   "metadata": {},
   "outputs": [],
   "source": [
    "backend_sim = Aer.get_backend('qasm_simulator')"
   ]
  },
  {
   "cell_type": "code",
   "execution_count": 25,
   "metadata": {},
   "outputs": [],
   "source": [
    "from qiskit.aqua import QuantumInstance\n",
    "nshots = 1024\n",
    "my_quantum_instance = QuantumInstance(backend_sim, nshots)"
   ]
  },
  {
   "cell_type": "code",
   "execution_count": 26,
   "metadata": {},
   "outputs": [
    {
     "name": "stdout",
     "output_type": "stream",
     "text": [
      "\n",
      "Qiskit Terra version: 0.10.0\n",
      "Backend: 'qasm_simulator (AerProvider)', with following setting:\n",
      "{'basis_gates': ['u1', 'u2', 'u3', 'cx', 'cz', 'cu1', 'id', 'x', 'y', 'z', 'h', 's', 'sdg', 't', 'tdg', 'ccx', 'swap', 'multiplexer', 'snapshot', 'unitary', 'reset', 'initialize', 'kraus', 'roerror'], 'coupling_map': None}\n",
      "{'pass_manager': None, 'initial_layout': None, 'seed_transpiler': None, 'optimization_level': None}\n",
      "RunConfig(max_credits=10, shots=1024)\n",
      "{'timeout': None}\n",
      "{}\n",
      "{}\n",
      "Measurement mitigation: None\n"
     ]
    }
   ],
   "source": [
    "print(my_quantum_instance)"
   ]
  },
  {
   "cell_type": "code",
   "execution_count": 27,
   "metadata": {},
   "outputs": [
    {
     "name": "stdout",
     "output_type": "stream",
     "text": [
      "\n",
      "==================== Setting of VQE ============================\n",
      "Algorithm: VQE\n",
      "-- quantum_instance: None\n",
      "-- var_form: <__main__.SchwingerAnsatz object at 0x121014588>\n",
      "-- optimizer: <qiskit.aqua.components.optimizers.spsa.SPSA object at 0x1210ebc50>\n",
      "-- cost_fn: <bound method VQE._energy_evaluation of <qiskit.aqua.algorithms.adaptive.vqe.vqe.VQE object at 0x1225ff048>>\n",
      "-- initial_point: [0.0, 0.0, 0.0]\n",
      "-- callback: <function simple_callback at 0x1225f3b70>\n",
      "-- operator: : Representation: tpb grouped paulis, qubits: 2, size: 8, group: 4\n",
      "-- eval_count: 0\n",
      "-- aux_operators: []\n",
      "-- auto_conversion: False\n",
      "===============================================================\n",
      "Variational Form: Schwinger Ansatz\n",
      "-- num_parameters: 3\n",
      "-- num_qubits: 2\n",
      "-- bounds: [(-3.141592653589793, 3.141592653589793), (-3.141592653589793, 3.141592653589793), (-3.141592653589793, 3.141592653589793)]\n",
      "-- depth: 1\n",
      "-- entangler_map: [[0, 1]]\n",
      "-- entangled_qubits: [0, 1]\n",
      "-- initial_state: None\n",
      "-- entanglement_gate: cx\n",
      "-- skip_unentangled_qubits: False\n",
      "===============================================================\n",
      "Optimizer: SPSA\n",
      "-- gradient_support_level: 1\n",
      "-- bounds_support_level: 1\n",
      "-- initial_point_support_level: 3\n",
      "-- options: {'last_avg': 1, 'save_steps': 1}\n",
      "-- max_evals_grouped: 1\n",
      "-- max_trials: 500\n",
      "-- parameters: [0.62831853 0.1        0.602      0.101      0.        ]\n",
      "-- skip_calibration: False\n",
      "===============================================================\n",
      "\n"
     ]
    }
   ],
   "source": [
    "print(sim.print_settings())"
   ]
  },
  {
   "cell_type": "code",
   "execution_count": 28,
   "metadata": {},
   "outputs": [
    {
     "name": "stdout",
     "output_type": "stream",
     "text": [
      "Energy evaluation 1 returned -0.050911 +/- 0.035138\n",
      "Energy evaluation 2 returned -0.296491 +/- 0.042010\n",
      "Energy evaluation 3 returned 0.013586 +/- 0.036250\n",
      "Energy evaluation 4 returned -0.221706 +/- 0.042568\n",
      "Energy evaluation 5 returned -0.290479 +/- 0.035207\n",
      "Energy evaluation 6 returned 0.072967 +/- 0.042472\n",
      "Energy evaluation 7 returned -0.306164 +/- 0.042728\n",
      "Energy evaluation 8 returned -0.018948 +/- 0.035439\n",
      "Energy evaluation 9 returned 0.039769 +/- 0.041923\n",
      "Energy evaluation 10 returned -0.272969 +/- 0.035696\n",
      "Energy evaluation 11 returned -0.266676 +/- 0.036863\n",
      "Energy evaluation 12 returned -0.093815 +/- 0.039057\n",
      "Energy evaluation 13 returned -0.060268 +/- 0.036767\n",
      "Energy evaluation 14 returned -0.285517 +/- 0.038649\n",
      "Energy evaluation 15 returned -0.048169 +/- 0.039136\n",
      "Energy evaluation 16 returned -0.310054 +/- 0.036366\n",
      "Energy evaluation 17 returned -0.073505 +/- 0.041934\n",
      "Energy evaluation 18 returned -0.339924 +/- 0.035834\n",
      "Energy evaluation 19 returned -0.013822 +/- 0.041452\n",
      "Energy evaluation 20 returned -0.244749 +/- 0.035863\n",
      "Energy evaluation 21 returned -0.275766 +/- 0.036383\n",
      "Energy evaluation 22 returned -0.059827 +/- 0.037966\n",
      "Energy evaluation 23 returned -0.021344 +/- 0.035745\n",
      "Energy evaluation 24 returned -0.310431 +/- 0.042252\n",
      "Energy evaluation 25 returned -0.254851 +/- 0.042208\n",
      "Energy evaluation 26 returned 0.003443 +/- 0.035757\n",
      "Energy evaluation 27 returned -0.286593 +/- 0.035859\n",
      "Energy evaluation 28 returned -0.087133 +/- 0.038615\n",
      "Energy evaluation 29 returned -0.031133 +/- 0.035649\n",
      "Energy evaluation 30 returned -0.191209 +/- 0.041552\n",
      "Energy evaluation 31 returned -0.044659 +/- 0.036541\n",
      "Energy evaluation 32 returned -0.300205 +/- 0.038915\n",
      "Energy evaluation 33 returned 0.006467 +/- 0.042308\n",
      "Energy evaluation 34 returned -0.265918 +/- 0.035578\n",
      "Energy evaluation 35 returned -0.199791 +/- 0.035830\n",
      "Energy evaluation 36 returned -0.022724 +/- 0.041323\n",
      "Energy evaluation 37 returned -0.318623 +/- 0.038378\n",
      "Energy evaluation 38 returned -0.028907 +/- 0.035813\n",
      "Energy evaluation 39 returned -0.071980 +/- 0.041578\n",
      "Energy evaluation 40 returned -0.295355 +/- 0.033996\n",
      "Energy evaluation 41 returned -0.229258 +/- 0.035740\n",
      "Energy evaluation 42 returned -0.018612 +/- 0.042667\n",
      "Energy evaluation 43 returned -0.285757 +/- 0.035890\n",
      "Energy evaluation 44 returned 0.024646 +/- 0.042549\n",
      "Energy evaluation 45 returned -0.184791 +/- 0.042071\n",
      "Energy evaluation 46 returned -0.022212 +/- 0.035227\n",
      "Energy evaluation 47 returned -0.059335 +/- 0.035969\n",
      "Energy evaluation 48 returned -0.283280 +/- 0.041739\n",
      "Energy evaluation 49 returned -0.065039 +/- 0.038381\n",
      "Energy evaluation 50 returned -0.359689 +/- 0.036187\n",
      "Energy evaluation 51 returned -0.326005 +/- 0.038692\n",
      "Energy evaluation 52 returned -0.087229 +/- 0.036330\n",
      "Energy evaluation 53 returned -0.559061 +/- 0.045672\n",
      "Energy evaluation 54 returned -0.629607 +/- 0.046058\n",
      "Energy evaluation 55 returned -0.568084 +/- 0.045140\n",
      "Energy evaluation 56 returned -0.406766 +/- 0.050891\n",
      "Energy evaluation 57 returned -0.541178 +/- 0.037142\n",
      "Energy evaluation 58 returned -0.617123 +/- 0.041337\n",
      "Energy evaluation 59 returned -0.587398 +/- 0.040737\n",
      "Energy evaluation 60 returned -0.379147 +/- 0.045159\n",
      "Energy evaluation 61 returned -0.738737 +/- 0.034071\n",
      "Energy evaluation 62 returned -0.758615 +/- 0.040623\n",
      "Energy evaluation 63 returned -0.632697 +/- 0.036268\n",
      "Energy evaluation 64 returned -0.784838 +/- 0.040251\n",
      "Energy evaluation 65 returned -0.818003 +/- 0.039406\n",
      "Energy evaluation 66 returned -0.628821 +/- 0.046239\n",
      "Energy evaluation 67 returned -0.728358 +/- 0.036994\n",
      "Energy evaluation 68 returned -0.604708 +/- 0.039440\n",
      "Energy evaluation 69 returned -0.858327 +/- 0.036383\n",
      "Energy evaluation 70 returned -0.632495 +/- 0.034643\n",
      "Energy evaluation 71 returned -0.824186 +/- 0.040012\n",
      "Energy evaluation 72 returned -0.817275 +/- 0.041000\n",
      "Energy evaluation 73 returned -0.760343 +/- 0.042880\n",
      "Energy evaluation 74 returned -0.937474 +/- 0.036832\n",
      "Energy evaluation 75 returned -0.930997 +/- 0.032719\n",
      "Energy evaluation 76 returned -0.908555 +/- 0.038226\n",
      "Energy evaluation 77 returned -0.901725 +/- 0.036781\n",
      "Energy evaluation 78 returned -0.916230 +/- 0.033351\n",
      "Energy evaluation 79 returned -0.961411 +/- 0.035567\n",
      "Energy evaluation 80 returned -0.949206 +/- 0.032236\n",
      "Energy evaluation 81 returned -0.998656 +/- 0.031661\n",
      "Energy evaluation 82 returned -0.938058 +/- 0.036793\n",
      "Energy evaluation 83 returned -0.935668 +/- 0.033544\n",
      "Energy evaluation 84 returned -1.042627 +/- 0.032444\n",
      "Energy evaluation 85 returned -0.894455 +/- 0.035935\n",
      "Energy evaluation 86 returned -0.944307 +/- 0.031444\n",
      "Energy evaluation 87 returned -0.921147 +/- 0.030410\n",
      "Energy evaluation 88 returned -1.045655 +/- 0.033225\n",
      "Energy evaluation 89 returned -0.975487 +/- 0.036207\n",
      "Energy evaluation 90 returned -1.016792 +/- 0.030820\n",
      "Energy evaluation 91 returned -1.017550 +/- 0.030124\n",
      "Energy evaluation 92 returned -0.969202 +/- 0.035052\n",
      "Energy evaluation 93 returned -0.940232 +/- 0.034053\n",
      "Energy evaluation 94 returned -0.996521 +/- 0.030596\n",
      "Energy evaluation 95 returned -0.988811 +/- 0.030135\n",
      "Energy evaluation 96 returned -1.008125 +/- 0.033569\n",
      "Energy evaluation 97 returned -1.019375 +/- 0.030622\n",
      "Energy evaluation 98 returned -1.054467 +/- 0.030852\n",
      "Energy evaluation 99 returned -0.988422 +/- 0.033039\n",
      "Energy evaluation 100 returned -0.976013 +/- 0.030276\n",
      "Energy evaluation 101 returned -1.060672 +/- 0.028225\n",
      "Energy evaluation 102 returned -0.990196 +/- 0.034274\n",
      "Energy evaluation 103 returned -0.970930 +/- 0.028841\n",
      "Energy evaluation 104 returned -1.005799 +/- 0.033774\n",
      "Energy evaluation 105 returned -0.963955 +/- 0.030406\n",
      "Energy evaluation 106 returned -0.963388 +/- 0.034702\n",
      "Energy evaluation 107 returned -0.995234 +/- 0.030884\n",
      "Energy evaluation 108 returned -1.050676 +/- 0.030143\n",
      "Energy evaluation 109 returned -0.986817 +/- 0.028042\n",
      "Energy evaluation 110 returned -0.958878 +/- 0.036290\n",
      "Energy evaluation 111 returned -0.979135 +/- 0.032863\n",
      "Energy evaluation 112 returned -0.993530 +/- 0.029122\n",
      "Energy evaluation 113 returned -0.982896 +/- 0.030484\n",
      "Energy evaluation 114 returned -1.002174 +/- 0.031160\n",
      "Energy evaluation 115 returned -1.007257 +/- 0.031326\n",
      "Energy evaluation 116 returned -0.946405 +/- 0.029522\n",
      "Energy evaluation 117 returned -0.962631 +/- 0.029371\n",
      "Energy evaluation 118 returned -1.012724 +/- 0.033631\n",
      "Energy evaluation 119 returned -0.947567 +/- 0.029884\n",
      "Energy evaluation 120 returned -0.963551 +/- 0.035873\n",
      "Energy evaluation 121 returned -1.066297 +/- 0.029197\n",
      "Energy evaluation 122 returned -1.005445 +/- 0.034317\n",
      "Energy evaluation 123 returned -1.049141 +/- 0.032987\n",
      "Energy evaluation 124 returned -0.993789 +/- 0.029490\n",
      "Energy evaluation 125 returned -1.015553 +/- 0.032562\n",
      "Energy evaluation 126 returned -1.021087 +/- 0.032064\n",
      "Energy evaluation 127 returned -1.014460 +/- 0.034405\n",
      "Energy evaluation 128 returned -0.968654 +/- 0.031101\n",
      "Energy evaluation 129 returned -1.031930 +/- 0.030366\n",
      "Energy evaluation 130 returned -0.972547 +/- 0.034328\n",
      "Energy evaluation 131 returned -1.015181 +/- 0.029770\n",
      "Energy evaluation 132 returned -0.984432 +/- 0.034380\n",
      "Energy evaluation 133 returned -1.027493 +/- 0.034806\n",
      "Energy evaluation 134 returned -0.954501 +/- 0.029400\n",
      "Energy evaluation 135 returned -0.941931 +/- 0.035906\n",
      "Energy evaluation 136 returned -0.981341 +/- 0.032092\n",
      "Energy evaluation 137 returned -0.992449 +/- 0.032811\n",
      "Energy evaluation 138 returned -0.987895 +/- 0.032180\n",
      "Energy evaluation 139 returned -1.001069 +/- 0.030740\n",
      "Energy evaluation 140 returned -1.022138 +/- 0.034585\n",
      "Energy evaluation 141 returned -1.013426 +/- 0.030924\n",
      "Energy evaluation 142 returned -0.888291 +/- 0.035984\n",
      "Energy evaluation 143 returned -0.989175 +/- 0.031699\n",
      "Energy evaluation 144 returned -0.959312 +/- 0.031649\n",
      "Energy evaluation 145 returned -1.016781 +/- 0.034436\n",
      "Energy evaluation 146 returned -0.998088 +/- 0.028625\n",
      "Energy evaluation 147 returned -0.976237 +/- 0.032511\n",
      "Energy evaluation 148 returned -1.007464 +/- 0.032674\n",
      "Energy evaluation 149 returned -1.009513 +/- 0.031254\n",
      "Energy evaluation 150 returned -0.966087 +/- 0.031883\n",
      "Energy evaluation 151 returned -0.995527 +/- 0.029288\n",
      "Energy evaluation 152 returned -0.945482 +/- 0.035380\n",
      "Energy evaluation 153 returned -1.064363 +/- 0.031001\n",
      "Energy evaluation 154 returned -0.978319 +/- 0.029924\n"
     ]
    },
    {
     "name": "stdout",
     "output_type": "stream",
     "text": [
      "Energy evaluation 155 returned -0.969729 +/- 0.028829\n",
      "Energy evaluation 156 returned -1.014218 +/- 0.035230\n",
      "Energy evaluation 157 returned -0.924843 +/- 0.037116\n",
      "Energy evaluation 158 returned -1.035950 +/- 0.029061\n",
      "Energy evaluation 159 returned -0.977601 +/- 0.034151\n",
      "Energy evaluation 160 returned -0.945577 +/- 0.028253\n",
      "Energy evaluation 161 returned -0.949763 +/- 0.029870\n",
      "Energy evaluation 162 returned -1.049192 +/- 0.032755\n",
      "Energy evaluation 163 returned -1.040700 +/- 0.029386\n",
      "Energy evaluation 164 returned -0.949107 +/- 0.034470\n",
      "Energy evaluation 165 returned -1.006680 +/- 0.030249\n",
      "Energy evaluation 166 returned -0.966280 +/- 0.032648\n",
      "Energy evaluation 167 returned -0.977189 +/- 0.034539\n",
      "Energy evaluation 168 returned -0.946214 +/- 0.029309\n",
      "Energy evaluation 169 returned -0.964427 +/- 0.033263\n",
      "Energy evaluation 170 returned -0.968537 +/- 0.031805\n",
      "Energy evaluation 171 returned -0.970810 +/- 0.033634\n",
      "Energy evaluation 172 returned -1.005832 +/- 0.029419\n",
      "Energy evaluation 173 returned -0.987457 +/- 0.032175\n",
      "Energy evaluation 174 returned -1.015420 +/- 0.031135\n",
      "Energy evaluation 175 returned -0.999585 +/- 0.032615\n",
      "Energy evaluation 176 returned -0.992107 +/- 0.029894\n",
      "Energy evaluation 177 returned -0.990994 +/- 0.028755\n",
      "Energy evaluation 178 returned -0.970326 +/- 0.034756\n",
      "Energy evaluation 179 returned -1.013642 +/- 0.030033\n",
      "Energy evaluation 180 returned -1.041454 +/- 0.031145\n",
      "Energy evaluation 181 returned -0.987820 +/- 0.034612\n",
      "Energy evaluation 182 returned -0.952156 +/- 0.028783\n",
      "Energy evaluation 183 returned -0.950200 +/- 0.035461\n",
      "Energy evaluation 184 returned -0.996488 +/- 0.028078\n",
      "Energy evaluation 185 returned -1.004775 +/- 0.028624\n",
      "Energy evaluation 186 returned -0.998189 +/- 0.032669\n",
      "Energy evaluation 187 returned -0.942990 +/- 0.034372\n",
      "Energy evaluation 188 returned -0.927628 +/- 0.028801\n",
      "Energy evaluation 189 returned -0.990560 +/- 0.031021\n",
      "Energy evaluation 190 returned -0.993483 +/- 0.031186\n",
      "Energy evaluation 191 returned -0.986442 +/- 0.030655\n",
      "Energy evaluation 192 returned -1.025195 +/- 0.031044\n",
      "Energy evaluation 193 returned -1.023462 +/- 0.029308\n",
      "Energy evaluation 194 returned -1.027024 +/- 0.031426\n",
      "Energy evaluation 195 returned -0.986557 +/- 0.029493\n",
      "Energy evaluation 196 returned -1.001606 +/- 0.032161\n",
      "Energy evaluation 197 returned -1.005039 +/- 0.030813\n",
      "Energy evaluation 198 returned -1.031763 +/- 0.030890\n",
      "Energy evaluation 199 returned -0.950791 +/- 0.030609\n",
      "Energy evaluation 200 returned -1.047747 +/- 0.030855\n",
      "Energy evaluation 201 returned -0.965275 +/- 0.033410\n",
      "Energy evaluation 202 returned -1.004655 +/- 0.030067\n",
      "Energy evaluation 203 returned -0.991647 +/- 0.033683\n",
      "Energy evaluation 204 returned -1.007772 +/- 0.029348\n",
      "Energy evaluation 205 returned -0.932461 +/- 0.032332\n",
      "Energy evaluation 206 returned -0.926167 +/- 0.032117\n",
      "Energy evaluation 207 returned -0.955434 +/- 0.028859\n",
      "Energy evaluation 208 returned -1.028192 +/- 0.033626\n",
      "Energy evaluation 209 returned -1.039892 +/- 0.029431\n",
      "Energy evaluation 210 returned -0.976750 +/- 0.033626\n",
      "Energy evaluation 211 returned -0.965116 +/- 0.028557\n",
      "Energy evaluation 212 returned -0.985922 +/- 0.034271\n",
      "Energy evaluation 213 returned -0.967837 +/- 0.029862\n",
      "Energy evaluation 214 returned -1.004941 +/- 0.035381\n",
      "Energy evaluation 215 returned -0.990498 +/- 0.032490\n",
      "Energy evaluation 216 returned -0.942733 +/- 0.033536\n",
      "Energy evaluation 217 returned -0.940625 +/- 0.035199\n",
      "Energy evaluation 218 returned -1.050145 +/- 0.029624\n",
      "Energy evaluation 219 returned -1.054186 +/- 0.031328\n",
      "Energy evaluation 220 returned -0.995734 +/- 0.030112\n",
      "Energy evaluation 221 returned -0.970585 +/- 0.033141\n",
      "Energy evaluation 222 returned -1.006877 +/- 0.030638\n",
      "Energy evaluation 223 returned -1.035934 +/- 0.029745\n",
      "Energy evaluation 224 returned -0.977964 +/- 0.034423\n",
      "Energy evaluation 225 returned -1.042011 +/- 0.032137\n",
      "Energy evaluation 226 returned -1.033273 +/- 0.029436\n",
      "Energy evaluation 227 returned -0.916862 +/- 0.035572\n",
      "Energy evaluation 228 returned -0.977990 +/- 0.028620\n",
      "Energy evaluation 229 returned -1.038398 +/- 0.030265\n",
      "Energy evaluation 230 returned -1.008158 +/- 0.030775\n",
      "Energy evaluation 231 returned -0.940861 +/- 0.030069\n",
      "Energy evaluation 232 returned -0.987094 +/- 0.032097\n",
      "Energy evaluation 233 returned -0.927203 +/- 0.030788\n",
      "Energy evaluation 234 returned -1.001347 +/- 0.032470\n",
      "Energy evaluation 235 returned -1.031744 +/- 0.028808\n",
      "Energy evaluation 236 returned -0.945815 +/- 0.035110\n",
      "Energy evaluation 237 returned -0.985424 +/- 0.028864\n",
      "Energy evaluation 238 returned -0.969690 +/- 0.032620\n",
      "Energy evaluation 239 returned -0.999693 +/- 0.029039\n",
      "Energy evaluation 240 returned -1.025949 +/- 0.031273\n",
      "Energy evaluation 241 returned -1.008657 +/- 0.030930\n",
      "Energy evaluation 242 returned -1.045475 +/- 0.029609\n",
      "Energy evaluation 243 returned -0.996829 +/- 0.029181\n",
      "Energy evaluation 244 returned -1.045454 +/- 0.030984\n",
      "Energy evaluation 245 returned -0.990082 +/- 0.031891\n",
      "Energy evaluation 246 returned -0.951806 +/- 0.028956\n",
      "Energy evaluation 247 returned -0.951581 +/- 0.033994\n",
      "Energy evaluation 248 returned -0.973641 +/- 0.028457\n",
      "Energy evaluation 249 returned -0.984426 +/- 0.030048\n",
      "Energy evaluation 250 returned -0.939598 +/- 0.032598\n",
      "Energy evaluation 251 returned -0.956302 +/- 0.034174\n",
      "Energy evaluation 252 returned -0.998204 +/- 0.027956\n",
      "Energy evaluation 253 returned -0.933509 +/- 0.028240\n",
      "Energy evaluation 254 returned -0.974875 +/- 0.031585\n",
      "Energy evaluation 255 returned -1.047912 +/- 0.028430\n",
      "Energy evaluation 256 returned -1.024461 +/- 0.032514\n",
      "Energy evaluation 257 returned -1.034336 +/- 0.030282\n",
      "Energy evaluation 258 returned -0.985147 +/- 0.029867\n",
      "Energy evaluation 259 returned -0.985614 +/- 0.030793\n",
      "Energy evaluation 260 returned -0.983250 +/- 0.030477\n",
      "Energy evaluation 261 returned -0.961268 +/- 0.027912\n",
      "Energy evaluation 262 returned -0.990267 +/- 0.033176\n",
      "Energy evaluation 263 returned -1.023357 +/- 0.029735\n",
      "Energy evaluation 264 returned -0.948408 +/- 0.032623\n",
      "Energy evaluation 265 returned -0.991617 +/- 0.030115\n",
      "Energy evaluation 266 returned -1.002058 +/- 0.030027\n",
      "Energy evaluation 267 returned -0.946419 +/- 0.029041\n",
      "Energy evaluation 268 returned -1.025256 +/- 0.031941\n",
      "Energy evaluation 269 returned -0.969920 +/- 0.029393\n",
      "Energy evaluation 270 returned -0.962119 +/- 0.032584\n",
      "Energy evaluation 271 returned -0.962266 +/- 0.031049\n",
      "Energy evaluation 272 returned -0.927789 +/- 0.031540\n",
      "Energy evaluation 273 returned -0.987244 +/- 0.031481\n",
      "Energy evaluation 274 returned -0.960944 +/- 0.029080\n",
      "Energy evaluation 275 returned -1.009302 +/- 0.031393\n",
      "Energy evaluation 276 returned -0.953937 +/- 0.029771\n",
      "Energy evaluation 277 returned -0.970319 +/- 0.028422\n",
      "Energy evaluation 278 returned -0.989958 +/- 0.033550\n",
      "Energy evaluation 279 returned -1.052055 +/- 0.032708\n",
      "Energy evaluation 280 returned -0.970121 +/- 0.029081\n",
      "Energy evaluation 281 returned -1.015878 +/- 0.031850\n",
      "Energy evaluation 282 returned -1.028563 +/- 0.031564\n",
      "Energy evaluation 283 returned -0.986953 +/- 0.032724\n",
      "Energy evaluation 284 returned -0.983757 +/- 0.031580\n",
      "Energy evaluation 285 returned -0.936748 +/- 0.034239\n",
      "Energy evaluation 286 returned -0.978455 +/- 0.030849\n",
      "Energy evaluation 287 returned -0.985389 +/- 0.034596\n",
      "Energy evaluation 288 returned -1.018954 +/- 0.030312\n",
      "Energy evaluation 289 returned -1.005409 +/- 0.034920\n",
      "Energy evaluation 290 returned -0.977023 +/- 0.029033\n",
      "Energy evaluation 291 returned -0.987327 +/- 0.029966\n",
      "Energy evaluation 292 returned -1.002780 +/- 0.033503\n",
      "Energy evaluation 293 returned -0.919761 +/- 0.035972\n",
      "Energy evaluation 294 returned -0.986032 +/- 0.029776\n",
      "Energy evaluation 295 returned -0.964900 +/- 0.032363\n",
      "Energy evaluation 296 returned -0.949536 +/- 0.030046\n",
      "Energy evaluation 297 returned -1.007158 +/- 0.031165\n",
      "Energy evaluation 298 returned -0.992082 +/- 0.031157\n",
      "Energy evaluation 299 returned -0.983396 +/- 0.033612\n",
      "Energy evaluation 300 returned -0.933177 +/- 0.030166\n",
      "Energy evaluation 301 returned -0.962791 +/- 0.032168\n",
      "Energy evaluation 302 returned -0.962281 +/- 0.031863\n",
      "Energy evaluation 303 returned -1.004123 +/- 0.031116\n",
      "Energy evaluation 304 returned -0.997047 +/- 0.032000\n",
      "Energy evaluation 305 returned -1.047512 +/- 0.032442\n",
      "Energy evaluation 306 returned -1.040356 +/- 0.029891\n"
     ]
    },
    {
     "name": "stdout",
     "output_type": "stream",
     "text": [
      "Energy evaluation 307 returned -1.045444 +/- 0.031133\n",
      "Energy evaluation 308 returned -1.017203 +/- 0.030935\n",
      "Energy evaluation 309 returned -0.902455 +/- 0.033213\n",
      "Energy evaluation 310 returned -1.032097 +/- 0.030415\n",
      "Energy evaluation 311 returned -0.944499 +/- 0.031533\n",
      "Energy evaluation 312 returned -1.028879 +/- 0.031039\n",
      "Energy evaluation 313 returned -1.035306 +/- 0.030079\n",
      "Energy evaluation 314 returned -1.016080 +/- 0.030719\n",
      "Energy evaluation 315 returned -0.986147 +/- 0.031099\n",
      "Energy evaluation 316 returned -0.979027 +/- 0.031321\n",
      "Energy evaluation 317 returned -0.993024 +/- 0.028773\n",
      "Energy evaluation 318 returned -0.939115 +/- 0.033108\n",
      "Energy evaluation 319 returned -0.960874 +/- 0.028245\n",
      "Energy evaluation 320 returned -0.968826 +/- 0.034485\n",
      "Energy evaluation 321 returned -1.071114 +/- 0.031097\n",
      "Energy evaluation 322 returned -0.969031 +/- 0.029905\n",
      "Energy evaluation 323 returned -0.936576 +/- 0.031693\n",
      "Energy evaluation 324 returned -0.961188 +/- 0.031328\n",
      "Energy evaluation 325 returned -1.046792 +/- 0.031997\n",
      "Energy evaluation 326 returned -1.025800 +/- 0.029645\n",
      "Energy evaluation 327 returned -1.034199 +/- 0.032035\n",
      "Energy evaluation 328 returned -0.986407 +/- 0.029779\n",
      "Energy evaluation 329 returned -1.029266 +/- 0.029873\n",
      "Energy evaluation 330 returned -1.002611 +/- 0.033591\n",
      "Energy evaluation 331 returned -1.016942 +/- 0.031250\n",
      "Energy evaluation 332 returned -0.977501 +/- 0.031770\n",
      "Energy evaluation 333 returned -0.925230 +/- 0.031740\n",
      "Energy evaluation 334 returned -1.065536 +/- 0.030675\n",
      "Energy evaluation 335 returned -1.024916 +/- 0.029699\n",
      "Energy evaluation 336 returned -1.010542 +/- 0.032590\n",
      "Energy evaluation 337 returned -1.038397 +/- 0.032621\n",
      "Energy evaluation 338 returned -0.962663 +/- 0.029735\n",
      "Energy evaluation 339 returned -1.045989 +/- 0.030941\n",
      "Energy evaluation 340 returned -1.021612 +/- 0.031973\n",
      "Energy evaluation 341 returned -1.018747 +/- 0.031447\n",
      "Energy evaluation 342 returned -1.046644 +/- 0.030899\n",
      "Energy evaluation 343 returned -1.010635 +/- 0.031345\n",
      "Energy evaluation 344 returned -1.051249 +/- 0.030401\n",
      "Energy evaluation 345 returned -1.018764 +/- 0.029949\n",
      "Energy evaluation 346 returned -1.011940 +/- 0.032697\n",
      "Energy evaluation 347 returned -0.958717 +/- 0.035190\n",
      "Energy evaluation 348 returned -1.002077 +/- 0.028974\n",
      "Energy evaluation 349 returned -1.004024 +/- 0.033955\n",
      "Energy evaluation 350 returned -0.960828 +/- 0.028655\n",
      "Energy evaluation 351 returned -0.991584 +/- 0.033295\n",
      "Energy evaluation 352 returned -0.972004 +/- 0.030549\n",
      "Energy evaluation 353 returned -1.027717 +/- 0.031317\n",
      "Energy evaluation 354 returned -1.025962 +/- 0.030955\n",
      "Energy evaluation 355 returned -0.996002 +/- 0.029625\n",
      "Energy evaluation 356 returned -0.934379 +/- 0.035985\n",
      "Energy evaluation 357 returned -0.987349 +/- 0.029048\n",
      "Energy evaluation 358 returned -1.024332 +/- 0.031923\n",
      "Energy evaluation 359 returned -1.002405 +/- 0.033904\n",
      "Energy evaluation 360 returned -1.011195 +/- 0.028817\n",
      "Energy evaluation 361 returned -0.978538 +/- 0.030893\n",
      "Energy evaluation 362 returned -0.962573 +/- 0.032792\n",
      "Energy evaluation 363 returned -0.988377 +/- 0.031778\n",
      "Energy evaluation 364 returned -1.042082 +/- 0.030400\n",
      "Energy evaluation 365 returned -1.050073 +/- 0.028649\n",
      "Energy evaluation 366 returned -0.978735 +/- 0.034066\n",
      "Energy evaluation 367 returned -1.031489 +/- 0.029133\n",
      "Energy evaluation 368 returned -0.946370 +/- 0.032011\n",
      "Energy evaluation 369 returned -0.918722 +/- 0.028461\n",
      "Energy evaluation 370 returned -1.016960 +/- 0.032625\n",
      "Energy evaluation 371 returned -0.988713 +/- 0.032796\n",
      "Energy evaluation 372 returned -0.999449 +/- 0.029818\n",
      "Energy evaluation 373 returned -0.999716 +/- 0.032429\n",
      "Energy evaluation 374 returned -1.012391 +/- 0.029793\n",
      "Energy evaluation 375 returned -1.040170 +/- 0.032817\n",
      "Energy evaluation 376 returned -0.963014 +/- 0.029684\n",
      "Energy evaluation 377 returned -0.958162 +/- 0.030772\n",
      "Energy evaluation 378 returned -0.972361 +/- 0.031697\n",
      "Energy evaluation 379 returned -0.985913 +/- 0.030584\n",
      "Energy evaluation 380 returned -1.018864 +/- 0.032837\n",
      "Energy evaluation 381 returned -1.034439 +/- 0.029777\n",
      "Energy evaluation 382 returned -0.951146 +/- 0.033290\n",
      "Energy evaluation 383 returned -1.041103 +/- 0.030112\n",
      "Energy evaluation 384 returned -1.025691 +/- 0.030775\n",
      "Energy evaluation 385 returned -0.940553 +/- 0.028669\n",
      "Energy evaluation 386 returned -0.997184 +/- 0.033398\n",
      "Energy evaluation 387 returned -0.963536 +/- 0.029011\n",
      "Energy evaluation 388 returned -1.042072 +/- 0.033086\n",
      "Energy evaluation 389 returned -1.046331 +/- 0.030679\n",
      "Energy evaluation 390 returned -0.954707 +/- 0.034716\n",
      "Energy evaluation 391 returned -0.949278 +/- 0.033670\n",
      "Energy evaluation 392 returned -1.052624 +/- 0.029671\n",
      "Energy evaluation 393 returned -1.002687 +/- 0.031319\n",
      "Energy evaluation 394 returned -1.014552 +/- 0.030947\n",
      "Energy evaluation 395 returned -1.002581 +/- 0.032215\n",
      "Energy evaluation 396 returned -1.039835 +/- 0.031075\n",
      "Energy evaluation 397 returned -1.013191 +/- 0.034318\n",
      "Energy evaluation 398 returned -1.010131 +/- 0.029425\n",
      "Energy evaluation 399 returned -0.967694 +/- 0.030997\n",
      "Energy evaluation 400 returned -1.012675 +/- 0.031965\n",
      "Energy evaluation 401 returned -0.974544 +/- 0.035766\n",
      "Energy evaluation 402 returned -1.055381 +/- 0.028530\n",
      "Energy evaluation 403 returned -0.974984 +/- 0.029340\n",
      "Energy evaluation 404 returned -1.021168 +/- 0.031890\n",
      "Energy evaluation 405 returned -0.982258 +/- 0.032786\n",
      "Energy evaluation 406 returned -1.004661 +/- 0.029703\n",
      "Energy evaluation 407 returned -1.080438 +/- 0.031431\n",
      "Energy evaluation 408 returned -1.003899 +/- 0.029461\n",
      "Energy evaluation 409 returned -0.941990 +/- 0.028897\n",
      "Energy evaluation 410 returned -1.028608 +/- 0.033739\n",
      "Energy evaluation 411 returned -1.016646 +/- 0.029922\n",
      "Energy evaluation 412 returned -0.997770 +/- 0.035008\n",
      "Energy evaluation 413 returned -1.020418 +/- 0.029163\n",
      "Energy evaluation 414 returned -0.952995 +/- 0.036375\n",
      "Energy evaluation 415 returned -1.036696 +/- 0.034676\n",
      "Energy evaluation 416 returned -0.988683 +/- 0.028625\n",
      "Energy evaluation 417 returned -0.935753 +/- 0.035108\n",
      "Energy evaluation 418 returned -0.989934 +/- 0.029092\n",
      "Energy evaluation 419 returned -0.953510 +/- 0.031830\n",
      "Energy evaluation 420 returned -1.001380 +/- 0.032392\n",
      "Energy evaluation 421 returned -0.954350 +/- 0.030136\n",
      "Energy evaluation 422 returned -1.006401 +/- 0.033158\n",
      "Energy evaluation 423 returned -0.966316 +/- 0.032313\n",
      "Energy evaluation 424 returned -1.015618 +/- 0.031803\n",
      "Energy evaluation 425 returned -0.985912 +/- 0.032336\n",
      "Energy evaluation 426 returned -0.971470 +/- 0.030410\n",
      "Energy evaluation 427 returned -0.991910 +/- 0.033960\n",
      "Energy evaluation 428 returned -0.991137 +/- 0.031256\n",
      "Energy evaluation 429 returned -1.003206 +/- 0.031909\n",
      "Energy evaluation 430 returned -1.016969 +/- 0.031263\n",
      "Energy evaluation 431 returned -0.981833 +/- 0.034345\n",
      "Energy evaluation 432 returned -1.018523 +/- 0.028723\n",
      "Energy evaluation 433 returned -1.027860 +/- 0.029585\n",
      "Energy evaluation 434 returned -1.060060 +/- 0.032312\n",
      "Energy evaluation 435 returned -1.057456 +/- 0.028570\n",
      "Energy evaluation 436 returned -0.981903 +/- 0.033631\n",
      "Energy evaluation 437 returned -0.969275 +/- 0.031411\n",
      "Energy evaluation 438 returned -0.984601 +/- 0.031104\n",
      "Energy evaluation 439 returned -0.972081 +/- 0.028676\n",
      "Energy evaluation 440 returned -0.999783 +/- 0.031595\n",
      "Energy evaluation 441 returned -0.971900 +/- 0.029314\n",
      "Energy evaluation 442 returned -0.967658 +/- 0.033986\n",
      "Energy evaluation 443 returned -0.985810 +/- 0.030188\n",
      "Energy evaluation 444 returned -1.031091 +/- 0.032348\n",
      "Energy evaluation 445 returned -0.994685 +/- 0.030452\n",
      "Energy evaluation 446 returned -0.971669 +/- 0.033200\n",
      "Energy evaluation 447 returned -1.051877 +/- 0.031119\n",
      "Energy evaluation 448 returned -0.991002 +/- 0.029441\n",
      "Energy evaluation 449 returned -1.041498 +/- 0.032800\n",
      "Energy evaluation 450 returned -1.033829 +/- 0.029258\n",
      "Energy evaluation 451 returned -0.995465 +/- 0.030000\n",
      "Energy evaluation 452 returned -1.034381 +/- 0.032058\n",
      "Energy evaluation 453 returned -0.963525 +/- 0.035118\n",
      "Energy evaluation 454 returned -0.987477 +/- 0.028719\n",
      "Energy evaluation 455 returned -0.945955 +/- 0.034821\n",
      "Energy evaluation 456 returned -0.996682 +/- 0.029110\n",
      "Energy evaluation 457 returned -0.971349 +/- 0.029607\n",
      "Energy evaluation 458 returned -1.015419 +/- 0.031297\n"
     ]
    },
    {
     "name": "stdout",
     "output_type": "stream",
     "text": [
      "Energy evaluation 459 returned -1.006418 +/- 0.030444\n",
      "Energy evaluation 460 returned -0.964895 +/- 0.031798\n",
      "Energy evaluation 461 returned -1.038740 +/- 0.029770\n",
      "Energy evaluation 462 returned -1.006173 +/- 0.033842\n",
      "Energy evaluation 463 returned -0.973743 +/- 0.031045\n",
      "Energy evaluation 464 returned -1.029011 +/- 0.031276\n",
      "Energy evaluation 465 returned -0.984677 +/- 0.034179\n",
      "Energy evaluation 466 returned -0.989879 +/- 0.028787\n",
      "Energy evaluation 467 returned -0.985596 +/- 0.028454\n",
      "Energy evaluation 468 returned -0.987303 +/- 0.033734\n",
      "Energy evaluation 469 returned -0.995380 +/- 0.029588\n",
      "Energy evaluation 470 returned -1.032634 +/- 0.031218\n",
      "Energy evaluation 471 returned -0.966915 +/- 0.034673\n",
      "Energy evaluation 472 returned -0.971302 +/- 0.027981\n",
      "Energy evaluation 473 returned -0.969994 +/- 0.032361\n",
      "Energy evaluation 474 returned -1.041268 +/- 0.029402\n",
      "Energy evaluation 475 returned -0.988776 +/- 0.029951\n",
      "Energy evaluation 476 returned -0.994331 +/- 0.030438\n",
      "Energy evaluation 477 returned -0.989324 +/- 0.027915\n",
      "Energy evaluation 478 returned -0.987987 +/- 0.034170\n",
      "Energy evaluation 479 returned -1.003752 +/- 0.033381\n",
      "Energy evaluation 480 returned -0.930913 +/- 0.029199\n",
      "Energy evaluation 481 returned -1.019023 +/- 0.032634\n",
      "Energy evaluation 482 returned -0.973295 +/- 0.029815\n",
      "Energy evaluation 483 returned -1.007304 +/- 0.028821\n",
      "Energy evaluation 484 returned -0.976845 +/- 0.033713\n",
      "Energy evaluation 485 returned -1.024657 +/- 0.028847\n",
      "Energy evaluation 486 returned -1.045445 +/- 0.031843\n",
      "Energy evaluation 487 returned -0.978129 +/- 0.031652\n",
      "Energy evaluation 488 returned -0.998052 +/- 0.030941\n",
      "Energy evaluation 489 returned -1.074790 +/- 0.031546\n",
      "Energy evaluation 490 returned -0.997184 +/- 0.029904\n",
      "Energy evaluation 491 returned -0.946314 +/- 0.031862\n",
      "Energy evaluation 492 returned -1.068176 +/- 0.031080\n",
      "Energy evaluation 493 returned -0.951264 +/- 0.030803\n",
      "Energy evaluation 494 returned -1.017780 +/- 0.031957\n",
      "Energy evaluation 495 returned -1.001055 +/- 0.030534\n",
      "Energy evaluation 496 returned -1.024701 +/- 0.032584\n",
      "Energy evaluation 497 returned -1.020874 +/- 0.032607\n",
      "Energy evaluation 498 returned -0.995293 +/- 0.032391\n",
      "Energy evaluation 499 returned -1.034003 +/- 0.031706\n",
      "Energy evaluation 500 returned -1.026119 +/- 0.031317\n",
      "Energy evaluation 501 returned -0.984642 +/- 0.035107\n",
      "Energy evaluation 502 returned -1.007965 +/- 0.029242\n",
      "Energy evaluation 503 returned -0.934812 +/- 0.034983\n",
      "Energy evaluation 504 returned -1.007518 +/- 0.029127\n",
      "Energy evaluation 505 returned -1.001115 +/- 0.028662\n",
      "Energy evaluation 506 returned -0.999406 +/- 0.034294\n",
      "Energy evaluation 507 returned -1.063222 +/- 0.029342\n",
      "Energy evaluation 508 returned -0.949870 +/- 0.033054\n",
      "Energy evaluation 509 returned -1.004999 +/- 0.029537\n",
      "Energy evaluation 510 returned -0.976412 +/- 0.032586\n",
      "Energy evaluation 511 returned -0.977789 +/- 0.034125\n",
      "Energy evaluation 512 returned -1.009042 +/- 0.029054\n",
      "Energy evaluation 513 returned -1.031977 +/- 0.031782\n",
      "Energy evaluation 514 returned -0.953716 +/- 0.029200\n",
      "Energy evaluation 515 returned -1.078852 +/- 0.028687\n",
      "Energy evaluation 516 returned -0.999163 +/- 0.031820\n",
      "Energy evaluation 517 returned -0.993685 +/- 0.033519\n",
      "Energy evaluation 518 returned -1.028417 +/- 0.028819\n",
      "Energy evaluation 519 returned -0.962774 +/- 0.029024\n",
      "Energy evaluation 520 returned -0.947027 +/- 0.031495\n",
      "Energy evaluation 521 returned -0.999355 +/- 0.033559\n",
      "Energy evaluation 522 returned -1.016213 +/- 0.027684\n",
      "Energy evaluation 523 returned -0.984581 +/- 0.027839\n",
      "Energy evaluation 524 returned -1.002276 +/- 0.032249\n",
      "Energy evaluation 525 returned -0.975122 +/- 0.032064\n",
      "Energy evaluation 526 returned -1.003348 +/- 0.029909\n",
      "Energy evaluation 527 returned -0.971722 +/- 0.029800\n",
      "Energy evaluation 528 returned -1.002998 +/- 0.031485\n",
      "Energy evaluation 529 returned -1.043849 +/- 0.032548\n",
      "Energy evaluation 530 returned -0.971715 +/- 0.027969\n",
      "Energy evaluation 531 returned -0.996703 +/- 0.031225\n",
      "Energy evaluation 532 returned -1.023055 +/- 0.030838\n",
      "Energy evaluation 533 returned -0.990469 +/- 0.031241\n",
      "Energy evaluation 534 returned -0.968468 +/- 0.030953\n",
      "Energy evaluation 535 returned -1.001719 +/- 0.028971\n",
      "Energy evaluation 536 returned -1.025462 +/- 0.032016\n",
      "Energy evaluation 537 returned -0.952805 +/- 0.034760\n",
      "Energy evaluation 538 returned -0.999223 +/- 0.028481\n",
      "Energy evaluation 539 returned -0.989293 +/- 0.030581\n",
      "Energy evaluation 540 returned -0.992964 +/- 0.030457\n",
      "Energy evaluation 541 returned -0.901976 +/- 0.028624\n",
      "Energy evaluation 542 returned -1.027676 +/- 0.031915\n",
      "Energy evaluation 543 returned -1.009538 +/- 0.032614\n",
      "Energy evaluation 544 returned -0.946490 +/- 0.032410\n",
      "Energy evaluation 545 returned -0.968604 +/- 0.031593\n",
      "Energy evaluation 546 returned -0.976671 +/- 0.031792\n",
      "Energy evaluation 547 returned -0.972039 +/- 0.034180\n",
      "Energy evaluation 548 returned -1.022652 +/- 0.028769\n",
      "Energy evaluation 549 returned -1.013024 +/- 0.033883\n",
      "Energy evaluation 550 returned -0.940870 +/- 0.028905\n",
      "Energy evaluation 551 returned -1.000164 +/- 0.032125\n",
      "Energy evaluation 552 returned -1.009678 +/- 0.030406\n",
      "Energy evaluation 553 returned -0.981625 +/- 0.031801\n",
      "Energy evaluation 554 returned -0.993410 +/- 0.031613\n",
      "Energy evaluation 555 returned -1.045025 +/- 0.031233\n",
      "Energy evaluation 556 returned -1.006412 +/- 0.031972\n",
      "Energy evaluation 557 returned -1.006076 +/- 0.031990\n",
      "Energy evaluation 558 returned -1.024915 +/- 0.029692\n",
      "Energy evaluation 559 returned -1.043684 +/- 0.029030\n",
      "Energy evaluation 560 returned -1.045112 +/- 0.031446\n",
      "Energy evaluation 561 returned -1.012420 +/- 0.031281\n",
      "Energy evaluation 562 returned -1.070068 +/- 0.030695\n",
      "Energy evaluation 563 returned -1.019241 +/- 0.029736\n",
      "Energy evaluation 564 returned -1.027584 +/- 0.032806\n",
      "Energy evaluation 565 returned -1.030515 +/- 0.032592\n",
      "Energy evaluation 566 returned -1.024949 +/- 0.029984\n",
      "Energy evaluation 567 returned -0.950399 +/- 0.031244\n",
      "Energy evaluation 568 returned -0.988775 +/- 0.032824\n",
      "Energy evaluation 569 returned -1.028561 +/- 0.031944\n",
      "Energy evaluation 570 returned -1.029044 +/- 0.029642\n",
      "Energy evaluation 571 returned -1.015294 +/- 0.029478\n",
      "Energy evaluation 572 returned -0.909871 +/- 0.036045\n",
      "Energy evaluation 573 returned -0.964534 +/- 0.031017\n",
      "Energy evaluation 574 returned -0.981867 +/- 0.032222\n",
      "Energy evaluation 575 returned -0.996034 +/- 0.028888\n",
      "Energy evaluation 576 returned -0.924424 +/- 0.034687\n",
      "Energy evaluation 577 returned -0.960919 +/- 0.029866\n",
      "Energy evaluation 578 returned -0.995090 +/- 0.031539\n",
      "Energy evaluation 579 returned -1.018445 +/- 0.030958\n",
      "Energy evaluation 580 returned -1.002150 +/- 0.030323\n",
      "Energy evaluation 581 returned -0.953294 +/- 0.030728\n",
      "Energy evaluation 582 returned -0.978925 +/- 0.030909\n",
      "Energy evaluation 583 returned -0.946049 +/- 0.028472\n",
      "Energy evaluation 584 returned -0.970597 +/- 0.034547\n",
      "Energy evaluation 585 returned -1.014136 +/- 0.032114\n",
      "Energy evaluation 586 returned -0.982627 +/- 0.030007\n",
      "Energy evaluation 587 returned -1.008937 +/- 0.028982\n",
      "Energy evaluation 588 returned -1.015484 +/- 0.032668\n",
      "Energy evaluation 589 returned -1.024032 +/- 0.031763\n",
      "Energy evaluation 590 returned -0.985493 +/- 0.029959\n",
      "Energy evaluation 591 returned -0.985139 +/- 0.031414\n",
      "Energy evaluation 592 returned -1.016085 +/- 0.030516\n",
      "Energy evaluation 593 returned -0.980425 +/- 0.032674\n",
      "Energy evaluation 594 returned -1.014985 +/- 0.029519\n",
      "Energy evaluation 595 returned -0.973482 +/- 0.030515\n",
      "Energy evaluation 596 returned -1.026647 +/- 0.031886\n",
      "Energy evaluation 597 returned -0.962357 +/- 0.029610\n",
      "Energy evaluation 598 returned -1.062585 +/- 0.030577\n",
      "Energy evaluation 599 returned -0.982434 +/- 0.031989\n",
      "Energy evaluation 600 returned -1.036414 +/- 0.031028\n",
      "Energy evaluation 601 returned -0.983571 +/- 0.029232\n",
      "Energy evaluation 602 returned -0.954153 +/- 0.034828\n",
      "Energy evaluation 603 returned -0.984730 +/- 0.032146\n",
      "Energy evaluation 604 returned -0.997911 +/- 0.031554\n",
      "Energy evaluation 605 returned -1.001089 +/- 0.029824\n",
      "Energy evaluation 606 returned -1.026310 +/- 0.032074\n",
      "Energy evaluation 607 returned -1.034476 +/- 0.033112\n",
      "Energy evaluation 608 returned -0.984300 +/- 0.028485\n",
      "Energy evaluation 609 returned -1.023993 +/- 0.029903\n",
      "Energy evaluation 610 returned -0.984642 +/- 0.034205\n"
     ]
    },
    {
     "name": "stdout",
     "output_type": "stream",
     "text": [
      "Energy evaluation 611 returned -0.993573 +/- 0.031826\n",
      "Energy evaluation 612 returned -1.035663 +/- 0.031890\n",
      "Energy evaluation 613 returned -1.011827 +/- 0.034042\n",
      "Energy evaluation 614 returned -1.037183 +/- 0.028653\n",
      "Energy evaluation 615 returned -1.030239 +/- 0.030609\n",
      "Energy evaluation 616 returned -1.002677 +/- 0.032054\n",
      "Energy evaluation 617 returned -0.972556 +/- 0.031074\n",
      "Energy evaluation 618 returned -0.989477 +/- 0.031124\n",
      "Energy evaluation 619 returned -0.987328 +/- 0.031425\n",
      "Energy evaluation 620 returned -1.031672 +/- 0.030406\n",
      "Energy evaluation 621 returned -0.988924 +/- 0.034533\n",
      "Energy evaluation 622 returned -1.019608 +/- 0.029027\n",
      "Energy evaluation 623 returned -1.037655 +/- 0.031813\n",
      "Energy evaluation 624 returned -0.967155 +/- 0.030476\n",
      "Energy evaluation 625 returned -1.011757 +/- 0.031325\n",
      "Energy evaluation 626 returned -1.010610 +/- 0.030326\n",
      "Energy evaluation 627 returned -0.991236 +/- 0.029997\n",
      "Energy evaluation 628 returned -1.007625 +/- 0.032692\n",
      "Energy evaluation 629 returned -1.018369 +/- 0.032569\n",
      "Energy evaluation 630 returned -1.009050 +/- 0.029987\n",
      "Energy evaluation 631 returned -1.009832 +/- 0.030378\n",
      "Energy evaluation 632 returned -1.028320 +/- 0.030913\n",
      "Energy evaluation 633 returned -1.012207 +/- 0.029564\n",
      "Energy evaluation 634 returned -1.013980 +/- 0.032361\n",
      "Energy evaluation 635 returned -0.992494 +/- 0.031871\n",
      "Energy evaluation 636 returned -0.994448 +/- 0.031855\n",
      "Energy evaluation 637 returned -1.017708 +/- 0.030375\n",
      "Energy evaluation 638 returned -0.950803 +/- 0.033593\n",
      "Energy evaluation 639 returned -0.982500 +/- 0.034231\n",
      "Energy evaluation 640 returned -0.988860 +/- 0.028853\n",
      "Energy evaluation 641 returned -1.008675 +/- 0.028993\n",
      "Energy evaluation 642 returned -0.971644 +/- 0.034043\n",
      "Energy evaluation 643 returned -1.003249 +/- 0.029609\n",
      "Energy evaluation 644 returned -1.041852 +/- 0.031609\n",
      "Energy evaluation 645 returned -1.010804 +/- 0.029172\n",
      "Energy evaluation 646 returned -1.061552 +/- 0.031737\n",
      "Energy evaluation 647 returned -0.949658 +/- 0.032271\n",
      "Energy evaluation 648 returned -1.060060 +/- 0.029958\n",
      "Energy evaluation 649 returned -1.014737 +/- 0.031874\n",
      "Energy evaluation 650 returned -0.982451 +/- 0.030142\n",
      "Energy evaluation 651 returned -1.021214 +/- 0.030238\n",
      "Energy evaluation 652 returned -0.993242 +/- 0.032259\n",
      "Energy evaluation 653 returned -1.013323 +/- 0.031801\n",
      "Energy evaluation 654 returned -0.982404 +/- 0.030029\n",
      "Energy evaluation 655 returned -0.984577 +/- 0.032499\n",
      "Energy evaluation 656 returned -1.007244 +/- 0.030144\n",
      "Energy evaluation 657 returned -0.977011 +/- 0.031608\n",
      "Energy evaluation 658 returned -0.966882 +/- 0.031475\n",
      "Energy evaluation 659 returned -1.007358 +/- 0.031983\n",
      "Energy evaluation 660 returned -1.066657 +/- 0.029318\n",
      "Energy evaluation 661 returned -0.951814 +/- 0.034631\n",
      "Energy evaluation 662 returned -0.978228 +/- 0.029005\n",
      "Energy evaluation 663 returned -0.983085 +/- 0.029468\n",
      "Energy evaluation 664 returned -0.977121 +/- 0.033113\n",
      "Energy evaluation 665 returned -1.054525 +/- 0.032102\n",
      "Energy evaluation 666 returned -0.991124 +/- 0.029300\n",
      "Energy evaluation 667 returned -1.021658 +/- 0.031579\n",
      "Energy evaluation 668 returned -0.980515 +/- 0.030277\n",
      "Energy evaluation 669 returned -1.059604 +/- 0.029691\n",
      "Energy evaluation 670 returned -1.020740 +/- 0.032924\n",
      "Energy evaluation 671 returned -0.960814 +/- 0.030786\n",
      "Energy evaluation 672 returned -1.096419 +/- 0.029737\n",
      "Energy evaluation 673 returned -0.978386 +/- 0.029086\n",
      "Energy evaluation 674 returned -0.985067 +/- 0.032205\n",
      "Energy evaluation 675 returned -1.013724 +/- 0.032332\n",
      "Energy evaluation 676 returned -0.940682 +/- 0.029948\n",
      "Energy evaluation 677 returned -0.982994 +/- 0.033044\n",
      "Energy evaluation 678 returned -0.960291 +/- 0.030751\n",
      "Energy evaluation 679 returned -0.997206 +/- 0.031181\n",
      "Energy evaluation 680 returned -0.985266 +/- 0.029987\n",
      "Energy evaluation 681 returned -0.980076 +/- 0.031684\n",
      "Energy evaluation 682 returned -1.049082 +/- 0.030636\n",
      "Energy evaluation 683 returned -0.946776 +/- 0.031474\n",
      "Energy evaluation 684 returned -1.011502 +/- 0.031478\n",
      "Energy evaluation 685 returned -0.987376 +/- 0.031652\n",
      "Energy evaluation 686 returned -0.957006 +/- 0.031529\n",
      "Energy evaluation 687 returned -1.024927 +/- 0.033165\n",
      "Energy evaluation 688 returned -0.988585 +/- 0.029007\n",
      "Energy evaluation 689 returned -1.010876 +/- 0.031634\n",
      "Energy evaluation 690 returned -1.001197 +/- 0.031206\n",
      "Energy evaluation 691 returned -1.043198 +/- 0.032152\n",
      "Energy evaluation 692 returned -0.934028 +/- 0.030790\n",
      "Energy evaluation 693 returned -1.004982 +/- 0.034248\n",
      "Energy evaluation 694 returned -1.003900 +/- 0.028868\n",
      "Energy evaluation 695 returned -1.013868 +/- 0.030819\n",
      "Energy evaluation 696 returned -0.970567 +/- 0.034228\n",
      "Energy evaluation 697 returned -0.982625 +/- 0.030630\n",
      "Energy evaluation 698 returned -0.998527 +/- 0.032435\n",
      "Energy evaluation 699 returned -0.999912 +/- 0.031715\n",
      "Energy evaluation 700 returned -1.043823 +/- 0.031226\n",
      "Energy evaluation 701 returned -1.021738 +/- 0.031042\n",
      "Energy evaluation 702 returned -0.927920 +/- 0.034038\n",
      "Energy evaluation 703 returned -1.014560 +/- 0.032352\n",
      "Energy evaluation 704 returned -1.049776 +/- 0.029690\n",
      "Energy evaluation 705 returned -1.010991 +/- 0.029972\n",
      "Energy evaluation 706 returned -1.007383 +/- 0.034083\n",
      "Energy evaluation 707 returned -1.081334 +/- 0.031752\n",
      "Energy evaluation 708 returned -1.012146 +/- 0.030430\n",
      "Energy evaluation 709 returned -1.051386 +/- 0.031141\n",
      "Energy evaluation 710 returned -1.000518 +/- 0.031955\n",
      "Energy evaluation 711 returned -0.992470 +/- 0.033665\n",
      "Energy evaluation 712 returned -1.004828 +/- 0.030747\n",
      "Energy evaluation 713 returned -1.001744 +/- 0.029825\n",
      "Energy evaluation 714 returned -1.007774 +/- 0.033984\n",
      "Energy evaluation 715 returned -1.005543 +/- 0.029849\n",
      "Energy evaluation 716 returned -1.029765 +/- 0.032529\n",
      "Energy evaluation 717 returned -1.048832 +/- 0.032853\n",
      "Energy evaluation 718 returned -1.018913 +/- 0.029969\n",
      "Energy evaluation 719 returned -1.004576 +/- 0.033740\n",
      "Energy evaluation 720 returned -1.021528 +/- 0.030528\n",
      "Energy evaluation 721 returned -0.961739 +/- 0.034752\n",
      "Energy evaluation 722 returned -1.060655 +/- 0.028219\n",
      "Energy evaluation 723 returned -0.989019 +/- 0.032116\n",
      "Energy evaluation 724 returned -1.025314 +/- 0.030965\n",
      "Energy evaluation 725 returned -0.997554 +/- 0.031033\n",
      "Energy evaluation 726 returned -1.006370 +/- 0.031255\n",
      "Energy evaluation 727 returned -0.982620 +/- 0.032093\n",
      "Energy evaluation 728 returned -0.987386 +/- 0.030211\n",
      "Energy evaluation 729 returned -1.013017 +/- 0.033093\n",
      "Energy evaluation 730 returned -1.009646 +/- 0.030812\n",
      "Energy evaluation 731 returned -0.986560 +/- 0.032046\n",
      "Energy evaluation 732 returned -0.967381 +/- 0.032734\n",
      "Energy evaluation 733 returned -0.983730 +/- 0.031733\n",
      "Energy evaluation 734 returned -0.965986 +/- 0.031246\n",
      "Energy evaluation 735 returned -0.996661 +/- 0.032437\n",
      "Energy evaluation 736 returned -1.051235 +/- 0.029146\n",
      "Energy evaluation 737 returned -0.979203 +/- 0.030389\n",
      "Energy evaluation 738 returned -1.015544 +/- 0.031449\n",
      "Energy evaluation 739 returned -1.047052 +/- 0.029541\n",
      "Energy evaluation 740 returned -1.014824 +/- 0.033121\n",
      "Energy evaluation 741 returned -1.030808 +/- 0.028471\n",
      "Energy evaluation 742 returned -1.029676 +/- 0.033330\n",
      "Energy evaluation 743 returned -0.963683 +/- 0.030187\n",
      "Energy evaluation 744 returned -0.991550 +/- 0.032627\n",
      "Energy evaluation 745 returned -0.999908 +/- 0.032367\n",
      "Energy evaluation 746 returned -1.047760 +/- 0.030189\n",
      "Energy evaluation 747 returned -0.955914 +/- 0.028592\n",
      "Energy evaluation 748 returned -1.032992 +/- 0.032169\n",
      "Energy evaluation 749 returned -0.972946 +/- 0.029967\n",
      "Energy evaluation 750 returned -1.033602 +/- 0.033674\n",
      "Energy evaluation 751 returned -0.919098 +/- 0.033236\n",
      "Energy evaluation 752 returned -1.040938 +/- 0.030416\n",
      "Energy evaluation 753 returned -1.016173 +/- 0.029525\n",
      "Energy evaluation 754 returned -0.959727 +/- 0.033857\n",
      "Energy evaluation 755 returned -1.024925 +/- 0.030755\n",
      "Energy evaluation 756 returned -0.998868 +/- 0.031076\n",
      "Energy evaluation 757 returned -0.999694 +/- 0.029222\n",
      "Energy evaluation 758 returned -1.065814 +/- 0.031750\n",
      "Energy evaluation 759 returned -0.969641 +/- 0.032391\n",
      "Energy evaluation 760 returned -1.031050 +/- 0.031230\n",
      "Energy evaluation 761 returned -0.986250 +/- 0.032533\n",
      "Energy evaluation 762 returned -1.032849 +/- 0.030587\n"
     ]
    },
    {
     "name": "stdout",
     "output_type": "stream",
     "text": [
      "Energy evaluation 763 returned -1.059932 +/- 0.031718\n",
      "Energy evaluation 764 returned -0.976297 +/- 0.029947\n",
      "Energy evaluation 765 returned -0.973946 +/- 0.029992\n",
      "Energy evaluation 766 returned -0.951110 +/- 0.034259\n",
      "Energy evaluation 767 returned -0.972634 +/- 0.033983\n",
      "Energy evaluation 768 returned -0.984927 +/- 0.029789\n",
      "Energy evaluation 769 returned -1.032940 +/- 0.033581\n",
      "Energy evaluation 770 returned -0.967415 +/- 0.029422\n",
      "Energy evaluation 771 returned -0.996882 +/- 0.033740\n",
      "Energy evaluation 772 returned -0.990353 +/- 0.030808\n",
      "Energy evaluation 773 returned -1.020679 +/- 0.030809\n",
      "Energy evaluation 774 returned -1.012778 +/- 0.032162\n",
      "Energy evaluation 775 returned -1.012962 +/- 0.032167\n",
      "Energy evaluation 776 returned -0.998450 +/- 0.031547\n",
      "Energy evaluation 777 returned -1.059822 +/- 0.032129\n",
      "Energy evaluation 778 returned -0.997746 +/- 0.032569\n",
      "Energy evaluation 779 returned -1.064181 +/- 0.034054\n",
      "Energy evaluation 780 returned -1.033498 +/- 0.029026\n",
      "Energy evaluation 781 returned -0.955045 +/- 0.032171\n",
      "Energy evaluation 782 returned -1.017936 +/- 0.033564\n",
      "Energy evaluation 783 returned -0.994116 +/- 0.033629\n",
      "Energy evaluation 784 returned -1.059442 +/- 0.029533\n",
      "Energy evaluation 785 returned -0.997600 +/- 0.030442\n",
      "Energy evaluation 786 returned -1.033562 +/- 0.033130\n",
      "Energy evaluation 787 returned -0.997577 +/- 0.034295\n",
      "Energy evaluation 788 returned -1.048659 +/- 0.030624\n",
      "Energy evaluation 789 returned -0.960658 +/- 0.034297\n",
      "Energy evaluation 790 returned -1.028995 +/- 0.029686\n",
      "Energy evaluation 791 returned -0.982111 +/- 0.029382\n",
      "Energy evaluation 792 returned -0.986002 +/- 0.033488\n",
      "Energy evaluation 793 returned -0.975940 +/- 0.032352\n",
      "Energy evaluation 794 returned -1.047839 +/- 0.031180\n",
      "Energy evaluation 795 returned -1.025235 +/- 0.032873\n",
      "Energy evaluation 796 returned -1.031317 +/- 0.029924\n",
      "Energy evaluation 797 returned -1.053370 +/- 0.031461\n",
      "Energy evaluation 798 returned -1.067156 +/- 0.030246\n",
      "Energy evaluation 799 returned -1.040801 +/- 0.031050\n",
      "Energy evaluation 800 returned -1.020747 +/- 0.033285\n",
      "Energy evaluation 801 returned -0.975071 +/- 0.030927\n",
      "Energy evaluation 802 returned -0.988936 +/- 0.033195\n",
      "Energy evaluation 803 returned -1.072467 +/- 0.030962\n",
      "Energy evaluation 804 returned -1.010118 +/- 0.031102\n",
      "Energy evaluation 805 returned -1.018545 +/- 0.028926\n",
      "Energy evaluation 806 returned -0.997440 +/- 0.035383\n",
      "Energy evaluation 807 returned -1.028073 +/- 0.028405\n",
      "Energy evaluation 808 returned -0.954655 +/- 0.034881\n",
      "Energy evaluation 809 returned -1.007459 +/- 0.031307\n",
      "Energy evaluation 810 returned -1.023026 +/- 0.030831\n",
      "Energy evaluation 811 returned -0.982102 +/- 0.030023\n",
      "Energy evaluation 812 returned -0.996570 +/- 0.033162\n",
      "Energy evaluation 813 returned -0.984650 +/- 0.034275\n",
      "Energy evaluation 814 returned -1.005491 +/- 0.029389\n",
      "Energy evaluation 815 returned -0.971962 +/- 0.034590\n",
      "Energy evaluation 816 returned -0.986893 +/- 0.029417\n",
      "Energy evaluation 817 returned -1.019816 +/- 0.034318\n",
      "Energy evaluation 818 returned -1.041774 +/- 0.028518\n",
      "Energy evaluation 819 returned -1.065603 +/- 0.030906\n",
      "Energy evaluation 820 returned -1.005720 +/- 0.030239\n",
      "Energy evaluation 821 returned -1.053646 +/- 0.031795\n",
      "Energy evaluation 822 returned -0.999046 +/- 0.030098\n",
      "Energy evaluation 823 returned -1.006063 +/- 0.029618\n",
      "Energy evaluation 824 returned -1.039915 +/- 0.031711\n",
      "Energy evaluation 825 returned -1.036541 +/- 0.029960\n",
      "Energy evaluation 826 returned -0.990459 +/- 0.032619\n",
      "Energy evaluation 827 returned -0.966913 +/- 0.031389\n",
      "Energy evaluation 828 returned -1.022143 +/- 0.031512\n",
      "Energy evaluation 829 returned -0.983687 +/- 0.033047\n",
      "Energy evaluation 830 returned -0.996722 +/- 0.030657\n",
      "Energy evaluation 831 returned -1.019050 +/- 0.031740\n",
      "Energy evaluation 832 returned -1.023130 +/- 0.029159\n",
      "Energy evaluation 833 returned -0.969034 +/- 0.033291\n",
      "Energy evaluation 834 returned -0.997247 +/- 0.030227\n",
      "Energy evaluation 835 returned -1.010761 +/- 0.029906\n",
      "Energy evaluation 836 returned -0.981878 +/- 0.031407\n",
      "Energy evaluation 837 returned -1.003957 +/- 0.031502\n",
      "Energy evaluation 838 returned -0.974558 +/- 0.031032\n",
      "Energy evaluation 839 returned -1.011530 +/- 0.029912\n",
      "Energy evaluation 840 returned -1.028384 +/- 0.032058\n",
      "Energy evaluation 841 returned -1.004269 +/- 0.031441\n",
      "Energy evaluation 842 returned -0.959387 +/- 0.029488\n",
      "Energy evaluation 843 returned -1.006670 +/- 0.030405\n",
      "Energy evaluation 844 returned -1.027862 +/- 0.030336\n",
      "Energy evaluation 845 returned -1.006765 +/- 0.031215\n",
      "Energy evaluation 846 returned -0.991228 +/- 0.031034\n",
      "Energy evaluation 847 returned -0.945127 +/- 0.033572\n",
      "Energy evaluation 848 returned -1.032636 +/- 0.029663\n",
      "Energy evaluation 849 returned -1.032238 +/- 0.032782\n",
      "Energy evaluation 850 returned -1.003197 +/- 0.028539\n",
      "Energy evaluation 851 returned -1.053349 +/- 0.030956\n",
      "Energy evaluation 852 returned -0.989248 +/- 0.031314\n",
      "Energy evaluation 853 returned -1.024527 +/- 0.033358\n",
      "Energy evaluation 854 returned -1.001565 +/- 0.029000\n",
      "Energy evaluation 855 returned -0.996155 +/- 0.032310\n",
      "Energy evaluation 856 returned -0.998537 +/- 0.030123\n",
      "Energy evaluation 857 returned -0.992680 +/- 0.029888\n",
      "Energy evaluation 858 returned -1.008289 +/- 0.030801\n",
      "Energy evaluation 859 returned -0.998506 +/- 0.031858\n",
      "Energy evaluation 860 returned -0.989998 +/- 0.030217\n",
      "Energy evaluation 861 returned -0.987378 +/- 0.034551\n",
      "Energy evaluation 862 returned -0.982251 +/- 0.029426\n",
      "Energy evaluation 863 returned -0.985612 +/- 0.031203\n",
      "Energy evaluation 864 returned -1.033674 +/- 0.030469\n",
      "Energy evaluation 865 returned -1.057527 +/- 0.031164\n",
      "Energy evaluation 866 returned -1.000898 +/- 0.029772\n",
      "Energy evaluation 867 returned -1.025735 +/- 0.029375\n",
      "Energy evaluation 868 returned -0.964697 +/- 0.033885\n",
      "Energy evaluation 869 returned -0.999063 +/- 0.031116\n",
      "Energy evaluation 870 returned -1.027257 +/- 0.030936\n",
      "Energy evaluation 871 returned -1.061342 +/- 0.028853\n",
      "Energy evaluation 872 returned -0.959362 +/- 0.031720\n",
      "Energy evaluation 873 returned -0.999169 +/- 0.031613\n",
      "Energy evaluation 874 returned -0.966851 +/- 0.029976\n",
      "Energy evaluation 875 returned -1.031145 +/- 0.028963\n",
      "Energy evaluation 876 returned -0.951297 +/- 0.032944\n",
      "Energy evaluation 877 returned -1.039114 +/- 0.030034\n",
      "Energy evaluation 878 returned -0.987820 +/- 0.030617\n",
      "Energy evaluation 879 returned -1.025505 +/- 0.031842\n",
      "Energy evaluation 880 returned -0.940991 +/- 0.029172\n",
      "Energy evaluation 881 returned -1.053484 +/- 0.030400\n",
      "Energy evaluation 882 returned -0.989910 +/- 0.031162\n",
      "Energy evaluation 883 returned -1.035609 +/- 0.030596\n",
      "Energy evaluation 884 returned -0.965781 +/- 0.030659\n",
      "Energy evaluation 885 returned -1.002780 +/- 0.030596\n",
      "Energy evaluation 886 returned -1.008688 +/- 0.031349\n",
      "Energy evaluation 887 returned -0.994877 +/- 0.032531\n",
      "Energy evaluation 888 returned -0.958345 +/- 0.031149\n",
      "Energy evaluation 889 returned -1.034365 +/- 0.029122\n",
      "Energy evaluation 890 returned -0.986426 +/- 0.032698\n",
      "Energy evaluation 891 returned -0.995348 +/- 0.029773\n",
      "Energy evaluation 892 returned -1.061824 +/- 0.030758\n",
      "Energy evaluation 893 returned -1.017490 +/- 0.030643\n",
      "Energy evaluation 894 returned -0.954342 +/- 0.031890\n",
      "Energy evaluation 895 returned -1.036919 +/- 0.028004\n",
      "Energy evaluation 896 returned -1.028614 +/- 0.033097\n",
      "Energy evaluation 897 returned -1.022732 +/- 0.031187\n",
      "Energy evaluation 898 returned -1.005170 +/- 0.031496\n",
      "Energy evaluation 899 returned -1.007916 +/- 0.031293\n",
      "Energy evaluation 900 returned -0.950876 +/- 0.032599\n",
      "Energy evaluation 901 returned -0.963155 +/- 0.029657\n",
      "Energy evaluation 902 returned -0.961513 +/- 0.034005\n",
      "Energy evaluation 903 returned -1.007804 +/- 0.033232\n",
      "Energy evaluation 904 returned -0.980048 +/- 0.028959\n",
      "Energy evaluation 905 returned -0.983872 +/- 0.031534\n",
      "Energy evaluation 906 returned -1.033480 +/- 0.030880\n",
      "Energy evaluation 907 returned -1.010768 +/- 0.030654\n",
      "Energy evaluation 908 returned -0.933741 +/- 0.031899\n",
      "Energy evaluation 909 returned -1.065803 +/- 0.029556\n",
      "Energy evaluation 910 returned -0.984804 +/- 0.032421\n",
      "Energy evaluation 911 returned -1.009166 +/- 0.031620\n",
      "Energy evaluation 912 returned -1.059113 +/- 0.029749\n",
      "Energy evaluation 913 returned -0.999275 +/- 0.030865\n",
      "Energy evaluation 914 returned -0.995758 +/- 0.031766\n"
     ]
    },
    {
     "name": "stdout",
     "output_type": "stream",
     "text": [
      "Energy evaluation 915 returned -1.023106 +/- 0.030901\n",
      "Energy evaluation 916 returned -1.006453 +/- 0.030579\n",
      "Energy evaluation 917 returned -0.944285 +/- 0.031649\n",
      "Energy evaluation 918 returned -1.013768 +/- 0.030678\n",
      "Energy evaluation 919 returned -0.987440 +/- 0.031035\n",
      "Energy evaluation 920 returned -1.049817 +/- 0.029997\n",
      "Energy evaluation 921 returned -0.998880 +/- 0.031179\n",
      "Energy evaluation 922 returned -0.985757 +/- 0.031639\n",
      "Energy evaluation 923 returned -0.973863 +/- 0.028919\n",
      "Energy evaluation 924 returned -0.997746 +/- 0.033763\n",
      "Energy evaluation 925 returned -1.008242 +/- 0.032105\n",
      "Energy evaluation 926 returned -0.993780 +/- 0.029280\n",
      "Energy evaluation 927 returned -1.051145 +/- 0.029346\n",
      "Energy evaluation 928 returned -1.012680 +/- 0.032349\n",
      "Energy evaluation 929 returned -0.952214 +/- 0.031338\n",
      "Energy evaluation 930 returned -1.002526 +/- 0.031296\n",
      "Energy evaluation 931 returned -0.968049 +/- 0.034626\n",
      "Energy evaluation 932 returned -0.969629 +/- 0.029158\n",
      "Energy evaluation 933 returned -0.985160 +/- 0.033504\n",
      "Energy evaluation 934 returned -0.987971 +/- 0.029375\n",
      "Energy evaluation 935 returned -0.968642 +/- 0.031334\n",
      "Energy evaluation 936 returned -0.987597 +/- 0.032122\n",
      "Energy evaluation 937 returned -1.015601 +/- 0.030551\n",
      "Energy evaluation 938 returned -1.015410 +/- 0.031957\n",
      "Energy evaluation 939 returned -1.034159 +/- 0.032669\n",
      "Energy evaluation 940 returned -0.973075 +/- 0.029668\n",
      "Energy evaluation 941 returned -1.038708 +/- 0.030278\n",
      "Energy evaluation 942 returned -1.003928 +/- 0.030335\n",
      "Energy evaluation 943 returned -1.013660 +/- 0.029686\n",
      "Energy evaluation 944 returned -1.019767 +/- 0.032245\n",
      "Energy evaluation 945 returned -0.935235 +/- 0.031636\n",
      "Energy evaluation 946 returned -0.987385 +/- 0.031623\n",
      "Energy evaluation 947 returned -0.993253 +/- 0.031411\n",
      "Energy evaluation 948 returned -1.062367 +/- 0.030405\n",
      "Energy evaluation 949 returned -1.025304 +/- 0.029101\n",
      "Energy evaluation 950 returned -1.008514 +/- 0.033079\n",
      "Energy evaluation 951 returned -0.969994 +/- 0.030659\n",
      "Energy evaluation 952 returned -0.995552 +/- 0.032805\n",
      "Energy evaluation 953 returned -1.041069 +/- 0.029021\n",
      "Energy evaluation 954 returned -1.017171 +/- 0.033793\n",
      "Energy evaluation 955 returned -0.965929 +/- 0.028887\n",
      "Energy evaluation 956 returned -0.971583 +/- 0.034336\n",
      "Energy evaluation 957 returned -0.976537 +/- 0.030202\n",
      "Energy evaluation 958 returned -1.054267 +/- 0.031909\n",
      "Energy evaluation 959 returned -0.946859 +/- 0.032285\n",
      "Energy evaluation 960 returned -1.042408 +/- 0.031199\n",
      "Energy evaluation 961 returned -0.996369 +/- 0.032662\n",
      "Energy evaluation 962 returned -0.995130 +/- 0.030850\n",
      "Energy evaluation 963 returned -0.970611 +/- 0.033436\n",
      "Energy evaluation 964 returned -0.964228 +/- 0.030863\n",
      "Energy evaluation 965 returned -1.015626 +/- 0.030223\n",
      "Energy evaluation 966 returned -1.049367 +/- 0.031502\n",
      "Energy evaluation 967 returned -1.002714 +/- 0.031691\n",
      "Energy evaluation 968 returned -0.960762 +/- 0.030962\n",
      "Energy evaluation 969 returned -1.043507 +/- 0.029094\n",
      "Energy evaluation 970 returned -0.962956 +/- 0.035584\n",
      "Energy evaluation 971 returned -0.975783 +/- 0.032241\n",
      "Energy evaluation 972 returned -1.043605 +/- 0.031721\n",
      "Energy evaluation 973 returned -1.019738 +/- 0.032316\n",
      "Energy evaluation 974 returned -0.956204 +/- 0.030578\n",
      "Energy evaluation 975 returned -1.024999 +/- 0.030570\n",
      "Energy evaluation 976 returned -0.985943 +/- 0.031330\n",
      "Energy evaluation 977 returned -1.028972 +/- 0.032984\n",
      "Energy evaluation 978 returned -0.976834 +/- 0.029605\n",
      "Energy evaluation 979 returned -0.934285 +/- 0.031573\n",
      "Energy evaluation 980 returned -0.999159 +/- 0.033926\n",
      "Energy evaluation 981 returned -1.032082 +/- 0.033036\n",
      "Energy evaluation 982 returned -1.011012 +/- 0.030909\n",
      "Energy evaluation 983 returned -1.006814 +/- 0.028849\n",
      "Energy evaluation 984 returned -0.983307 +/- 0.035434\n",
      "Energy evaluation 985 returned -1.001326 +/- 0.030600\n",
      "Energy evaluation 986 returned -0.953885 +/- 0.032723\n",
      "Energy evaluation 987 returned -1.055780 +/- 0.031366\n",
      "Energy evaluation 988 returned -1.002923 +/- 0.031337\n",
      "Energy evaluation 989 returned -1.031097 +/- 0.033160\n",
      "Energy evaluation 990 returned -0.999727 +/- 0.031025\n",
      "Energy evaluation 991 returned -1.021120 +/- 0.033186\n",
      "Energy evaluation 992 returned -1.015831 +/- 0.030744\n",
      "Energy evaluation 993 returned -0.980615 +/- 0.033277\n",
      "Energy evaluation 994 returned -0.985815 +/- 0.030878\n",
      "Energy evaluation 995 returned -1.001524 +/- 0.033192\n",
      "Energy evaluation 996 returned -0.993307 +/- 0.031707\n",
      "Energy evaluation 997 returned -1.006002 +/- 0.032427\n",
      "Energy evaluation 998 returned -1.026160 +/- 0.030636\n",
      "Energy evaluation 999 returned -0.975237 +/- 0.033188\n",
      "Energy evaluation 1000 returned -0.930405 +/- 0.033592\n",
      "Energy evaluation 1001 returned -0.977887 +/- 0.031072\n",
      "Energy evaluation 1002 returned -0.993928 +/- 0.033542\n",
      "Energy evaluation 1003 returned -1.023646 +/- 0.030393\n",
      "Energy evaluation 1004 returned -1.012211 +/- 0.032968\n",
      "Energy evaluation 1005 returned -1.019606 +/- 0.031828\n",
      "Energy evaluation 1006 returned -1.033584 +/- 0.030715\n",
      "Energy evaluation 1007 returned -1.030970 +/- 0.033694\n",
      "Energy evaluation 1008 returned -0.995894 +/- 0.029357\n",
      "Energy evaluation 1009 returned -0.949059 +/- 0.034866\n",
      "Energy evaluation 1010 returned -1.009050 +/- 0.030344\n",
      "Energy evaluation 1011 returned -1.017538 +/- 0.032294\n",
      "Energy evaluation 1012 returned -1.023765 +/- 0.030378\n",
      "Energy evaluation 1013 returned -1.017503 +/- 0.029879\n",
      "Energy evaluation 1014 returned -0.975052 +/- 0.034379\n",
      "Energy evaluation 1015 returned -0.993706 +/- 0.030589\n",
      "Energy evaluation 1016 returned -1.050635 +/- 0.033214\n",
      "Energy evaluation 1017 returned -0.996435 +/- 0.033011\n",
      "Energy evaluation 1018 returned -0.971903 +/- 0.031919\n",
      "Energy evaluation 1019 returned -0.979506 +/- 0.035452\n",
      "Energy evaluation 1020 returned -1.024317 +/- 0.029169\n",
      "Energy evaluation 1021 returned -0.941003 +/- 0.035368\n",
      "Energy evaluation 1022 returned -0.997662 +/- 0.028981\n",
      "Energy evaluation 1023 returned -0.997668 +/- 0.030056\n",
      "Energy evaluation 1024 returned -0.941593 +/- 0.033557\n",
      "Energy evaluation 1025 returned -1.020111 +/- 0.032290\n",
      "Energy evaluation 1026 returned -1.016432 +/- 0.030643\n",
      "Energy evaluation 1027 returned -0.978248 +/- 0.029473\n",
      "Energy evaluation 1028 returned -1.002069 +/- 0.033413\n",
      "Energy evaluation 1029 returned -0.962787 +/- 0.029525\n",
      "Energy evaluation 1030 returned -0.973116 +/- 0.035436\n",
      "Energy evaluation 1031 returned -0.986524 +/- 0.032077\n",
      "Energy evaluation 1032 returned -0.974952 +/- 0.032330\n",
      "Energy evaluation 1033 returned -1.040581 +/- 0.031395\n",
      "Energy evaluation 1034 returned -0.991609 +/- 0.030897\n",
      "Energy evaluation 1035 returned -0.988500 +/- 0.029557\n",
      "Energy evaluation 1036 returned -1.018958 +/- 0.032937\n",
      "Energy evaluation 1037 returned -1.017202 +/- 0.033472\n",
      "Energy evaluation 1038 returned -0.971671 +/- 0.030287\n",
      "Energy evaluation 1039 returned -1.010881 +/- 0.032927\n",
      "Energy evaluation 1040 returned -0.993565 +/- 0.030249\n",
      "Energy evaluation 1041 returned -1.043392 +/- 0.029093\n",
      "Energy evaluation 1042 returned -0.962584 +/- 0.034488\n",
      "Energy evaluation 1043 returned -0.984984 +/- 0.031567\n",
      "Energy evaluation 1044 returned -0.988353 +/- 0.031612\n",
      "Energy evaluation 1045 returned -0.995882 +/- 0.033120\n",
      "Energy evaluation 1046 returned -0.967736 +/- 0.030288\n",
      "Energy evaluation 1047 returned -1.006701 +/- 0.033410\n",
      "Energy evaluation 1048 returned -0.972703 +/- 0.029923\n",
      "Energy evaluation 1049 returned -0.981066 +/- 0.029870\n",
      "Energy evaluation 1050 returned -1.004345 +/- 0.033133\n",
      "Energy evaluation 1051 returned -1.009232 +/- 0.031625\n"
     ]
    }
   ],
   "source": [
    "res = sim.run(my_quantum_instance)"
   ]
  },
  {
   "cell_type": "code",
   "execution_count": 29,
   "metadata": {},
   "outputs": [
    {
     "data": {
      "text/plain": [
       "{'num_optimizer_evals': None,\n",
       " 'min_val': -1.0092324082031245,\n",
       " 'opt_params': array([ 0.12398951, -1.18068356,  0.15356187]),\n",
       " 'eval_time': 308.8051190376282,\n",
       " 'eval_count': 1051,\n",
       " 'energy': -1.0092324082031245,\n",
       " 'eigvals': array([-1.00923241]),\n",
       " 'min_vector': {'01': 298, '00': 691, '11': 4, '10': 31},\n",
       " 'eigvecs': array([{'01': 298, '00': 691, '11': 4, '10': 31}], dtype=object)}"
      ]
     },
     "execution_count": 29,
     "metadata": {},
     "output_type": "execute_result"
    }
   ],
   "source": [
    "res"
   ]
  },
  {
   "cell_type": "code",
   "execution_count": 30,
   "metadata": {},
   "outputs": [
    {
     "data": {
      "text/plain": [
       "{'01': 298, '00': 696, '11': 1, '10': 29}"
      ]
     },
     "execution_count": 30,
     "metadata": {},
     "output_type": "execute_result"
    }
   ],
   "source": [
    "sim.get_optimal_vector()"
   ]
  },
  {
   "cell_type": "code",
   "execution_count": 31,
   "metadata": {},
   "outputs": [
    {
     "data": {
      "text/plain": [
       "-1.0092324082031245"
      ]
     },
     "execution_count": 31,
     "metadata": {},
     "output_type": "execute_result"
    }
   ],
   "source": [
    "sim.get_optimal_cost()"
   ]
  },
  {
   "cell_type": "code",
   "execution_count": 32,
   "metadata": {},
   "outputs": [],
   "source": [
    "energy_eval = sim.get_optimal_cost()"
   ]
  },
  {
   "cell_type": "code",
   "execution_count": 33,
   "metadata": {},
   "outputs": [],
   "source": [
    "energy_eval_err = 0.011"
   ]
  },
  {
   "cell_type": "code",
   "execution_count": 34,
   "metadata": {},
   "outputs": [
    {
     "data": {
      "text/plain": [
       "array([ 0.12398951, -1.18068356,  0.15356187])"
      ]
     },
     "execution_count": 34,
     "metadata": {},
     "output_type": "execute_result"
    }
   ],
   "source": [
    "sim._ret['opt_params']"
   ]
  },
  {
   "cell_type": "code",
   "execution_count": 35,
   "metadata": {},
   "outputs": [
    {
     "name": "stdout",
     "output_type": "stream",
     "text": [
      "Energy evaluation 1052 returned -1.026531 +/- 0.031058\n",
      "Energy evaluation 1053 returned -0.999499 +/- 0.031905\n",
      "Energy evaluation 1054 returned -0.973244 +/- 0.032028\n",
      "Energy evaluation 1055 returned -0.969196 +/- 0.032371\n",
      "Energy evaluation 1056 returned -0.965918 +/- 0.031654\n"
     ]
    },
    {
     "data": {
      "text/plain": [
       "-0.9659175624999999"
      ]
     },
     "execution_count": 35,
     "metadata": {},
     "output_type": "execute_result"
    }
   ],
   "source": [
    "sim._energy_evaluation(sim._ret['opt_params'])\n",
    "sim._energy_evaluation(sim._ret['opt_params'])\n",
    "sim._energy_evaluation(sim._ret['opt_params'])\n",
    "sim._energy_evaluation(sim._ret['opt_params'])\n",
    "sim._energy_evaluation(sim._ret['opt_params'])"
   ]
  },
  {
   "cell_type": "code",
   "execution_count": 36,
   "metadata": {},
   "outputs": [
    {
     "data": {
      "text/plain": [
       "<QasmSimulator('qasm_simulator') from AerProvider()>"
      ]
     },
     "execution_count": 36,
     "metadata": {},
     "output_type": "execute_result"
    }
   ],
   "source": [
    "sim.quantum_instance.backend"
   ]
  },
  {
   "cell_type": "code",
   "execution_count": 37,
   "metadata": {},
   "outputs": [
    {
     "data": {
      "image/png": "[encoded data removed]",
      "text/plain": [
       "<PIL.Image.Image image mode=RGB size=2001x313 at 0x1211E5B38>"
      ]
     },
     "execution_count": 37,
     "metadata": {},
     "output_type": "execute_result"
    }
   ],
   "source": [
    "from qiskit.aqua.utils.run_circuits import find_regs_by_name\n",
    "opt_circ = sim.get_optimal_circuit()\n",
    "c = ClassicalRegister(opt_circ.width(), name='c')\n",
    "q = find_regs_by_name(opt_circ, 'q')\n",
    "opt_circ.add_register(c)\n",
    "opt_circ.barrier(q)\n",
    "opt_circ.measure(q, c)\n",
    "opt_circ.draw(output='latex', filename='example_gate.png', scale=1.0)"
   ]
  },
  {
   "cell_type": "code",
   "execution_count": 38,
   "metadata": {},
   "outputs": [
    {
     "name": "stdout",
     "output_type": "stream",
     "text": [
      "% \\documentclass[preview]{standalone}\n",
      "% If the image is too large to fit on this documentclass use\n",
      "\\documentclass[draft]{beamer}\n",
      "% img_width = 4, img_depth = 12\n",
      "\\usepackage[size=custom,height=10,width=39,scale=0.5]{beamerposter}\n",
      "% instead and customize the height and width (in cm) to fit.\n",
      "% Large images may run out of memory quickly.\n",
      "% To fix this use the LuaLaTeX compiler, which dynamically\n",
      "% allocates memory.\n",
      "\\usepackage[braket, qm]{qcircuit}\n",
      "\\usepackage{amsmath}\n",
      "\\pdfmapfile{+sansmathaccent.map}\n",
      "% \\usepackage[landscape]{geometry}\n",
      "% Comment out the above line if using the beamer documentclass.\n",
      "\\begin{document}\n",
      "\\begin{equation*}\n",
      "    \\Qcircuit @C=1.0em @R=0.0em @!R {\n",
      "\t \t\\lstick{ q_{0} : \\ket{0} } & \\gate{U_3(-1.18,0,0)} & \\ctrl{1} & \\qw & \\ctrl{1} & \\qw \\barrier[0em]{1} & \\qw \\barrier[0em]{1} & \\qw & \\meter & \\qw & \\qw & \\qw & \\qw\\\\\n",
      "\t \t\\lstick{ q_{1} : \\ket{0} } & \\gate{U_3(0.124,0,0)} & \\targ & \\gate{U_3(0.124,0,0)} & \\targ & \\gate{U_3(0.154,0,0)} & \\qw & \\qw & \\qw & \\meter & \\qw & \\qw & \\qw\\\\\n",
      "\t \t\\lstick{c_{0}: 0} & \\cw & \\cw & \\cw & \\cw & \\cw & \\cw & \\cw & \\cw \\cwx[-2] & \\cw & \\cw & \\cw & \\cw\\\\\n",
      "\t \t\\lstick{c_{1}: 0} & \\cw & \\cw & \\cw & \\cw & \\cw & \\cw & \\cw & \\cw & \\cw \\cwx[-2] & \\cw & \\cw & \\cw\\\\\n",
      "\t }\n",
      "\\end{equation*}\n",
      "\n",
      "\\end{document}\n"
     ]
    }
   ],
   "source": [
    "latex_source = opt_circ.draw(output='latex_source', filename='example_gate.png', scale=0.5)\n",
    "print(latex_source)"
   ]
  },
  {
   "cell_type": "code",
   "execution_count": 39,
   "metadata": {},
   "outputs": [],
   "source": [
    "# build an optimized circuit;\n",
    "# make measurement, retrieve memory\n",
    "# bootstrap uncertainties"
   ]
  },
  {
   "cell_type": "code",
   "execution_count": 40,
   "metadata": {},
   "outputs": [
    {
     "data": {
      "text/plain": [
       "1024"
      ]
     },
     "execution_count": 40,
     "metadata": {},
     "output_type": "execute_result"
    }
   ],
   "source": [
    "sim.quantum_instance.run_config.shots"
   ]
  },
  {
   "cell_type": "code",
   "execution_count": 41,
   "metadata": {},
   "outputs": [],
   "source": [
    "sim.quantum_instance.set_config(shots=1024, memory=True)"
   ]
  },
  {
   "cell_type": "code",
   "execution_count": 42,
   "metadata": {},
   "outputs": [
    {
     "data": {
      "text/plain": [
       "RunConfig(max_credits=10, memory=True, shots=1024)"
      ]
     },
     "execution_count": 42,
     "metadata": {},
     "output_type": "execute_result"
    }
   ],
   "source": [
    "sim.quantum_instance.run_config"
   ]
  },
  {
   "cell_type": "code",
   "execution_count": 43,
   "metadata": {},
   "outputs": [],
   "source": [
    "# takes in results from a single circuit \n",
    "# with memory=True, and estimates\n",
    "# the uncertanities on the probability of each outcome \n",
    "# (currently with bootstrap)\n",
    "# returns outcome:(pba, std) dictionary\n",
    "def compute_stats(res, invert_qubit_order = False):\n",
    "    # check that there is a single circuit in the results\n",
    "    # (ambiguous otherwise)\n",
    "    assert(len(res.results)==1)\n",
    "    # generates all possible outcomes given \\\n",
    "    # the number of qubits \n",
    "    def _generate_bitstrings(nqubits, invert_qubit_order):\n",
    "        # (recursive, modifies all_strings in place)\n",
    "        def _generate_bitstrings_rec(nqubits, all_strings, a_string, irecur): \n",
    "            # base\n",
    "            if irecur == nqubits: \n",
    "                all_strings.append(''.join([bit for bit in a_string]))\n",
    "                return \n",
    "            # append 0\n",
    "            _generate_bitstrings_rec(nqubits, all_strings, a_string + ['0'], irecur + 1)\n",
    "            # append 1\n",
    "            _generate_bitstrings_rec(nqubits, all_strings, a_string + ['1'], irecur + 1)\n",
    "        all_strings = []\n",
    "        _generate_bitstrings_rec(nqubits, all_strings, [], 0)\n",
    "        if (invert_qubit_order): \n",
    "        # pesky Qiskit messes up qubit ordering... this may or may not be necessary to translate the results.\n",
    "            all_strings = [''.join(reversed(bitstring)) for bitstring in all_strings]\n",
    "        return all_strings\n",
    "    # bootstrap specific?\n",
    "    # given ensembles of outcomes and a particular outcome\n",
    "    # calculates the statistics of that outcome:\n",
    "    # returns outcome:(pba, std) estimates for the outcome\n",
    "    def _calc_outcome_stats(ensembles, nshots, outcome):\n",
    "        cts = np.count_nonzero(ensembles==outcome, axis=0)\n",
    "        pba = np.mean(cts)/nshots\n",
    "        std = np.std(cts/nshots, ddof = 1) # use unbiased estimator\n",
    "        return (pba, std)\n",
    "    nqubits = int(np.log2(len(res.get_counts(0)))) # pull number of qubits from results\n",
    "    outcomes = _generate_bitstrings(nqubits, invert_qubit_order)\n",
    "    mem = res.get_memory(0)\n",
    "    nshots = sum(list(res.get_counts(0).values()))\n",
    "    nens = nshots # choose number of ensemles = number of samples\n",
    "    nsam = nshots\n",
    "    ensembles = np.random.choice(mem, (nens, nsam))\n",
    "    stats = map(lambda outcome: (outcome, _calc_outcome_stats(ensembles, nshots, outcome)), outcomes)\n",
    "    return dict(stats)"
   ]
  },
  {
   "cell_type": "code",
   "execution_count": 44,
   "metadata": {},
   "outputs": [],
   "source": [
    "sim.quantum_instance.set_config(shots=8*1024, memory=True)\n",
    "opt_res = sim.quantum_instance.execute(opt_circ)\n",
    "sim.quantum_instance.set_config(shots=8*1024, memory=False) # reset to no memory! saves resources?"
   ]
  },
  {
   "cell_type": "code",
   "execution_count": 45,
   "metadata": {},
   "outputs": [
    {
     "data": {
      "image/png": "[encoded data removed]",
      "text/plain": [
       "<Figure size 504x360 with 1 Axes>"
      ]
     },
     "execution_count": 45,
     "metadata": {},
     "output_type": "execute_result"
    }
   ],
   "source": [
    "from qiskit.visualization import plot_histogram\n",
    "plot_histogram(opt_res.get_counts(opt_circ))"
   ]
  },
  {
   "cell_type": "code",
   "execution_count": 46,
   "metadata": {},
   "outputs": [],
   "source": [
    "measured_coeffs =compute_stats(opt_res, False)"
   ]
  },
  {
   "cell_type": "code",
   "execution_count": 47,
   "metadata": {},
   "outputs": [
    {
     "data": {
      "text/plain": [
       "{'00': (0.6586602479219437, 0.005321048622351783),\n",
       " '01': (0.3136149048805237, 0.005208095810113155),\n",
       " '10': (0.025897547602653503, 0.0017553850532887067),\n",
       " '11': (0.0018272995948791504, 0.00047652708843728747)}"
      ]
     },
     "execution_count": 47,
     "metadata": {},
     "output_type": "execute_result"
    }
   ],
   "source": [
    "measured_coeffs"
   ]
  },
  {
   "cell_type": "code",
   "execution_count": 48,
   "metadata": {},
   "outputs": [
    {
     "data": {
      "image/png": "[encoded data removed]",
      "text/plain": [
       "<PIL.Image.Image image mode=RGB size=1034x159 at 0x122035860>"
      ]
     },
     "execution_count": 48,
     "metadata": {},
     "output_type": "execute_result"
    }
   ],
   "source": [
    "transp_circ = transpile(opt_circ, sim.quantum_instance.backend, optimization_level=3)\n",
    "transp_circ.draw(output='latex', scale=0.5)"
   ]
  },
  {
   "cell_type": "code",
   "execution_count": 49,
   "metadata": {},
   "outputs": [
    {
     "data": {
      "image/png": "[encoded data removed]",
      "text/plain": [
       "<PIL.Image.Image image mode=RGB size=1034x159 at 0x122035940>"
      ]
     },
     "execution_count": 49,
     "metadata": {},
     "output_type": "execute_result"
    }
   ],
   "source": [
    "opt_circ.decompose().draw(output='latex', scale=0.5)"
   ]
  },
  {
   "cell_type": "code",
   "execution_count": 50,
   "metadata": {},
   "outputs": [],
   "source": [
    "# compare with Mathematica's expectations\n",
    "mathematica_res = -1.01162 # Even\n",
    "mathematica_res2 = 0.486204 # Odd\n",
    "\n",
    "# odd coefficients\n",
    "even_coeffs = [0.669069, 0.305919, 0.023941, 0.00107068]\n",
    "even_coeffs_at_theta = [0.664109, 0.0236388, 0.309821, 0.00243079]\n",
    "odd_coeffs = [0.7041621406145364, 0.2582831083289985, 0.03524433188695736, 0.002310419169507747]"
   ]
  },
  {
   "cell_type": "code",
   "execution_count": 51,
   "metadata": {},
   "outputs": [
    {
     "data": {
      "text/plain": [
       "<matplotlib.legend.Legend at 0x1222f37f0>"
      ]
     },
     "execution_count": 51,
     "metadata": {},
     "output_type": "execute_result"
    },
    {
     "data": {
      "image/png": "[encoded data removed]",
      "text/plain": [
       "<Figure size 432x288 with 1 Axes>"
      ]
     },
     "metadata": {
      "needs_background": "light"
     },
     "output_type": "display_data"
    }
   ],
   "source": [
    "import matplotlib.pyplot as plt\n",
    "outcomes = list(measured_coeffs.keys())\n",
    "outcomes_bars = np.arange(len(outcomes))\n",
    "avgs = [measured_coeffs[outcome][0] for outcome in outcomes]\n",
    "stds = [measured_coeffs[outcome][1] for outcome in outcomes]\n",
    "fig, ax = plt.subplots()\n",
    "ax.bar(outcomes_bars, avgs, yerr=stds, \n",
    "       align='center', alpha=0.5, ecolor='black',\n",
    "       edgecolor='k',\n",
    "       error_kw=dict(lw=0.5, capsize=10, capthick=2.0),\n",
    "       label='IBM sim')\n",
    "ax.set_ylabel(r'$|c_i|^2$', fontsize=16)\n",
    "ax.set_xlabel(r'outcome', fontsize=16)\n",
    "ax.set_xticks(outcomes_bars)\n",
    "ax.set_xticklabels(outcomes)\n",
    "ax.set_title('$E \\\\pm \\\\Delta E = %.3f \\\\pm %.3f$\\n($E = %.3f$ exact),\\n nshots=%d' \n",
    "             % (energy_eval, energy_eval_err, mathematica_res, \n",
    "                sim.quantum_instance.run_config.shots), fontsize=16)\n",
    "for icoeff in range(len(even_coeffs)):\n",
    "    ax.axhline(y = even_coeffs[icoeff], color ='red', linewidth = 0.5, \n",
    "               label=r'exact $|c_{%d}|^2 = %.3f$' % (icoeff+1, even_coeffs[icoeff]))\n",
    "    ax.axhline(y = even_coeffs_at_theta[icoeff], color ='green', linewidth = 0.5, \n",
    "               label=r'exact $|c(\\theta)_{%d}|^2 = %.3f$' % (icoeff+1, even_coeffs_at_theta[icoeff]))\n",
    "ax.set_yscale('log')\n",
    "plt.tight_layout()\n",
    "plt.legend(frameon=False, fontsize=16, bbox_to_anchor=(1.04,1), loc=\"upper left\")\n",
    "#plt.savefig(\"even.png\", dpi=300)"
   ]
  },
  {
   "cell_type": "code",
   "execution_count": null,
   "metadata": {},
   "outputs": [],
   "source": []
  }
 ],
 "metadata": {
  "kernelspec": {
   "display_name": "Python (Qiskitenv)",
   "language": "python",
   "name": "qiskitenv"
  },
  "language_info": {
   "codemirror_mode": {
    "name": "ipython",
    "version": 3
   },
   "file_extension": ".py",
   "mimetype": "text/x-python",
   "name": "python",
   "nbconvert_exporter": "python",
   "pygments_lexer": "ipython3",
   "version": "3.6.0"
  }
 },
 "nbformat": 4,
 "nbformat_minor": 2
}
