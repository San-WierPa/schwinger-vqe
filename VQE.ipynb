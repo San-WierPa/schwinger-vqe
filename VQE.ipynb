{
 "cells": [
  {
   "cell_type": "markdown",
   "metadata": {},
   "source": [
    "# VQE with Qiskit\n",
    "\n",
    "This is the current version of my VQE. Ideally this should not be in a Jupyter notebook, of course. But this form is convenient to play with the different parts of the Qiskit's infrastructure and see how they work."
   ]
  },
  {
   "cell_type": "code",
   "execution_count": 57,
   "metadata": {},
   "outputs": [
    {
     "name": "stderr",
     "output_type": "stream",
     "text": [
      "Credentials are already in use. The existing account in the session will be replaced.\n"
     ]
    },
    {
     "data": {
      "text/plain": [
       "<AccountProvider for IBMQ(hub='ibm-q', group='open', project='main')>"
      ]
     },
     "execution_count": 57,
     "metadata": {},
     "output_type": "execute_result"
    }
   ],
   "source": [
    "from qiskit import *\n",
    "import qiskit.tools.jupyter\n",
    "import numpy as np\n",
    "IBMQ.load_account()"
   ]
  },
  {
   "cell_type": "code",
   "execution_count": 58,
   "metadata": {},
   "outputs": [],
   "source": [
    "from qiskit.aqua.components.variational_forms import VariationalForm\n",
    "from qiskit.aqua.components.initial_states import Zero, VarFormBased\n",
    "from qiskit.aqua.operators import MatrixOperator, TPBGroupedWeightedPauliOperator\n",
    "from qiskit.aqua.operators.op_converter import to_tpb_grouped_weighted_pauli_operator\n",
    "from qiskit.aqua.components.optimizers import SPSA\n",
    "from qiskit.aqua.algorithms.adaptive import VQE"
   ]
  },
  {
   "cell_type": "code",
   "execution_count": 59,
   "metadata": {},
   "outputs": [],
   "source": [
    "from scipy.sparse import *\n",
    "from scipy import *"
   ]
  },
  {
   "cell_type": "code",
   "execution_count": 4,
   "metadata": {},
   "outputs": [
    {
     "data": {
      "text/plain": [
       "{'qiskit-terra': '0.11.1',\n",
       " 'qiskit-aer': '0.3.4',\n",
       " 'qiskit-ignis': '0.2.0',\n",
       " 'qiskit-ibmq-provider': '0.4.5',\n",
       " 'qiskit-aqua': '0.6.2',\n",
       " 'qiskit': '0.14.1'}"
      ]
     },
     "execution_count": 4,
     "metadata": {},
     "output_type": "execute_result"
    }
   ],
   "source": [
    "qiskit.__qiskit_version__"
   ]
  },
  {
   "cell_type": "code",
   "execution_count": 5,
   "metadata": {},
   "outputs": [
    {
     "data": {
      "text/plain": [
       "{'qiskit-terra': '0.11.1',\n",
       " 'qiskit-aer': '0.3.4',\n",
       " 'qiskit-ignis': '0.2.0',\n",
       " 'qiskit-ibmq-provider': '0.4.5',\n",
       " 'qiskit-aqua': '0.6.2',\n",
       " 'qiskit': '0.14.1'}"
      ]
     },
     "execution_count": 5,
     "metadata": {},
     "output_type": "execute_result"
    }
   ],
   "source": [
    "qiskit.__qiskit_version__"
   ]
  },
  {
   "cell_type": "markdown",
   "metadata": {},
   "source": [
    "## VQE Settings"
   ]
  },
  {
   "cell_type": "code",
   "execution_count": 6,
   "metadata": {},
   "outputs": [],
   "source": [
    "num_qubits = 2"
   ]
  },
  {
   "cell_type": "markdown",
   "metadata": {},
   "source": [
    "## Variational Form"
   ]
  },
  {
   "cell_type": "code",
   "execution_count": 7,
   "metadata": {},
   "outputs": [],
   "source": [
    "num_var_params = 3\n",
    "var_form_depth = 1\n",
    "optimal_params = [-0.386244, 0.317799, -0.416888] # from exact solution\n",
    "initial_params = [0.0, 0.0, 0.0]\n",
    "var_form_depth2 = 2\n",
    "initial_params2 = [0.0, 0.0, 0.0, 0.0, 0.0, 0.0] # deeper ansatz / layer"
   ]
  },
  {
   "cell_type": "code",
   "execution_count": 8,
   "metadata": {},
   "outputs": [],
   "source": [
    "class SchwingerAnsatz(VariationalForm):\n",
    "    \"\"\" Variational Layer from Martin's Paper \"\"\"\n",
    "    \n",
    "    CONFIGURATION = {\n",
    "        'name': 'Schwinger Ansatz',\n",
    "        'description': 'Variational Form for Schwinger VQE',\n",
    "        'input_schema': {\n",
    "            '$schema': 'http://json-schema.org/draft-07/schema#',\n",
    "            'id': 'schwinger_schema',\n",
    "            'type': 'object',\n",
    "            'properties': {\n",
    "                'depth': {\n",
    "                    'type': 'integer',\n",
    "                    'default': 3,\n",
    "                    'minimum': 1\n",
    "                },\n",
    "                'entangler_map': {\n",
    "                    'type': ['array', 'null'],\n",
    "                    'default': None\n",
    "                },\n",
    "                'entanglement_gate': {\n",
    "                    'type': 'string',\n",
    "                    'default': 'cx',\n",
    "                    'enum': ['cx']\n",
    "                },\n",
    "            },\n",
    "            'additionalProperties': False\n",
    "        },\n",
    "        'depends': [\n",
    "            {\n",
    "                'pluggable_type': 'initial_state',\n",
    "                'default': {\n",
    "                    'name': 'ZERO',\n",
    "                }\n",
    "            },\n",
    "        ],\n",
    "    }\n",
    "    \n",
    "    def __init__(self, depth=3, entangler_map=None, initial_state=None):\n",
    "        \"\"\"\n",
    "        Constructor.\n",
    "        Args:\n",
    "            depth (int) : number of rotation layers\n",
    "            entangler_map (list[list]): describe the connectivity of qubits, each list describes\n",
    "                             [source, target], or None for full entanglement.\n",
    "                             Note that the order is the list is the order of\n",
    "                             applying the two-qubit gate.\n",
    "            initial_state (InitialState): an initial state object\n",
    "        \"\"\"\n",
    "        self.validate(locals())\n",
    "        super().__init__()\n",
    "        #_support_parameterized_circuit = True\n",
    "        # hard-coded, first pass through FIXME\n",
    "        num_qubits = 2\n",
    "        num_parameters = 3\n",
    "        entanglement='full'\n",
    "        entanglement_gate='cx'\n",
    "        skip_unentangled_qubits = False\n",
    "        self._num_qubits = num_qubits \n",
    "        self._depth = depth\n",
    "        if entangler_map is None:\n",
    "            self._entangler_map = VariationalForm.get_entangler_map(entanglement, num_qubits)\n",
    "        else:\n",
    "            self._entangler_map = VariationalForm.validate_entangler_map(entangler_map, num_qubits)\n",
    "        # determine the entangled qubits\n",
    "        all_qubits = []\n",
    "        for src, targ in self._entangler_map:\n",
    "            all_qubits.extend([src, targ])\n",
    "        self._entangled_qubits = sorted(list(set(all_qubits)))\n",
    "        self._initial_state = initial_state\n",
    "        self._entanglement_gate = entanglement_gate\n",
    "        self._skip_unentangled_qubits = skip_unentangled_qubits\n",
    "        # for the first layer\n",
    "        self._num_parameters = num_parameters\n",
    "        # for repeated block\n",
    "        self._num_parameters += num_parameters * (depth-1)\n",
    "        self._bounds = [(-np.pi, np.pi)] * self._num_parameters\n",
    "    \n",
    "    def construct_circuit(self, parameters, q=None):\n",
    "        \"\"\"\n",
    "        Construct the variational form, given its parameters.\n",
    "        \n",
    "        Args:\n",
    "            parameters (numpy.ndarray): circuit parameters\n",
    "            q (QuantumRegister): Quantum Register for the circuit.\n",
    "            \n",
    "        Returns:\n",
    "            QuantumCircuit: a quantum circuit with given `parameters`\n",
    "            \n",
    "        Raises:\n",
    "            ValueError: the number of parameters is incorrect.\n",
    "        \"\"\"\n",
    "        if len(parameters) != self._num_parameters:\n",
    "            raise ValueError('The number of parameters has to be {}'.format(self._num_parameters))\n",
    "        \n",
    "        if q is None:\n",
    "            q = QuantumRegister(self._num_qubits, name='q')\n",
    "        if self._initial_state is not None:\n",
    "            circuit = self._initial_state.construct_circuit('circuit', q)\n",
    "        else:\n",
    "            circuit = QuantumCircuit(q)\n",
    "        #\n",
    "        param_idx = 0\n",
    "        \n",
    "        def angle(theta=0., phi=0., lam=0.):\n",
    "            return [theta, phi, lam]\n",
    "\n",
    "        for _ in range(self._depth):\n",
    "            # get variational parameters for this layer\n",
    "            t0 = parameters[param_idx] # theta-angle values\n",
    "            t1 = parameters[param_idx+1]\n",
    "            t2 = parameters[param_idx+2]\n",
    "            t = [angle(t_i) for t_i in [t0, t1, t2]]\n",
    "            # Construct circuit\n",
    "            circuit.u3(*(t[1]), 0)  # u3(*angles, q)\n",
    "            circuit.u3(*(t[0]), 1)\n",
    "            circuit.cx(0, 1)        # entangling qubit cx(ctrl, tgt)\n",
    "            circuit.u3(*(t[0]), 1)\n",
    "            circuit.cx(0, 1)        # entangling qubit cx(ctrl, tgt)\n",
    "            circuit.u3(*(t[2]), 1)\n",
    "            circuit.barrier(q)\n",
    "\n",
    "        return circuit  "
   ]
  },
  {
   "cell_type": "code",
   "execution_count": 9,
   "metadata": {},
   "outputs": [
    {
     "data": {
      "image/png": "[encoded data removed]",
      "text/plain": [
       "<PIL.Image.Image image mode=RGB size=699x93 at 0x12CC5D828>"
      ]
     },
     "execution_count": 9,
     "metadata": {},
     "output_type": "execute_result"
    }
   ],
   "source": [
    "schwinger_form = SchwingerAnsatz(var_form_depth)\n",
    "vqs_circ = schwinger_form.construct_circuit(initial_params)\n",
    "vqs_circ.draw(output='latex', scale=0.5)"
   ]
  },
  {
   "cell_type": "markdown",
   "metadata": {},
   "source": [
    "## Initial State"
   ]
  },
  {
   "cell_type": "code",
   "execution_count": 10,
   "metadata": {},
   "outputs": [
    {
     "data": {
      "image/png": "[encoded data removed]",
      "text/plain": [
       "<PIL.Image.Image image mode=RGB size=136x50 at 0x12CC67D68>"
      ]
     },
     "execution_count": 10,
     "metadata": {},
     "output_type": "execute_result"
    }
   ],
   "source": [
    "fiducial_state = Zero(num_qubits)\n",
    "fid_circ = fiducial_state.construct_circuit()\n",
    "fid_circ.draw(output='latex', scale=0.5)"
   ]
  },
  {
   "cell_type": "code",
   "execution_count": 11,
   "metadata": {},
   "outputs": [
    {
     "data": {
      "image/png": "[encoded data removed]",
      "text/plain": [
       "<PIL.Image.Image image mode=RGB size=699x93 at 0x12CC67F60>"
      ]
     },
     "execution_count": 11,
     "metadata": {},
     "output_type": "execute_result"
    }
   ],
   "source": [
    "var_form_wavefunction = VarFormBased(schwinger_form, initial_params)\n",
    "var_form_wavefunction.construct_circuit().draw(output='latex', scale=0.5)"
   ]
  },
  {
   "cell_type": "markdown",
   "metadata": {},
   "source": [
    "## Hamiltonian"
   ]
  },
  {
   "cell_type": "code",
   "execution_count": 12,
   "metadata": {},
   "outputs": [],
   "source": [
    "# these correspond to L=2 spatial sites. \n",
    "# They have slightly different truncations so that the dimensions of the matrices are the same.\n",
    "\n",
    "h_even = np.array([\n",
    " [-0.20036, 1.19976, 0., 0.],\n",
    " [1.19976, 1., 0.848358, 0.],\n",
    " [0., 0.848358, 2.20036, 0.848358],\n",
    " [0., 0., 0.848358, 3.]\n",
    "])\n",
    "\n",
    "h_odd = np.array([\n",
    "    [1., 0.848358, 0., 0.],\n",
    "    [0.848358, 2.20036, -0.848358, 0.],\n",
    "    [0., -0.848358, 3., -0.848358],\n",
    "    [0., 0., -0.848358, 3.79964]\n",
    "])"
   ]
  },
  {
   "cell_type": "code",
   "execution_count": 13,
   "metadata": {},
   "outputs": [],
   "source": [
    "# this is a \"switch\" :)\n",
    "h = h_even\n",
    "# h = h_odd"
   ]
  },
  {
   "cell_type": "code",
   "execution_count": 14,
   "metadata": {},
   "outputs": [],
   "source": [
    "# Thread on qubit ordering in Qiskit\n",
    "# https://github.com/Qiskit/qiskit-terra/issues/1148"
   ]
  },
  {
   "cell_type": "code",
   "execution_count": 15,
   "metadata": {},
   "outputs": [
    {
     "name": "stdout",
     "output_type": "stream",
     "text": [
      "TPB: YY (2)\n",
      "II\t(1.5+0j)\n",
      "YY\t(0.424179+0j)\n",
      "TPB: XX (2)\n",
      "IX\t(1.0240589999999998+0j)\n",
      "XX\t(0.424179+0j)\n",
      "TPB: ZZ (3)\n",
      "IZ\t(-0.5+0j)\n",
      "ZI\t(-1.10018+0j)\n",
      "ZZ\t(-0.10017999999999999+0j)\n",
      "TPB: ZX (1)\n",
      "ZX\t(0.175701+0j)\n",
      "\n"
     ]
    }
   ],
   "source": [
    "H_mat = csr_matrix(h)\n",
    "H_MatrixOperator = MatrixOperator(H_mat)\n",
    "H_Operator = to_tpb_grouped_weighted_pauli_operator(H_MatrixOperator, \n",
    "                                                    TPBGroupedWeightedPauliOperator.sorted_grouping)\n",
    "print(H_Operator.print_details())"
   ]
  },
  {
   "cell_type": "code",
   "execution_count": 16,
   "metadata": {},
   "outputs": [],
   "source": [
    "operator_mode=None\n",
    "input_circuit=var_form_wavefunction.construct_circuit()\n",
    "backend=None\n",
    "qr=None\n",
    "cr=None\n",
    "use_simulator_operator_mode=False\n",
    "use_simulator_snapshot_mode=False\n",
    "wave_function=fid_circ\n",
    "statevector_mode=False"
   ]
  },
  {
   "cell_type": "code",
   "execution_count": 67,
   "metadata": {},
   "outputs": [
    {
     "data": {
      "text/html": [
       "<pre style=\"word-wrap: normal;white-space: pre;background: #fff0;line-height: 1.1;font-family: &quot;Courier New&quot;,Courier,monospace\">        ┌───────────┐                                     ░ \n",
       "q_0: |0>┤ U3(0,0,0) ├──■─────────────────■────────────────░─\n",
       "        ├───────────┤┌─┴─┐┌───────────┐┌─┴─┐┌───────────┐ ░ \n",
       "q_1: |0>┤ U3(0,0,0) ├┤ X ├┤ U3(0,0,0) ├┤ X ├┤ U3(0,0,0) ├─░─\n",
       "        └───────────┘└───┘└───────────┘└───┘└───────────┘ ░ </pre>"
      ],
      "text/plain": [
       "<qiskit.visualization.text.TextDrawing at 0x134e0dda0>"
      ]
     },
     "execution_count": 67,
     "metadata": {},
     "output_type": "execute_result"
    }
   ],
   "source": [
    "input_circuit.draw()"
   ]
  },
  {
   "cell_type": "code",
   "execution_count": 17,
   "metadata": {},
   "outputs": [],
   "source": [
    "H_circs = H_Operator.construct_evaluation_circuit(input_circuit, # wavefunction\n",
    "                                        statevector_mode,\n",
    "                                        qr,\n",
    "                                        cr,\n",
    "                                        use_simulator_snapshot_mode)"
   ]
  },
  {
   "cell_type": "code",
   "execution_count": 18,
   "metadata": {},
   "outputs": [
    {
     "data": {
      "image/png": "[encoded data removed]",
      "text/plain": [
       "<PIL.Image.Image image mode=RGB size=847x159 at 0x12E188C50>"
      ]
     },
     "execution_count": 18,
     "metadata": {},
     "output_type": "execute_result"
    }
   ],
   "source": [
    "H_circs[0].draw(output='latex', scale=0.5)"
   ]
  },
  {
   "cell_type": "code",
   "execution_count": 19,
   "metadata": {},
   "outputs": [
    {
     "data": {
      "image/png": "[encoded data removed]",
      "text/plain": [
       "<PIL.Image.Image image mode=RGB size=846x160 at 0x12E193828>"
      ]
     },
     "execution_count": 19,
     "metadata": {},
     "output_type": "execute_result"
    }
   ],
   "source": [
    "H_circs[1].draw(output='latex', scale=0.5)"
   ]
  },
  {
   "cell_type": "markdown",
   "metadata": {},
   "source": [
    "## Optimizer"
   ]
  },
  {
   "cell_type": "code",
   "execution_count": 20,
   "metadata": {
    "scrolled": true
   },
   "outputs": [
    {
     "name": "stdout",
     "output_type": "stream",
     "text": [
      "Optimizer: SPSA\n",
      "-- gradient_support_level: 1\n",
      "-- bounds_support_level: 1\n",
      "-- initial_point_support_level: 3\n",
      "-- options: {'last_avg': 1, 'save_steps': 1}\n",
      "-- max_evals_grouped: 1\n",
      "-- max_trials: 500\n",
      "-- parameters: [0.62831853 0.1        0.602      0.101      0.        ]\n",
      "-- skip_calibration: False\n",
      "\n"
     ]
    }
   ],
   "source": [
    "max_trials = 500\n",
    "optimizer = qiskit.aqua.components.optimizers.SPSA(max_trials)\n",
    "print(optimizer.setting) "
   ]
  },
  {
   "cell_type": "markdown",
   "metadata": {},
   "source": [
    "## Variational Quantum Simulation\n",
    "### Extend VQE class to incude statistics in results, or find a way to retrieve statistics from the existing class\n",
    "\n",
    "Q: where is the counts object in the existing class?"
   ]
  },
  {
   "cell_type": "code",
   "execution_count": 21,
   "metadata": {},
   "outputs": [],
   "source": [
    "# a callback that can access the intermediate data \n",
    "# during the optimization.\n",
    "# Internally, four arguments are provided as follows \n",
    "# the index of evaluation, parameters of variational form,\n",
    "# evaluated mean, evaluated standard deviation.\n",
    "def simple_callback(eval_count, parameter_set, mean, std):\n",
    "    if eval_count % 1 == 0:\n",
    "        print('Energy evaluation %s returned %4f +/- %4f' % (eval_count, np.real(mean), np.real(std)))"
   ]
  },
  {
   "cell_type": "code",
   "execution_count": 22,
   "metadata": {},
   "outputs": [],
   "source": [
    "# classVQE(operator, var_form, optimizer, \n",
    "# operator_mode=None, initial_point=None, \n",
    "# max_evals_grouped=1, \n",
    "# aux_operators=None, callback=None, \n",
    "# auto_conversion=True)\n",
    "operator_mode = None\n",
    "initial_point = initial_params\n",
    "max_evals_grouped=1              # max number of evaluations performed simultaneously\n",
    "aux_operators = None\n",
    "auto_conversion=False\n",
    "sim = VQE(H_Operator, schwinger_form, optimizer,\n",
    "          # operator_mode, not needed in the most recent version\n",
    "          initial_point, \n",
    "          max_evals_grouped, \n",
    "          aux_operators, \n",
    "          simple_callback, \n",
    "          auto_conversion)"
   ]
  },
  {
   "cell_type": "code",
   "execution_count": 23,
   "metadata": {},
   "outputs": [],
   "source": [
    "backend = None\n",
    "use_simulator_operator_mode=False\n",
    "# is backend from AerProvider,\n",
    "# if True and mode is paulis, single circuit is generated.\n",
    "use_simulator_snapshot_mode=True\n",
    "statevector_mode=False"
   ]
  },
  {
   "cell_type": "code",
   "execution_count": 24,
   "metadata": {},
   "outputs": [],
   "source": [
    "sim_circs = sim.construct_circuit(initial_params, \n",
    "                                  statevector_mode,\n",
    "                                  use_simulator_snapshot_mode)"
   ]
  },
  {
   "cell_type": "code",
   "execution_count": 25,
   "metadata": {},
   "outputs": [
    {
     "data": {
      "image/png": "[encoded data removed]",
      "text/plain": [
       "<PIL.Image.Image image mode=RGB size=725x92 at 0x12E1B2EF0>"
      ]
     },
     "execution_count": 25,
     "metadata": {},
     "output_type": "execute_result"
    }
   ],
   "source": [
    "sim_circs[0].draw(output='latex', scale=0.5)"
   ]
  },
  {
   "cell_type": "code",
   "execution_count": 60,
   "metadata": {},
   "outputs": [],
   "source": [
    "# backend_sim = Aer.get_backend('qasm_simulator')\n",
    "# qasm_simulator\n",
    "provider = IBMQ.get_provider(group=\"open\")"
   ]
  },
  {
   "cell_type": "code",
   "execution_count": 61,
   "metadata": {},
   "outputs": [],
   "source": [
    "backend_sim = provider.get_backend('ibmq_5_yorktown')"
   ]
  },
  {
   "cell_type": "code",
   "execution_count": 62,
   "metadata": {},
   "outputs": [
    {
     "name": "stdout",
     "output_type": "stream",
     "text": [
      "ibmqx2\n"
     ]
    }
   ],
   "source": [
    "print(backend_sim)"
   ]
  },
  {
   "cell_type": "code",
   "execution_count": 63,
   "metadata": {},
   "outputs": [
    {
     "name": "stderr",
     "output_type": "stream",
     "text": [
      "The skip Qobj validation does not work for IBMQ provider. Disable it.\n"
     ]
    }
   ],
   "source": [
    "from qiskit.aqua import QuantumInstance\n",
    "nshots = 1024\n",
    "my_quantum_instance = QuantumInstance(backend_sim, nshots)"
   ]
  },
  {
   "cell_type": "code",
   "execution_count": 64,
   "metadata": {},
   "outputs": [
    {
     "name": "stdout",
     "output_type": "stream",
     "text": [
      "\n",
      "Qiskit Terra version: 0.11.1\n",
      "Backend: 'ibmqx2 (<AccountProvider for IBMQ(hub='ibm-q', group='open', project='main')>)', with following setting:\n",
      "{'basis_gates': ['u1', 'u2', 'u3', 'cx', 'id'], 'coupling_map': [[0, 1], [0, 2], [1, 0], [1, 2], [2, 0], [2, 1], [2, 3], [2, 4], [3, 2], [3, 4], [4, 2], [4, 3]]}\n",
      "{'pass_manager': None, 'initial_layout': None, 'seed_transpiler': None, 'optimization_level': None}\n",
      "RunConfig(max_credits=10, shots=1024)\n",
      "{'timeout': None, 'wait': 5}\n",
      "{}\n",
      "{}\n",
      "Measurement mitigation: None\n"
     ]
    }
   ],
   "source": [
    "print(my_quantum_instance)"
   ]
  },
  {
   "cell_type": "code",
   "execution_count": 65,
   "metadata": {},
   "outputs": [
    {
     "name": "stdout",
     "output_type": "stream",
     "text": [
      "\n",
      "==================== Setting of VQE ============================\n",
      "Algorithm: VQE\n",
      "-- quantum_instance: \n",
      "Qiskit Terra version: 0.11.1\n",
      "Backend: 'qasm_simulator (AerProvider)', with following setting:\n",
      "{'basis_gates': ['u1', 'u2', 'u3', 'cx', 'cz', 'id', 'x', 'y', 'z', 'h', 's', 'sdg', 't', 'tdg', 'swap', 'ccx', 'unitary', 'initialize', 'cu1', 'cu2', 'cu3', 'cswap', 'mcx', 'mcy', 'mcz', 'mcu1', 'mcu2', 'mcu3', 'mcswap', 'multiplexer', 'kraus', 'roerror'], 'coupling_map': None}\n",
      "{'pass_manager': None, 'initial_layout': None, 'seed_transpiler': None, 'optimization_level': None}\n",
      "RunConfig(max_credits=10, memory=False, shots=8192)\n",
      "{'timeout': None}\n",
      "{}\n",
      "{}\n",
      "Measurement mitigation: None\n",
      "-- var_form: <__main__.SchwingerAnsatz object at 0x12c361ef0>\n",
      "-- optimizer: <qiskit.aqua.components.optimizers.spsa.SPSA object at 0x12e1b2e80>\n",
      "-- cost_fn: <bound method VQE._energy_evaluation of <qiskit.aqua.algorithms.adaptive.vqe.vqe.VQE object at 0x12e1b2940>>\n",
      "-- initial_point: [0.0, 0.0, 0.0]\n",
      "-- parameterized_circuits: None\n",
      "-- use_simulator_snapshot_mode: False\n",
      "-- ret: {'num_optimizer_evals': None, 'min_val': -1.0093993183593746, 'opt_params': array([ 0.13668529, -1.17800686,  0.07900709]), 'eval_time': 187.6453242301941, 'eval_count': 1051, 'energy': -1.0093993183593746, 'eigvals': array([-1.00939932]), 'min_vector': {'01': 319, '00': 690, '10': 15}, 'eigvecs': array([{'01': 317, '00': 689, '10': 18}], dtype=object)}\n",
      "-- eval_time: 187.6453242301941\n",
      "-- callback: <function simple_callback at 0x12e1bb2f0>\n",
      "-- operator: : Representation: tpb grouped paulis, qubits: 2, size: 8, group: 4\n",
      "-- eval_count: 1056\n",
      "-- aux_operators: []\n",
      "-- auto_conversion: False\n",
      "-- var_form_params: θ, ['θ[0]', 'θ[1]', 'θ[2]']\n",
      "===============================================================\n",
      "Variational Form: Schwinger Ansatz\n",
      "-- num_parameters: 3\n",
      "-- num_qubits: 2\n",
      "-- bounds: [(-3.141592653589793, 3.141592653589793), (-3.141592653589793, 3.141592653589793), (-3.141592653589793, 3.141592653589793)]\n",
      "-- support_parameterized_circuit: False\n",
      "-- depth: 1\n",
      "-- entangler_map: [[0, 1]]\n",
      "-- entangled_qubits: [0, 1]\n",
      "-- initial_state: None\n",
      "-- entanglement_gate: cx\n",
      "-- skip_unentangled_qubits: False\n",
      "===============================================================\n",
      "Optimizer: SPSA\n",
      "-- gradient_support_level: 1\n",
      "-- bounds_support_level: 1\n",
      "-- initial_point_support_level: 3\n",
      "-- options: {'last_avg': 1, 'save_steps': 1}\n",
      "-- max_evals_grouped: 1\n",
      "-- max_trials: 500\n",
      "-- parameters: [0.54073463 0.1        0.602      0.101      0.        ]\n",
      "-- skip_calibration: False\n",
      "===============================================================\n",
      "\n"
     ]
    }
   ],
   "source": [
    "print(sim.print_settings())"
   ]
  },
  {
   "cell_type": "code",
   "execution_count": 66,
   "metadata": {},
   "outputs": [
    {
     "name": "stdout",
     "output_type": "stream",
     "text": [
      "Energy evaluation 1 returned 0.032381 +/- 0.044072\n",
      "Energy evaluation 2 returned -0.100926 +/- 0.040922\n",
      "Energy evaluation 3 returned -0.044958 +/- 0.040293\n",
      "Energy evaluation 4 returned 0.206285 +/- 0.046577\n",
      "Energy evaluation 5 returned -0.106519 +/- 0.042933\n",
      "Energy evaluation 6 returned 0.066414 +/- 0.041238\n",
      "Energy evaluation 7 returned 0.036641 +/- 0.038699\n",
      "Energy evaluation 8 returned -0.056584 +/- 0.045626\n",
      "Energy evaluation 9 returned -0.103065 +/- 0.042733\n",
      "Energy evaluation 10 returned 0.102217 +/- 0.040802\n",
      "Energy evaluation 11 returned 0.133430 +/- 0.043352\n",
      "Energy evaluation 12 returned -0.139119 +/- 0.040341\n",
      "Energy evaluation 13 returned -0.070321 +/- 0.041055\n",
      "Energy evaluation 14 returned 0.121324 +/- 0.043383\n",
      "Energy evaluation 15 returned 0.059106 +/- 0.040975\n",
      "Energy evaluation 16 returned -0.087668 +/- 0.042869\n",
      "Energy evaluation 17 returned -0.136300 +/- 0.041277\n",
      "Energy evaluation 18 returned 0.096434 +/- 0.042595\n",
      "Energy evaluation 19 returned 0.011388 +/- 0.046799\n",
      "Energy evaluation 20 returned 0.046665 +/- 0.039902\n",
      "Energy evaluation 21 returned 0.216016 +/- 0.046260\n",
      "Energy evaluation 22 returned -0.103764 +/- 0.039503\n",
      "Energy evaluation 23 returned 0.005547 +/- 0.047738\n",
      "Energy evaluation 24 returned 0.040716 +/- 0.039547\n",
      "Energy evaluation 25 returned -0.101015 +/- 0.039804\n",
      "Energy evaluation 26 returned 0.185714 +/- 0.046209\n",
      "Energy evaluation 27 returned 0.125822 +/- 0.042171\n",
      "Energy evaluation 28 returned -0.084193 +/- 0.040439\n",
      "Energy evaluation 29 returned -0.192167 +/- 0.043049\n",
      "Energy evaluation 30 returned 0.118150 +/- 0.041090\n",
      "Energy evaluation 31 returned 0.267363 +/- 0.046409\n",
      "Energy evaluation 32 returned -0.101394 +/- 0.038578\n",
      "Energy evaluation 33 returned -0.062701 +/- 0.044651\n",
      "Energy evaluation 34 returned 0.014349 +/- 0.039704\n",
      "Energy evaluation 35 returned -0.114299 +/- 0.038917\n",
      "Energy evaluation 36 returned 0.228692 +/- 0.046867\n",
      "Energy evaluation 37 returned 0.044262 +/- 0.040805\n",
      "Energy evaluation 38 returned -0.043152 +/- 0.045325\n",
      "Energy evaluation 39 returned 0.090182 +/- 0.041298\n",
      "Energy evaluation 40 returned 0.000217 +/- 0.047054\n",
      "Energy evaluation 41 returned 0.005887 +/- 0.046701\n",
      "Energy evaluation 42 returned 0.157336 +/- 0.041102\n",
      "Energy evaluation 43 returned 0.105224 +/- 0.039401\n",
      "Energy evaluation 44 returned -0.144420 +/- 0.042973\n",
      "Energy evaluation 45 returned -0.156452 +/- 0.042502\n",
      "Energy evaluation 46 returned 0.126263 +/- 0.040267\n",
      "Energy evaluation 47 returned -0.146195 +/- 0.038942\n",
      "Energy evaluation 48 returned 0.232304 +/- 0.045484\n",
      "Energy evaluation 49 returned 0.180950 +/- 0.041049\n",
      "Energy evaluation 50 returned -0.155405 +/- 0.041899\n",
      "Energy evaluation 51 returned 0.083527 +/- 0.043919\n",
      "Energy evaluation 52 returned -0.127271 +/- 0.041164\n",
      "Energy evaluation 53 returned -0.174646 +/- 0.039631\n",
      "Energy evaluation 54 returned -0.377339 +/- 0.037152\n",
      "Energy evaluation 55 returned -0.467958 +/- 0.034543\n",
      "Energy evaluation 56 returned -0.615741 +/- 0.038627\n",
      "Energy evaluation 57 returned -0.625216 +/- 0.039814\n",
      "Energy evaluation 58 returned -0.230358 +/- 0.050607\n",
      "Energy evaluation 59 returned -0.122379 +/- 0.036997\n",
      "Energy evaluation 60 returned 0.156666 +/- 0.037590\n",
      "Energy evaluation 61 returned -0.414060 +/- 0.036521\n",
      "Energy evaluation 62 returned -0.012113 +/- 0.040471\n",
      "Energy evaluation 63 returned -0.624848 +/- 0.038690\n",
      "Energy evaluation 64 returned -0.690438 +/- 0.036253\n",
      "Energy evaluation 65 returned -0.724363 +/- 0.038386\n",
      "Energy evaluation 66 returned -0.653552 +/- 0.035411\n",
      "Energy evaluation 67 returned -0.658773 +/- 0.040347\n",
      "Energy evaluation 68 returned -0.755191 +/- 0.036660\n",
      "Energy evaluation 69 returned -0.726668 +/- 0.035553\n",
      "Energy evaluation 70 returned -0.753600 +/- 0.039870\n",
      "Energy evaluation 71 returned -0.711284 +/- 0.035426\n",
      "Energy evaluation 72 returned -0.739286 +/- 0.039132\n",
      "Energy evaluation 73 returned -0.681085 +/- 0.035877\n",
      "Energy evaluation 74 returned -0.624189 +/- 0.042479\n",
      "Energy evaluation 75 returned -0.785873 +/- 0.036848\n",
      "Energy evaluation 76 returned -0.683486 +/- 0.037826\n",
      "Energy evaluation 77 returned -0.694927 +/- 0.036342\n",
      "Energy evaluation 78 returned -0.708381 +/- 0.039542\n",
      "Energy evaluation 79 returned -0.639409 +/- 0.041505\n",
      "Energy evaluation 80 returned -0.646537 +/- 0.036945\n",
      "Energy evaluation 81 returned -0.684011 +/- 0.035156\n",
      "Energy evaluation 82 returned -0.655869 +/- 0.040964\n",
      "Energy evaluation 83 returned -0.585104 +/- 0.038467\n",
      "Energy evaluation 84 returned -0.634539 +/- 0.037878\n",
      "Energy evaluation 85 returned -0.631149 +/- 0.035278\n",
      "Energy evaluation 86 returned -0.712441 +/- 0.039420\n",
      "Energy evaluation 87 returned -0.749238 +/- 0.039364\n",
      "Energy evaluation 88 returned -0.697148 +/- 0.037377\n",
      "Energy evaluation 89 returned -0.692960 +/- 0.038205\n",
      "Energy evaluation 90 returned -0.705223 +/- 0.040230\n",
      "Energy evaluation 91 returned -0.805658 +/- 0.035389\n",
      "Energy evaluation 92 returned -0.634335 +/- 0.042220\n",
      "Energy evaluation 93 returned -0.762863 +/- 0.035189\n",
      "Energy evaluation 94 returned -0.744332 +/- 0.034461\n",
      "Energy evaluation 95 returned -0.741603 +/- 0.038672\n",
      "Energy evaluation 96 returned -0.624002 +/- 0.034856\n",
      "Energy evaluation 97 returned -0.762874 +/- 0.035979\n",
      "Energy evaluation 98 returned -0.686659 +/- 0.039779\n",
      "Energy evaluation 99 returned -0.729481 +/- 0.035942\n",
      "Energy evaluation 100 returned -0.784124 +/- 0.036061\n",
      "Energy evaluation 101 returned -0.691345 +/- 0.039568\n",
      "Energy evaluation 102 returned -0.708620 +/- 0.036801\n",
      "Energy evaluation 103 returned -0.774680 +/- 0.034742\n",
      "Energy evaluation 104 returned -0.716547 +/- 0.037847\n",
      "Energy evaluation 105 returned -0.730398 +/- 0.038130\n",
      "Energy evaluation 106 returned -0.597099 +/- 0.037692\n",
      "Energy evaluation 107 returned -0.704461 +/- 0.037643\n",
      "Energy evaluation 108 returned -0.765997 +/- 0.038429\n",
      "Energy evaluation 109 returned -0.685022 +/- 0.038674\n",
      "Energy evaluation 110 returned -0.732683 +/- 0.038414\n",
      "Energy evaluation 111 returned -0.752330 +/- 0.037980\n",
      "Energy evaluation 112 returned -0.613342 +/- 0.041061\n",
      "Energy evaluation 113 returned -0.756081 +/- 0.034647\n",
      "Energy evaluation 114 returned -0.686596 +/- 0.040908\n",
      "Energy evaluation 115 returned -0.758165 +/- 0.035864\n",
      "Energy evaluation 116 returned -0.678215 +/- 0.035517\n",
      "Energy evaluation 117 returned -0.727868 +/- 0.038337\n",
      "Energy evaluation 118 returned -0.683102 +/- 0.036296\n",
      "Energy evaluation 119 returned -0.739403 +/- 0.034237\n",
      "Energy evaluation 120 returned -0.762803 +/- 0.038967\n",
      "Energy evaluation 121 returned -0.690204 +/- 0.038924\n",
      "Energy evaluation 122 returned -0.737977 +/- 0.035941\n",
      "Energy evaluation 123 returned -0.762018 +/- 0.037418\n",
      "Energy evaluation 124 returned -0.781058 +/- 0.035400\n",
      "Energy evaluation 125 returned -0.702770 +/- 0.038643\n",
      "Energy evaluation 126 returned -0.725308 +/- 0.036346\n",
      "Energy evaluation 127 returned -0.750273 +/- 0.037335\n",
      "Energy evaluation 128 returned -0.801454 +/- 0.035560\n",
      "Energy evaluation 129 returned -0.778817 +/- 0.034576\n",
      "Energy evaluation 130 returned -0.730001 +/- 0.039950\n",
      "Energy evaluation 131 returned -0.693905 +/- 0.034795\n",
      "Energy evaluation 132 returned -0.761992 +/- 0.037229\n",
      "Energy evaluation 133 returned -0.698556 +/- 0.034794\n",
      "Energy evaluation 134 returned -0.767015 +/- 0.038363\n",
      "Energy evaluation 135 returned -0.783691 +/- 0.035487\n",
      "Energy evaluation 136 returned -0.744396 +/- 0.038660\n",
      "Energy evaluation 137 returned -0.779007 +/- 0.035071\n",
      "Energy evaluation 138 returned -0.740446 +/- 0.039495\n",
      "Energy evaluation 139 returned -0.772633 +/- 0.034479\n",
      "Energy evaluation 140 returned -0.704425 +/- 0.037774\n",
      "Energy evaluation 141 returned -0.770009 +/- 0.035711\n",
      "Energy evaluation 142 returned -0.771567 +/- 0.037612\n",
      "Energy evaluation 143 returned -0.799360 +/- 0.036604\n",
      "Energy evaluation 144 returned -0.739391 +/- 0.035049\n",
      "Energy evaluation 145 returned -0.702443 +/- 0.040524\n",
      "Energy evaluation 146 returned -0.755756 +/- 0.033919\n",
      "Energy evaluation 147 returned -0.773923 +/- 0.035415\n",
      "Energy evaluation 148 returned -0.778833 +/- 0.036185\n",
      "Energy evaluation 149 returned -0.726493 +/- 0.035096\n",
      "Energy evaluation 150 returned -0.807980 +/- 0.036202\n",
      "Energy evaluation 151 returned -0.763351 +/- 0.033298\n",
      "Energy evaluation 152 returned -0.719459 +/- 0.038766\n",
      "Energy evaluation 153 returned -0.777628 +/- 0.037462\n",
      "Energy evaluation 154 returned -0.696006 +/- 0.033557\n",
      "Energy evaluation 155 returned -0.780612 +/- 0.036353\n"
     ]
    },
    {
     "name": "stdout",
     "output_type": "stream",
     "text": [
      "Energy evaluation 156 returned -0.680917 +/- 0.038711\n",
      "Energy evaluation 157 returned -0.748757 +/- 0.038936\n",
      "Energy evaluation 158 returned -0.815832 +/- 0.034119\n",
      "Energy evaluation 159 returned -0.722251 +/- 0.039472\n",
      "Energy evaluation 160 returned -0.694896 +/- 0.033746\n",
      "Energy evaluation 161 returned -0.744663 +/- 0.037546\n",
      "Energy evaluation 162 returned -0.699717 +/- 0.035191\n",
      "Energy evaluation 163 returned -0.748107 +/- 0.037936\n",
      "Energy evaluation 164 returned -0.748397 +/- 0.036202\n",
      "Energy evaluation 165 returned -0.743495 +/- 0.034176\n",
      "Energy evaluation 166 returned -0.762062 +/- 0.039260\n",
      "Energy evaluation 167 returned -0.840664 +/- 0.033346\n",
      "Energy evaluation 168 returned -0.722985 +/- 0.040136\n",
      "Energy evaluation 169 returned -0.810749 +/- 0.036403\n",
      "Energy evaluation 170 returned -0.766306 +/- 0.034607\n",
      "Energy evaluation 171 returned -0.834441 +/- 0.034459\n",
      "Energy evaluation 172 returned -0.769758 +/- 0.034279\n",
      "Energy evaluation 173 returned -0.774231 +/- 0.033856\n",
      "Energy evaluation 174 returned -0.754778 +/- 0.037834\n",
      "Energy evaluation 175 returned -0.790492 +/- 0.037510\n",
      "Energy evaluation 176 returned -0.782244 +/- 0.033325\n",
      "Energy evaluation 177 returned -0.779234 +/- 0.036228\n",
      "Energy evaluation 178 returned -0.787853 +/- 0.036298\n",
      "Energy evaluation 179 returned -0.824691 +/- 0.032268\n",
      "Energy evaluation 180 returned -0.793896 +/- 0.037482\n",
      "Energy evaluation 181 returned -0.752377 +/- 0.035724\n",
      "Energy evaluation 182 returned -0.770716 +/- 0.035390\n",
      "Energy evaluation 183 returned -0.710512 +/- 0.038425\n",
      "Energy evaluation 184 returned -0.699752 +/- 0.035558\n",
      "Energy evaluation 185 returned -0.778856 +/- 0.036701\n",
      "Energy evaluation 186 returned -0.764055 +/- 0.034331\n",
      "Energy evaluation 187 returned -0.757585 +/- 0.035957\n",
      "Energy evaluation 188 returned -0.786899 +/- 0.034971\n",
      "Energy evaluation 189 returned -0.648562 +/- 0.040166\n",
      "Energy evaluation 190 returned -0.770345 +/- 0.034471\n",
      "Energy evaluation 191 returned -0.768138 +/- 0.037528\n",
      "Energy evaluation 192 returned -0.580056 +/- 0.035599\n",
      "Energy evaluation 193 returned -0.784328 +/- 0.037816\n",
      "Energy evaluation 194 returned -0.754331 +/- 0.037275\n",
      "Energy evaluation 195 returned -0.832873 +/- 0.034123\n",
      "Energy evaluation 196 returned -0.701573 +/- 0.040408\n",
      "Energy evaluation 197 returned -0.692768 +/- 0.034242\n",
      "Energy evaluation 198 returned -0.804395 +/- 0.037932\n",
      "Energy evaluation 199 returned -0.729600 +/- 0.036594\n",
      "Energy evaluation 200 returned -0.728998 +/- 0.037721\n",
      "Energy evaluation 201 returned -0.710779 +/- 0.037681\n",
      "Energy evaluation 202 returned -0.627256 +/- 0.040786\n",
      "Energy evaluation 203 returned -0.666822 +/- 0.036667\n",
      "Energy evaluation 204 returned -0.640071 +/- 0.040669\n",
      "Energy evaluation 205 returned -0.687365 +/- 0.039876\n",
      "Energy evaluation 206 returned -0.600511 +/- 0.037912\n",
      "Energy evaluation 207 returned -0.581755 +/- 0.042554\n",
      "Energy evaluation 208 returned -0.734580 +/- 0.036272\n",
      "Energy evaluation 209 returned -0.697616 +/- 0.036779\n",
      "Energy evaluation 210 returned -0.705012 +/- 0.036985\n",
      "Energy evaluation 211 returned -0.674985 +/- 0.035868\n",
      "Energy evaluation 212 returned -0.633366 +/- 0.038710\n",
      "Energy evaluation 213 returned -0.752440 +/- 0.033238\n",
      "Energy evaluation 214 returned -0.845438 +/- 0.035782\n",
      "Energy evaluation 215 returned -0.802403 +/- 0.037051\n",
      "Energy evaluation 216 returned -0.818567 +/- 0.033076\n",
      "Energy evaluation 217 returned -0.723865 +/- 0.033855\n",
      "Energy evaluation 218 returned -0.785984 +/- 0.037135\n",
      "Energy evaluation 219 returned -0.801744 +/- 0.037542\n",
      "Energy evaluation 220 returned -0.788021 +/- 0.033134\n",
      "Energy evaluation 221 returned -0.713283 +/- 0.035363\n",
      "Energy evaluation 222 returned -0.783229 +/- 0.037262\n",
      "Energy evaluation 223 returned -0.768762 +/- 0.034691\n",
      "Energy evaluation 224 returned -0.798761 +/- 0.036767\n",
      "Energy evaluation 225 returned -0.787008 +/- 0.035208\n",
      "Energy evaluation 226 returned -0.736551 +/- 0.039126\n",
      "Energy evaluation 227 returned -0.792796 +/- 0.033680\n",
      "Energy evaluation 228 returned -0.714499 +/- 0.039927\n",
      "Energy evaluation 229 returned -0.800804 +/- 0.035420\n",
      "Energy evaluation 230 returned -0.675053 +/- 0.034995\n",
      "Energy evaluation 231 returned -0.766350 +/- 0.037129\n",
      "Energy evaluation 232 returned -0.784003 +/- 0.034491\n",
      "Energy evaluation 233 returned -0.732916 +/- 0.035168\n",
      "Energy evaluation 234 returned -0.787387 +/- 0.036961\n",
      "Energy evaluation 235 returned -0.717213 +/- 0.034502\n",
      "Energy evaluation 236 returned -0.799635 +/- 0.037749\n",
      "Energy evaluation 237 returned -0.806365 +/- 0.034525\n",
      "Energy evaluation 238 returned -0.733779 +/- 0.039917\n",
      "Energy evaluation 239 returned -0.724466 +/- 0.037581\n",
      "Energy evaluation 240 returned -0.757512 +/- 0.034844\n",
      "Energy evaluation 241 returned -0.764598 +/- 0.035267\n",
      "Energy evaluation 242 returned -0.800565 +/- 0.036371\n",
      "Energy evaluation 243 returned -0.749392 +/- 0.038142\n",
      "Energy evaluation 244 returned -0.734576 +/- 0.035313\n",
      "Energy evaluation 245 returned -0.811383 +/- 0.035701\n",
      "Energy evaluation 246 returned -0.822691 +/- 0.034272\n",
      "Energy evaluation 247 returned -0.678571 +/- 0.037202\n",
      "Energy evaluation 248 returned -0.736747 +/- 0.036596\n",
      "Energy evaluation 249 returned -0.781197 +/- 0.035136\n",
      "Energy evaluation 250 returned -0.751098 +/- 0.037358\n",
      "Energy evaluation 251 returned -0.748660 +/- 0.036034\n",
      "Energy evaluation 252 returned -0.768943 +/- 0.035636\n",
      "Energy evaluation 253 returned -0.760689 +/- 0.036234\n",
      "Energy evaluation 254 returned -0.723734 +/- 0.036394\n",
      "Energy evaluation 255 returned -0.768365 +/- 0.036012\n",
      "Energy evaluation 256 returned -0.719993 +/- 0.037624\n",
      "Energy evaluation 257 returned -0.826993 +/- 0.036168\n",
      "Energy evaluation 258 returned -0.791744 +/- 0.034493\n",
      "Energy evaluation 259 returned -0.730635 +/- 0.039338\n",
      "Energy evaluation 260 returned -0.753300 +/- 0.033592\n",
      "Energy evaluation 261 returned -0.821755 +/- 0.035483\n",
      "Energy evaluation 262 returned -0.825042 +/- 0.034514\n",
      "Energy evaluation 263 returned -0.814778 +/- 0.034682\n",
      "Energy evaluation 264 returned -0.809717 +/- 0.036794\n",
      "Energy evaluation 265 returned -0.804279 +/- 0.035375\n",
      "Energy evaluation 266 returned -0.723008 +/- 0.037252\n",
      "Energy evaluation 267 returned -0.797895 +/- 0.033164\n",
      "Energy evaluation 268 returned -0.808768 +/- 0.036292\n",
      "Energy evaluation 269 returned -0.784129 +/- 0.034917\n",
      "Energy evaluation 270 returned -0.691935 +/- 0.037959\n",
      "Energy evaluation 271 returned -0.758149 +/- 0.034023\n",
      "Energy evaluation 272 returned -0.809727 +/- 0.035711\n",
      "Energy evaluation 273 returned -0.707210 +/- 0.034734\n",
      "Energy evaluation 274 returned -0.765458 +/- 0.038913\n",
      "Energy evaluation 275 returned -0.751997 +/- 0.037240\n",
      "Energy evaluation 276 returned -0.716488 +/- 0.036172\n",
      "Energy evaluation 277 returned -0.819251 +/- 0.035784\n",
      "Energy evaluation 278 returned -0.777749 +/- 0.036020\n",
      "Energy evaluation 279 returned -0.720567 +/- 0.036251\n",
      "Energy evaluation 280 returned -0.804093 +/- 0.036030\n",
      "Energy evaluation 281 returned -0.800828 +/- 0.037791\n",
      "Energy evaluation 282 returned -0.740267 +/- 0.033507\n",
      "Energy evaluation 283 returned -0.719435 +/- 0.037688\n",
      "Energy evaluation 284 returned -0.692193 +/- 0.037264\n",
      "Energy evaluation 285 returned -0.764428 +/- 0.036073\n",
      "Energy evaluation 286 returned -0.729364 +/- 0.038489\n",
      "Energy evaluation 287 returned -0.736886 +/- 0.034900\n",
      "Energy evaluation 288 returned -0.818167 +/- 0.037481\n",
      "Energy evaluation 289 returned -0.750925 +/- 0.039512\n",
      "Energy evaluation 290 returned -0.799698 +/- 0.036171\n",
      "Energy evaluation 291 returned -0.741426 +/- 0.036727\n",
      "Energy evaluation 292 returned -0.788690 +/- 0.036921\n",
      "Energy evaluation 293 returned -0.717772 +/- 0.040421\n",
      "Energy evaluation 294 returned -0.673078 +/- 0.035718\n",
      "Energy evaluation 295 returned -0.782255 +/- 0.037263\n",
      "Energy evaluation 296 returned -0.760695 +/- 0.038133\n",
      "Energy evaluation 297 returned -0.745184 +/- 0.036796\n",
      "Energy evaluation 298 returned -0.708241 +/- 0.040712\n",
      "Energy evaluation 299 returned -0.779912 +/- 0.036174\n",
      "Energy evaluation 300 returned -0.737794 +/- 0.038471\n",
      "Energy evaluation 301 returned -0.772732 +/- 0.037678\n",
      "Energy evaluation 302 returned -0.803680 +/- 0.034263\n",
      "Energy evaluation 303 returned -0.766863 +/- 0.038054\n",
      "Energy evaluation 304 returned -0.774826 +/- 0.034691\n",
      "Energy evaluation 305 returned -0.769109 +/- 0.036383\n",
      "Energy evaluation 306 returned -0.706187 +/- 0.037683\n",
      "Energy evaluation 307 returned -0.763151 +/- 0.039121\n"
     ]
    },
    {
     "name": "stdout",
     "output_type": "stream",
     "text": [
      "Energy evaluation 308 returned -0.732035 +/- 0.035237\n",
      "Energy evaluation 309 returned -0.749292 +/- 0.039386\n",
      "Energy evaluation 310 returned -0.770819 +/- 0.035055\n",
      "Energy evaluation 311 returned -0.683766 +/- 0.037844\n",
      "Energy evaluation 312 returned -0.773348 +/- 0.036610\n",
      "Energy evaluation 313 returned -0.786205 +/- 0.037008\n",
      "Energy evaluation 314 returned -0.763149 +/- 0.036815\n",
      "Energy evaluation 315 returned -0.791293 +/- 0.035605\n",
      "Energy evaluation 316 returned -0.757566 +/- 0.037991\n",
      "Energy evaluation 317 returned -0.781920 +/- 0.034718\n",
      "Energy evaluation 318 returned -0.803094 +/- 0.037941\n",
      "Energy evaluation 319 returned -0.745379 +/- 0.037946\n",
      "Energy evaluation 320 returned -0.761852 +/- 0.035051\n",
      "Energy evaluation 321 returned -0.770068 +/- 0.037425\n",
      "Energy evaluation 322 returned -0.770800 +/- 0.034911\n",
      "Energy evaluation 323 returned -0.728968 +/- 0.038700\n",
      "Energy evaluation 324 returned -0.742993 +/- 0.034742\n",
      "Energy evaluation 325 returned -0.744824 +/- 0.037822\n",
      "Energy evaluation 326 returned -0.780762 +/- 0.035022\n",
      "Energy evaluation 327 returned -0.823679 +/- 0.033937\n",
      "Energy evaluation 328 returned -0.825527 +/- 0.037085\n",
      "Energy evaluation 329 returned -0.699761 +/- 0.037158\n",
      "Energy evaluation 330 returned -0.782277 +/- 0.035931\n",
      "Energy evaluation 331 returned -0.805691 +/- 0.036757\n",
      "Energy evaluation 332 returned -0.712899 +/- 0.035317\n",
      "Energy evaluation 333 returned -0.770389 +/- 0.036208\n",
      "Energy evaluation 334 returned -0.787061 +/- 0.036791\n",
      "Energy evaluation 335 returned -0.679204 +/- 0.037466\n",
      "Energy evaluation 336 returned -0.689283 +/- 0.039423\n",
      "Energy evaluation 337 returned -0.779322 +/- 0.036338\n",
      "Energy evaluation 338 returned -0.788998 +/- 0.036502\n",
      "Energy evaluation 339 returned -0.748432 +/- 0.038522\n",
      "Energy evaluation 340 returned -0.719433 +/- 0.034827\n",
      "Energy evaluation 341 returned -0.804727 +/- 0.037951\n",
      "Energy evaluation 342 returned -0.797514 +/- 0.034184\n",
      "Energy evaluation 343 returned -0.706583 +/- 0.039463\n",
      "Energy evaluation 344 returned -0.741496 +/- 0.035477\n",
      "Energy evaluation 345 returned -0.823515 +/- 0.036214\n",
      "Energy evaluation 346 returned -0.789804 +/- 0.036838\n",
      "Energy evaluation 347 returned -0.711678 +/- 0.037629\n",
      "Energy evaluation 348 returned -0.737601 +/- 0.036713\n",
      "Energy evaluation 349 returned -0.839675 +/- 0.035173\n",
      "Energy evaluation 350 returned -0.785243 +/- 0.035640\n",
      "Energy evaluation 351 returned -0.800298 +/- 0.034639\n",
      "Energy evaluation 352 returned -0.711267 +/- 0.039021\n",
      "Energy evaluation 353 returned -0.758760 +/- 0.035831\n",
      "Energy evaluation 354 returned -0.756500 +/- 0.037731\n",
      "Energy evaluation 355 returned -0.746972 +/- 0.039371\n",
      "Energy evaluation 356 returned -0.751417 +/- 0.034759\n",
      "Energy evaluation 357 returned -0.752403 +/- 0.036707\n",
      "Energy evaluation 358 returned -0.824132 +/- 0.035884\n",
      "Energy evaluation 359 returned -0.742754 +/- 0.034646\n",
      "Energy evaluation 360 returned -0.757821 +/- 0.038552\n",
      "Energy evaluation 361 returned -0.748535 +/- 0.039053\n",
      "Energy evaluation 362 returned -0.787876 +/- 0.033862\n",
      "Energy evaluation 363 returned -0.777790 +/- 0.036663\n",
      "Energy evaluation 364 returned -0.759523 +/- 0.036154\n",
      "Energy evaluation 365 returned -0.813951 +/- 0.036295\n",
      "Energy evaluation 366 returned -0.801909 +/- 0.034814\n",
      "Energy evaluation 367 returned -0.663453 +/- 0.035120\n",
      "Energy evaluation 368 returned -0.777888 +/- 0.038186\n",
      "Energy evaluation 369 returned -0.762438 +/- 0.038170\n",
      "Energy evaluation 370 returned -0.733675 +/- 0.036681\n",
      "Energy evaluation 371 returned -0.795373 +/- 0.035863\n",
      "Energy evaluation 372 returned -0.587545 +/- 0.042053\n",
      "Energy evaluation 373 returned -0.748135 +/- 0.035206\n",
      "Energy evaluation 374 returned -0.698873 +/- 0.039267\n",
      "Energy evaluation 375 returned -0.642212 +/- 0.039842\n",
      "Energy evaluation 376 returned -0.668321 +/- 0.037640\n",
      "Energy evaluation 377 returned -0.695389 +/- 0.036926\n",
      "Energy evaluation 378 returned -0.686682 +/- 0.038517\n",
      "Energy evaluation 379 returned -0.595383 +/- 0.037078\n",
      "Energy evaluation 380 returned -0.685198 +/- 0.039307\n",
      "Energy evaluation 381 returned -0.736869 +/- 0.035541\n",
      "Energy evaluation 382 returned -0.603523 +/- 0.039459\n",
      "Energy evaluation 383 returned -0.671318 +/- 0.040697\n",
      "Energy evaluation 384 returned -0.610417 +/- 0.037330\n",
      "Energy evaluation 385 returned -0.627105 +/- 0.036923\n",
      "Energy evaluation 386 returned -0.694673 +/- 0.039782\n",
      "Energy evaluation 387 returned -0.652486 +/- 0.039331\n",
      "Energy evaluation 388 returned -0.686708 +/- 0.038692\n",
      "Energy evaluation 389 returned -0.740751 +/- 0.034527\n",
      "Energy evaluation 390 returned -0.732304 +/- 0.040095\n",
      "Energy evaluation 391 returned -0.770315 +/- 0.036303\n",
      "Energy evaluation 392 returned -0.807441 +/- 0.036491\n",
      "Energy evaluation 393 returned -0.780642 +/- 0.036695\n",
      "Energy evaluation 394 returned -0.751608 +/- 0.037377\n",
      "Energy evaluation 395 returned -0.774001 +/- 0.035502\n",
      "Energy evaluation 396 returned -0.831597 +/- 0.037437\n",
      "Energy evaluation 397 returned -0.736227 +/- 0.036974\n",
      "Energy evaluation 398 returned -0.762386 +/- 0.036950\n",
      "Energy evaluation 399 returned -0.756459 +/- 0.034676\n",
      "Energy evaluation 400 returned -0.734054 +/- 0.040735\n",
      "Energy evaluation 401 returned -0.810462 +/- 0.034538\n",
      "Energy evaluation 402 returned -0.760470 +/- 0.038533\n",
      "Energy evaluation 403 returned -0.820282 +/- 0.037136\n",
      "Energy evaluation 404 returned -0.723168 +/- 0.035558\n",
      "Energy evaluation 405 returned -0.818742 +/- 0.037355\n",
      "Energy evaluation 406 returned -0.780577 +/- 0.035586\n",
      "Energy evaluation 407 returned -0.787105 +/- 0.034356\n",
      "Energy evaluation 408 returned -0.660284 +/- 0.041217\n",
      "Energy evaluation 409 returned -0.753633 +/- 0.034552\n",
      "Energy evaluation 410 returned -0.702218 +/- 0.038191\n",
      "Energy evaluation 411 returned -0.751822 +/- 0.034086\n",
      "Energy evaluation 412 returned -0.770368 +/- 0.038110\n",
      "Energy evaluation 413 returned -0.814412 +/- 0.035651\n",
      "Energy evaluation 414 returned -0.771873 +/- 0.035939\n",
      "Energy evaluation 415 returned -0.724417 +/- 0.037248\n",
      "Energy evaluation 416 returned -0.718624 +/- 0.037869\n",
      "Energy evaluation 417 returned -0.700529 +/- 0.035530\n",
      "Energy evaluation 418 returned -0.797519 +/- 0.037925\n",
      "Energy evaluation 419 returned -0.775400 +/- 0.036858\n",
      "Energy evaluation 420 returned -0.729561 +/- 0.038281\n",
      "Energy evaluation 421 returned -0.708347 +/- 0.039220\n",
      "Energy evaluation 422 returned -0.737064 +/- 0.036804\n",
      "Energy evaluation 423 returned -0.743421 +/- 0.038353\n",
      "Energy evaluation 424 returned -0.710955 +/- 0.035305\n",
      "Energy evaluation 425 returned -0.707629 +/- 0.038688\n",
      "Energy evaluation 426 returned -0.682123 +/- 0.037746\n",
      "Energy evaluation 427 returned -0.758022 +/- 0.038090\n",
      "Energy evaluation 428 returned -0.737816 +/- 0.037805\n",
      "Energy evaluation 429 returned -0.802983 +/- 0.036412\n",
      "Energy evaluation 430 returned -0.773995 +/- 0.037145\n",
      "Energy evaluation 431 returned -0.720580 +/- 0.036206\n",
      "Energy evaluation 432 returned -0.833076 +/- 0.037203\n",
      "Energy evaluation 433 returned -0.803007 +/- 0.037303\n",
      "Energy evaluation 434 returned -0.772322 +/- 0.037255\n",
      "Energy evaluation 435 returned -0.820293 +/- 0.035655\n",
      "Energy evaluation 436 returned -0.724521 +/- 0.038635\n",
      "Energy evaluation 437 returned -0.768334 +/- 0.035387\n",
      "Energy evaluation 438 returned -0.719645 +/- 0.041364\n",
      "Energy evaluation 439 returned -0.815159 +/- 0.037892\n",
      "Energy evaluation 440 returned -0.756458 +/- 0.035926\n",
      "Energy evaluation 441 returned -0.738992 +/- 0.036664\n",
      "Energy evaluation 442 returned -0.776809 +/- 0.038497\n",
      "Energy evaluation 443 returned -0.736692 +/- 0.039802\n",
      "Energy evaluation 444 returned -0.821395 +/- 0.035400\n",
      "Energy evaluation 445 returned -0.709977 +/- 0.040171\n",
      "Energy evaluation 446 returned -0.816045 +/- 0.034349\n",
      "Energy evaluation 447 returned -0.759751 +/- 0.034395\n",
      "Energy evaluation 448 returned -0.762603 +/- 0.037913\n",
      "Energy evaluation 449 returned -0.769303 +/- 0.038148\n",
      "Energy evaluation 450 returned -0.764947 +/- 0.034729\n",
      "Energy evaluation 451 returned -0.786772 +/- 0.037149\n",
      "Energy evaluation 452 returned -0.779110 +/- 0.035303\n",
      "Energy evaluation 453 returned -0.746912 +/- 0.034297\n",
      "Energy evaluation 454 returned -0.702352 +/- 0.039111\n",
      "Energy evaluation 455 returned -0.783319 +/- 0.034547\n",
      "Energy evaluation 456 returned -0.835104 +/- 0.036535\n",
      "Energy evaluation 457 returned -0.700244 +/- 0.039608\n",
      "Energy evaluation 458 returned -0.726582 +/- 0.034631\n",
      "Energy evaluation 459 returned -0.800639 +/- 0.034952\n"
     ]
    },
    {
     "name": "stdout",
     "output_type": "stream",
     "text": [
      "Energy evaluation 460 returned -0.780877 +/- 0.035858\n",
      "Energy evaluation 461 returned -0.760886 +/- 0.037803\n",
      "Energy evaluation 462 returned -0.817227 +/- 0.034340\n",
      "Energy evaluation 463 returned -0.793691 +/- 0.036763\n",
      "Energy evaluation 464 returned -0.681610 +/- 0.035502\n",
      "Energy evaluation 465 returned -0.732541 +/- 0.037813\n",
      "Energy evaluation 466 returned -0.790724 +/- 0.034997\n",
      "Energy evaluation 467 returned -0.775543 +/- 0.035516\n",
      "Energy evaluation 468 returned -0.709463 +/- 0.037432\n",
      "Energy evaluation 469 returned -0.792418 +/- 0.035044\n",
      "Energy evaluation 470 returned -0.748458 +/- 0.036715\n",
      "Energy evaluation 471 returned -0.739997 +/- 0.033707\n",
      "Energy evaluation 472 returned -0.753574 +/- 0.038280\n",
      "Energy evaluation 473 returned -0.756903 +/- 0.036333\n",
      "Energy evaluation 474 returned -0.682731 +/- 0.037133\n",
      "Energy evaluation 475 returned -0.708564 +/- 0.036757\n",
      "Energy evaluation 476 returned -0.710636 +/- 0.037473\n",
      "Energy evaluation 477 returned -0.759272 +/- 0.034754\n",
      "Energy evaluation 478 returned -0.702848 +/- 0.038071\n",
      "Energy evaluation 479 returned -0.841132 +/- 0.033741\n",
      "Energy evaluation 480 returned -0.727754 +/- 0.034286\n",
      "Energy evaluation 481 returned -0.820387 +/- 0.032575\n",
      "Energy evaluation 482 returned -0.810553 +/- 0.035893\n",
      "Energy evaluation 483 returned -0.706145 +/- 0.038550\n",
      "Energy evaluation 484 returned -0.724653 +/- 0.035648\n",
      "Energy evaluation 485 returned -0.759739 +/- 0.035400\n",
      "Energy evaluation 486 returned -0.816825 +/- 0.035609\n",
      "Energy evaluation 487 returned -0.840570 +/- 0.034146\n",
      "Energy evaluation 488 returned -0.794911 +/- 0.035651\n",
      "Energy evaluation 489 returned -0.750883 +/- 0.038623\n",
      "Energy evaluation 490 returned -0.761706 +/- 0.033984\n",
      "Energy evaluation 491 returned -0.715391 +/- 0.034968\n",
      "Energy evaluation 492 returned -0.838900 +/- 0.036159\n",
      "Energy evaluation 493 returned -0.836477 +/- 0.038033\n",
      "Energy evaluation 494 returned -0.831121 +/- 0.033323\n",
      "Energy evaluation 495 returned -0.819643 +/- 0.037209\n",
      "Energy evaluation 496 returned -0.755321 +/- 0.035810\n",
      "Energy evaluation 497 returned -0.818081 +/- 0.034937\n",
      "Energy evaluation 498 returned -0.763118 +/- 0.038175\n",
      "Energy evaluation 499 returned -0.724409 +/- 0.035183\n",
      "Energy evaluation 500 returned -0.736930 +/- 0.040065\n",
      "Energy evaluation 501 returned -0.822708 +/- 0.035873\n",
      "Energy evaluation 502 returned -0.674740 +/- 0.036897\n",
      "Energy evaluation 503 returned -0.751997 +/- 0.035771\n",
      "Energy evaluation 504 returned -0.773776 +/- 0.037656\n",
      "Energy evaluation 505 returned -0.716386 +/- 0.040749\n",
      "Energy evaluation 506 returned -0.788814 +/- 0.034368\n",
      "Energy evaluation 507 returned -0.740567 +/- 0.036248\n",
      "Energy evaluation 508 returned -0.821886 +/- 0.036374\n",
      "Energy evaluation 509 returned -0.794582 +/- 0.035008\n",
      "Energy evaluation 510 returned -0.814235 +/- 0.038218\n",
      "Energy evaluation 511 returned -0.773749 +/- 0.035361\n",
      "Energy evaluation 512 returned -0.707676 +/- 0.038816\n",
      "Energy evaluation 513 returned -0.765151 +/- 0.037066\n",
      "Energy evaluation 514 returned -0.764335 +/- 0.036120\n",
      "Energy evaluation 515 returned -0.674302 +/- 0.038417\n",
      "Energy evaluation 516 returned -0.748873 +/- 0.035505\n",
      "Energy evaluation 517 returned -0.738625 +/- 0.035040\n",
      "Energy evaluation 518 returned -0.653466 +/- 0.040392\n",
      "Energy evaluation 519 returned -0.817489 +/- 0.033687\n",
      "Energy evaluation 520 returned -0.767905 +/- 0.036817\n",
      "Energy evaluation 521 returned -0.735533 +/- 0.035917\n",
      "Energy evaluation 522 returned -0.798668 +/- 0.035747\n",
      "Energy evaluation 523 returned -0.740219 +/- 0.038219\n",
      "Energy evaluation 524 returned -0.760964 +/- 0.034653\n",
      "Energy evaluation 525 returned -0.756742 +/- 0.035603\n",
      "Energy evaluation 526 returned -0.778223 +/- 0.034721\n",
      "Energy evaluation 527 returned -0.835240 +/- 0.035744\n",
      "Energy evaluation 528 returned -0.779301 +/- 0.033508\n",
      "Energy evaluation 529 returned -0.762832 +/- 0.035081\n",
      "Energy evaluation 530 returned -0.785649 +/- 0.036274\n",
      "Energy evaluation 531 returned -0.737902 +/- 0.038485\n",
      "Energy evaluation 532 returned -0.786796 +/- 0.033886\n",
      "Energy evaluation 533 returned -0.766352 +/- 0.036561\n",
      "Energy evaluation 534 returned -0.793226 +/- 0.034496\n",
      "Energy evaluation 535 returned -0.699101 +/- 0.035687\n",
      "Energy evaluation 536 returned -0.786069 +/- 0.036235\n",
      "Energy evaluation 537 returned -0.774777 +/- 0.036277\n",
      "Energy evaluation 538 returned -0.788062 +/- 0.035472\n",
      "Energy evaluation 539 returned -0.804726 +/- 0.033692\n",
      "Energy evaluation 540 returned -0.808131 +/- 0.035948\n",
      "Energy evaluation 541 returned -0.766641 +/- 0.034509\n",
      "Energy evaluation 542 returned -0.733409 +/- 0.036338\n",
      "Energy evaluation 543 returned -0.730955 +/- 0.038609\n",
      "Energy evaluation 544 returned -0.739653 +/- 0.034256\n",
      "Energy evaluation 545 returned -0.798791 +/- 0.036440\n",
      "Energy evaluation 546 returned -0.789902 +/- 0.033942\n",
      "Energy evaluation 547 returned -0.786653 +/- 0.033876\n",
      "Energy evaluation 548 returned -0.742137 +/- 0.037602\n",
      "Energy evaluation 549 returned -0.812827 +/- 0.036794\n",
      "Energy evaluation 550 returned -0.743415 +/- 0.034548\n",
      "Energy evaluation 551 returned -0.757279 +/- 0.035795\n",
      "Energy evaluation 552 returned -0.757756 +/- 0.035954\n",
      "Energy evaluation 553 returned -0.810238 +/- 0.034866\n",
      "Energy evaluation 554 returned -0.765051 +/- 0.035914\n",
      "Energy evaluation 555 returned -0.778067 +/- 0.034946\n",
      "Energy evaluation 556 returned -0.829938 +/- 0.035578\n",
      "Energy evaluation 557 returned -0.822932 +/- 0.035655\n",
      "Energy evaluation 558 returned -0.806946 +/- 0.035373\n",
      "Energy evaluation 559 returned -0.771966 +/- 0.036375\n",
      "Energy evaluation 560 returned -0.773713 +/- 0.034415\n",
      "Energy evaluation 561 returned -0.795266 +/- 0.037182\n",
      "Energy evaluation 562 returned -0.730185 +/- 0.034900\n",
      "Energy evaluation 563 returned -0.809402 +/- 0.036302\n",
      "Energy evaluation 564 returned -0.746358 +/- 0.034804\n",
      "Energy evaluation 565 returned -0.796964 +/- 0.034321\n",
      "Energy evaluation 566 returned -0.778937 +/- 0.037484\n",
      "Energy evaluation 567 returned -0.741315 +/- 0.037303\n",
      "Energy evaluation 568 returned -0.753896 +/- 0.036624\n",
      "Energy evaluation 569 returned -0.710461 +/- 0.038284\n",
      "Energy evaluation 570 returned -0.766960 +/- 0.035094\n",
      "Energy evaluation 571 returned -0.788353 +/- 0.037025\n",
      "Energy evaluation 572 returned -0.846156 +/- 0.034515\n",
      "Energy evaluation 573 returned -0.757075 +/- 0.034391\n",
      "Energy evaluation 574 returned -0.785740 +/- 0.037044\n",
      "Energy evaluation 575 returned -0.743387 +/- 0.034282\n",
      "Energy evaluation 576 returned -0.718359 +/- 0.038898\n",
      "Energy evaluation 577 returned -0.765226 +/- 0.036362\n",
      "Energy evaluation 578 returned -0.747899 +/- 0.035515\n",
      "Energy evaluation 579 returned -0.746675 +/- 0.035108\n",
      "Energy evaluation 580 returned -0.789226 +/- 0.035830\n",
      "Energy evaluation 581 returned -0.780279 +/- 0.036582\n",
      "Energy evaluation 582 returned -0.776693 +/- 0.034904\n",
      "Energy evaluation 583 returned -0.782108 +/- 0.033995\n",
      "Energy evaluation 584 returned -0.853194 +/- 0.035338\n",
      "Energy evaluation 585 returned -0.799444 +/- 0.033398\n",
      "Energy evaluation 586 returned -0.798064 +/- 0.037345\n",
      "Energy evaluation 587 returned -0.787656 +/- 0.037703\n",
      "Energy evaluation 588 returned -0.735721 +/- 0.033735\n",
      "Energy evaluation 589 returned -0.719852 +/- 0.037440\n",
      "Energy evaluation 590 returned -0.741424 +/- 0.036702\n",
      "Energy evaluation 591 returned -0.846457 +/- 0.032986\n",
      "Energy evaluation 592 returned -0.742522 +/- 0.039402\n",
      "Energy evaluation 593 returned -0.834968 +/- 0.034252\n",
      "Energy evaluation 594 returned -0.767693 +/- 0.037930\n",
      "Energy evaluation 595 returned -0.766959 +/- 0.035019\n",
      "Energy evaluation 596 returned -0.801065 +/- 0.035856\n",
      "Energy evaluation 597 returned -0.828239 +/- 0.034582\n",
      "Energy evaluation 598 returned -0.774831 +/- 0.035798\n",
      "Energy evaluation 599 returned -0.742183 +/- 0.034645\n",
      "Energy evaluation 600 returned -0.756141 +/- 0.036491\n",
      "Energy evaluation 601 returned -0.736580 +/- 0.035149\n",
      "Energy evaluation 602 returned -0.704424 +/- 0.037529\n",
      "Energy evaluation 603 returned -0.773547 +/- 0.033572\n",
      "Energy evaluation 604 returned -0.684838 +/- 0.038594\n",
      "Energy evaluation 605 returned -0.784640 +/- 0.035106\n",
      "Energy evaluation 606 returned -0.755995 +/- 0.034824\n",
      "Energy evaluation 607 returned -0.727030 +/- 0.037345\n",
      "Energy evaluation 608 returned -0.764988 +/- 0.034560\n",
      "Energy evaluation 609 returned -0.759387 +/- 0.034209\n",
      "Energy evaluation 610 returned -0.747624 +/- 0.037588\n",
      "Energy evaluation 611 returned -0.785186 +/- 0.034153\n"
     ]
    },
    {
     "name": "stdout",
     "output_type": "stream",
     "text": [
      "Energy evaluation 612 returned -0.722476 +/- 0.035704\n",
      "Energy evaluation 613 returned -0.769072 +/- 0.035726\n",
      "Energy evaluation 614 returned -0.813075 +/- 0.033458\n",
      "Energy evaluation 615 returned -0.756188 +/- 0.033929\n",
      "Energy evaluation 616 returned -0.786416 +/- 0.035454\n",
      "Energy evaluation 617 returned -0.697554 +/- 0.033485\n",
      "Energy evaluation 618 returned -0.813268 +/- 0.035886\n",
      "Energy evaluation 619 returned -0.768572 +/- 0.035394\n",
      "Energy evaluation 620 returned -0.781765 +/- 0.035785\n",
      "Energy evaluation 621 returned -0.738449 +/- 0.034013\n",
      "Energy evaluation 622 returned -0.785912 +/- 0.037491\n",
      "Energy evaluation 623 returned -0.747962 +/- 0.036564\n",
      "Energy evaluation 624 returned -0.810583 +/- 0.035520\n",
      "Energy evaluation 625 returned -0.806985 +/- 0.032536\n",
      "Energy evaluation 626 returned -0.716514 +/- 0.038787\n",
      "Energy evaluation 627 returned -0.773018 +/- 0.033947\n",
      "Energy evaluation 628 returned -0.770981 +/- 0.037195\n",
      "Energy evaluation 629 returned -0.777155 +/- 0.036186\n",
      "Energy evaluation 630 returned -0.756168 +/- 0.033661\n",
      "Energy evaluation 631 returned -0.791773 +/- 0.034249\n",
      "Energy evaluation 632 returned -0.763491 +/- 0.035273\n",
      "Energy evaluation 633 returned -0.771514 +/- 0.033383\n",
      "Energy evaluation 634 returned -0.783335 +/- 0.037593\n",
      "Energy evaluation 635 returned -0.799722 +/- 0.036484\n",
      "Energy evaluation 636 returned -0.770302 +/- 0.034188\n",
      "Energy evaluation 637 returned -0.796997 +/- 0.033002\n",
      "Energy evaluation 638 returned -0.818046 +/- 0.036254\n",
      "Energy evaluation 639 returned -0.829283 +/- 0.035503\n",
      "Energy evaluation 640 returned -0.757752 +/- 0.034741\n",
      "Energy evaluation 641 returned -0.808444 +/- 0.035167\n",
      "Energy evaluation 642 returned -0.722571 +/- 0.037126\n",
      "Energy evaluation 643 returned -0.810719 +/- 0.033271\n",
      "Energy evaluation 644 returned -0.865139 +/- 0.034341\n",
      "Energy evaluation 645 returned -0.809755 +/- 0.032902\n",
      "Energy evaluation 646 returned -0.755390 +/- 0.038667\n",
      "Energy evaluation 647 returned -0.814239 +/- 0.035213\n",
      "Energy evaluation 648 returned -0.752004 +/- 0.034845\n",
      "Energy evaluation 649 returned -0.788925 +/- 0.035055\n",
      "Energy evaluation 650 returned -0.730461 +/- 0.036366\n",
      "Energy evaluation 651 returned -0.827104 +/- 0.036103\n",
      "Energy evaluation 652 returned -0.823572 +/- 0.032937\n",
      "Energy evaluation 653 returned -0.782093 +/- 0.038775\n",
      "Energy evaluation 654 returned -0.760410 +/- 0.032412\n",
      "Energy evaluation 655 returned -0.688296 +/- 0.039509\n",
      "Energy evaluation 656 returned -0.824372 +/- 0.033199\n",
      "Energy evaluation 657 returned -0.742096 +/- 0.035759\n",
      "Energy evaluation 658 returned -0.822182 +/- 0.033984\n",
      "Energy evaluation 659 returned -0.754590 +/- 0.032500\n",
      "Energy evaluation 660 returned -0.801866 +/- 0.037497\n",
      "Energy evaluation 661 returned -0.735048 +/- 0.036425\n",
      "Energy evaluation 662 returned -0.714663 +/- 0.033677\n",
      "Energy evaluation 663 returned -0.795233 +/- 0.033331\n",
      "Energy evaluation 664 returned -0.744315 +/- 0.038138\n",
      "Energy evaluation 665 returned -0.750844 +/- 0.035987\n",
      "Energy evaluation 666 returned -0.764220 +/- 0.035251\n",
      "Energy evaluation 667 returned -0.810027 +/- 0.035644\n",
      "Energy evaluation 668 returned -0.803853 +/- 0.032460\n",
      "Energy evaluation 669 returned -0.800068 +/- 0.035526\n",
      "Energy evaluation 670 returned -0.829971 +/- 0.033314\n",
      "Energy evaluation 671 returned -0.809610 +/- 0.034852\n",
      "Energy evaluation 672 returned -0.751570 +/- 0.034319\n",
      "Energy evaluation 673 returned -0.731609 +/- 0.036046\n",
      "Energy evaluation 674 returned -0.746841 +/- 0.034371\n",
      "Energy evaluation 675 returned -0.805109 +/- 0.033275\n",
      "Energy evaluation 676 returned -0.773541 +/- 0.038084\n",
      "Energy evaluation 677 returned -0.713793 +/- 0.034079\n",
      "Energy evaluation 678 returned -0.783902 +/- 0.035488\n",
      "Energy evaluation 679 returned -0.634782 +/- 0.039338\n",
      "Energy evaluation 680 returned -0.814627 +/- 0.032932\n",
      "Energy evaluation 681 returned -0.757175 +/- 0.035685\n",
      "Energy evaluation 682 returned -0.692333 +/- 0.034266\n",
      "Energy evaluation 683 returned -0.757698 +/- 0.033061\n",
      "Energy evaluation 684 returned -0.780393 +/- 0.036635\n",
      "Energy evaluation 685 returned -0.778559 +/- 0.034601\n",
      "Energy evaluation 686 returned -0.746919 +/- 0.034687\n",
      "Energy evaluation 687 returned -0.762699 +/- 0.033017\n",
      "Energy evaluation 688 returned -0.771885 +/- 0.037644\n",
      "Energy evaluation 689 returned -0.771707 +/- 0.034839\n",
      "Energy evaluation 690 returned -0.817104 +/- 0.034017\n",
      "Energy evaluation 691 returned -0.831179 +/- 0.034757\n",
      "Energy evaluation 692 returned -0.766215 +/- 0.033694\n",
      "Energy evaluation 693 returned -0.769692 +/- 0.033982\n",
      "Energy evaluation 694 returned -0.761259 +/- 0.035559\n",
      "Energy evaluation 695 returned -0.746056 +/- 0.037415\n",
      "Energy evaluation 696 returned -0.731905 +/- 0.034544\n",
      "Energy evaluation 697 returned -0.781166 +/- 0.034712\n",
      "Energy evaluation 698 returned -0.793366 +/- 0.034755\n",
      "Energy evaluation 699 returned -0.754895 +/- 0.034176\n",
      "Energy evaluation 700 returned -0.788358 +/- 0.035272\n",
      "Energy evaluation 701 returned -0.777642 +/- 0.032560\n"
     ]
    },
    {
     "name": "stderr",
     "output_type": "stream",
     "text": [
      "FAILURE: job id: 5e362cef09cad5001857fac7, status: 'FAIL_TO_GET_STATUS' Terra job error: '\"HTTPSConnectionPool(host=\\'api.quantum-computing.ibm.com\\', port=443): Max retries exceeded with url: /api/Network/ibm-q/Groups/open/Projects/main/Jobs/5e362cef09cad5001857fac7/status (Caused by NewConnectionError(\\'<urllib3.connection.VerifiedHTTPSConnection object at 0x1324f2ef0>: Failed to establish a new connection: [Errno 8] nodename nor servname provided, or not known\\',))\"'\n"
     ]
    },
    {
     "name": "stdout",
     "output_type": "stream",
     "text": [
      "Energy evaluation 702 returned -0.778591 +/- 0.036960\n",
      "Energy evaluation 703 returned -0.711990 +/- 0.036936\n",
      "Energy evaluation 704 returned -0.724296 +/- 0.033032\n",
      "Energy evaluation 705 returned -0.746744 +/- 0.038529\n",
      "Energy evaluation 706 returned -0.724685 +/- 0.033254\n",
      "Energy evaluation 707 returned -0.776120 +/- 0.038309\n",
      "Energy evaluation 708 returned -0.820981 +/- 0.032245\n",
      "Energy evaluation 709 returned -0.753887 +/- 0.034745\n",
      "Energy evaluation 710 returned -0.833277 +/- 0.034619\n",
      "Energy evaluation 711 returned -0.706697 +/- 0.036531\n",
      "Energy evaluation 712 returned -0.792527 +/- 0.034134\n",
      "Energy evaluation 713 returned -0.806514 +/- 0.035163\n",
      "Energy evaluation 714 returned -0.815250 +/- 0.035236\n",
      "Energy evaluation 715 returned -0.822883 +/- 0.034713\n",
      "Energy evaluation 716 returned -0.790932 +/- 0.033842\n",
      "Energy evaluation 717 returned -0.738124 +/- 0.034712\n",
      "Energy evaluation 718 returned -0.806320 +/- 0.035224\n",
      "Energy evaluation 719 returned -0.737009 +/- 0.034190\n",
      "Energy evaluation 720 returned -0.799887 +/- 0.035399\n",
      "Energy evaluation 721 returned -0.786673 +/- 0.033473\n",
      "Energy evaluation 722 returned -0.725549 +/- 0.037502\n",
      "Energy evaluation 723 returned -0.781212 +/- 0.036524\n",
      "Energy evaluation 724 returned -0.811666 +/- 0.033407\n",
      "Energy evaluation 725 returned -0.711757 +/- 0.037294\n",
      "Energy evaluation 726 returned -0.786725 +/- 0.034570\n",
      "Energy evaluation 727 returned -0.683177 +/- 0.033408\n",
      "Energy evaluation 728 returned -0.761672 +/- 0.036898\n",
      "Energy evaluation 729 returned -0.777065 +/- 0.034459\n",
      "Energy evaluation 730 returned -0.748081 +/- 0.035234\n",
      "Energy evaluation 731 returned -0.760116 +/- 0.035121\n",
      "Energy evaluation 732 returned -0.847642 +/- 0.033690\n",
      "Energy evaluation 733 returned -0.803991 +/- 0.035345\n",
      "Energy evaluation 734 returned -0.749516 +/- 0.034360\n",
      "Energy evaluation 735 returned -0.800048 +/- 0.033531\n",
      "Energy evaluation 736 returned -0.786300 +/- 0.035390\n",
      "Energy evaluation 737 returned -0.780533 +/- 0.036566\n",
      "Energy evaluation 738 returned -0.743843 +/- 0.034036\n",
      "Energy evaluation 739 returned -0.741304 +/- 0.035237\n",
      "Energy evaluation 740 returned -0.675708 +/- 0.036939\n",
      "Energy evaluation 741 returned -0.731646 +/- 0.034869\n",
      "Energy evaluation 742 returned -0.790548 +/- 0.036042\n",
      "Energy evaluation 743 returned -0.731258 +/- 0.035225\n",
      "Energy evaluation 744 returned -0.698564 +/- 0.036365\n",
      "Energy evaluation 745 returned -0.766456 +/- 0.031991\n",
      "Energy evaluation 746 returned -0.743617 +/- 0.037141\n",
      "Energy evaluation 747 returned -0.718002 +/- 0.037097\n",
      "Energy evaluation 748 returned -0.710766 +/- 0.035602\n",
      "Energy evaluation 749 returned -0.771788 +/- 0.036388\n",
      "Energy evaluation 750 returned -0.761346 +/- 0.033865\n",
      "Energy evaluation 751 returned -0.765483 +/- 0.034719\n",
      "Energy evaluation 752 returned -0.788044 +/- 0.037137\n",
      "Energy evaluation 753 returned -0.769509 +/- 0.034070\n",
      "Energy evaluation 754 returned -0.775406 +/- 0.036659\n",
      "Energy evaluation 755 returned -0.756462 +/- 0.034698\n",
      "Energy evaluation 756 returned -0.780107 +/- 0.036886\n",
      "Energy evaluation 757 returned -0.731369 +/- 0.033330\n",
      "Energy evaluation 758 returned -0.668203 +/- 0.040021\n",
      "Energy evaluation 759 returned -0.723010 +/- 0.036866\n",
      "Energy evaluation 760 returned -0.681837 +/- 0.035821\n",
      "Energy evaluation 761 returned -0.717136 +/- 0.035331\n",
      "Energy evaluation 762 returned -0.789255 +/- 0.034905\n",
      "Energy evaluation 763 returned -0.822420 +/- 0.034895\n",
      "Energy evaluation 764 returned -0.745385 +/- 0.034753\n",
      "Energy evaluation 765 returned -0.744417 +/- 0.035363\n",
      "Energy evaluation 766 returned -0.813592 +/- 0.033500\n",
      "Energy evaluation 767 returned -0.853234 +/- 0.035388\n",
      "Energy evaluation 768 returned -0.727360 +/- 0.033319\n",
      "Energy evaluation 769 returned -0.760350 +/- 0.036112\n",
      "Energy evaluation 770 returned -0.819069 +/- 0.033333\n",
      "Energy evaluation 771 returned -0.773818 +/- 0.036825\n",
      "Energy evaluation 772 returned -0.839659 +/- 0.033524\n",
      "Energy evaluation 773 returned -0.784089 +/- 0.034047\n",
      "Energy evaluation 774 returned -0.713553 +/- 0.038453\n",
      "Energy evaluation 775 returned -0.796161 +/- 0.033116\n",
      "Energy evaluation 776 returned -0.799729 +/- 0.038303\n",
      "Energy evaluation 777 returned -0.786955 +/- 0.034106\n",
      "Energy evaluation 778 returned -0.761387 +/- 0.036175\n",
      "Energy evaluation 779 returned -0.760516 +/- 0.036344\n",
      "Energy evaluation 780 returned -0.745888 +/- 0.034207\n",
      "Energy evaluation 781 returned -0.776037 +/- 0.036017\n",
      "Energy evaluation 782 returned -0.775784 +/- 0.033900\n",
      "Energy evaluation 783 returned -0.786094 +/- 0.036831\n",
      "Energy evaluation 784 returned -0.820011 +/- 0.031344\n",
      "Energy evaluation 785 returned -0.775527 +/- 0.034815\n",
      "Energy evaluation 786 returned -0.810927 +/- 0.033558\n",
      "Energy evaluation 787 returned -0.778023 +/- 0.035968\n",
      "Energy evaluation 788 returned -0.751192 +/- 0.034466\n",
      "Energy evaluation 789 returned -0.771061 +/- 0.033903\n",
      "Energy evaluation 790 returned -0.787235 +/- 0.035778\n",
      "Energy evaluation 791 returned -0.732180 +/- 0.033786\n",
      "Energy evaluation 792 returned -0.757853 +/- 0.036485\n",
      "Energy evaluation 793 returned -0.751808 +/- 0.037150\n",
      "Energy evaluation 794 returned -0.727903 +/- 0.033755\n",
      "Energy evaluation 795 returned -0.768899 +/- 0.036894\n",
      "Energy evaluation 796 returned -0.721440 +/- 0.035352\n",
      "Energy evaluation 797 returned -0.759360 +/- 0.036335\n",
      "Energy evaluation 798 returned -0.790881 +/- 0.034036\n",
      "Energy evaluation 799 returned -0.765322 +/- 0.034147\n",
      "Energy evaluation 800 returned -0.705842 +/- 0.036719\n",
      "Energy evaluation 801 returned -0.804629 +/- 0.035531\n",
      "Energy evaluation 802 returned -0.782710 +/- 0.033767\n",
      "Energy evaluation 803 returned -0.733701 +/- 0.037597\n",
      "Energy evaluation 804 returned -0.853911 +/- 0.033148\n",
      "Energy evaluation 805 returned -0.737732 +/- 0.036102\n",
      "Energy evaluation 806 returned -0.797287 +/- 0.033472\n",
      "Energy evaluation 807 returned -0.728228 +/- 0.036499\n",
      "Energy evaluation 808 returned -0.725220 +/- 0.035008\n",
      "Energy evaluation 809 returned -0.812570 +/- 0.036333\n",
      "Energy evaluation 810 returned -0.718296 +/- 0.032707\n",
      "Energy evaluation 811 returned -0.751068 +/- 0.033728\n",
      "Energy evaluation 812 returned -0.800177 +/- 0.036011\n",
      "Energy evaluation 813 returned -0.761902 +/- 0.035365\n",
      "Energy evaluation 814 returned -0.789778 +/- 0.035971\n",
      "Energy evaluation 815 returned -0.716764 +/- 0.038522\n",
      "Energy evaluation 816 returned -0.762442 +/- 0.032930\n",
      "Energy evaluation 817 returned -0.719661 +/- 0.037067\n",
      "Energy evaluation 818 returned -0.715061 +/- 0.034569\n",
      "Energy evaluation 819 returned -0.725213 +/- 0.036094\n",
      "Energy evaluation 820 returned -0.809621 +/- 0.035604\n",
      "Energy evaluation 821 returned -0.810204 +/- 0.032424\n",
      "Energy evaluation 822 returned -0.790332 +/- 0.035281\n",
      "Energy evaluation 823 returned -0.756541 +/- 0.036255\n",
      "Energy evaluation 824 returned -0.706135 +/- 0.035353\n",
      "Energy evaluation 825 returned -0.763261 +/- 0.035646\n",
      "Energy evaluation 826 returned -0.696427 +/- 0.037006\n",
      "Energy evaluation 827 returned -0.776087 +/- 0.035709\n",
      "Energy evaluation 828 returned -0.783378 +/- 0.035993\n",
      "Energy evaluation 829 returned -0.746577 +/- 0.034745\n",
      "Energy evaluation 830 returned -0.810999 +/- 0.035116\n",
      "Energy evaluation 831 returned -0.731034 +/- 0.033247\n",
      "Energy evaluation 832 returned -0.746278 +/- 0.038099\n",
      "Energy evaluation 833 returned -0.729823 +/- 0.034178\n",
      "Energy evaluation 834 returned -0.723673 +/- 0.038184\n",
      "Energy evaluation 835 returned -0.810240 +/- 0.035627\n",
      "Energy evaluation 836 returned -0.790397 +/- 0.035370\n",
      "Energy evaluation 837 returned -0.744543 +/- 0.033626\n",
      "Energy evaluation 838 returned -0.730001 +/- 0.038352\n",
      "Energy evaluation 839 returned -0.797332 +/- 0.034912\n",
      "Energy evaluation 840 returned -0.761258 +/- 0.035473\n",
      "Energy evaluation 841 returned -0.769641 +/- 0.037498\n",
      "Energy evaluation 842 returned -0.715570 +/- 0.034392\n",
      "Energy evaluation 843 returned -0.821524 +/- 0.034670\n",
      "Energy evaluation 844 returned -0.706321 +/- 0.035857\n",
      "Energy evaluation 845 returned -0.812916 +/- 0.033459\n",
      "Energy evaluation 846 returned -0.764918 +/- 0.037648\n",
      "Energy evaluation 847 returned -0.735341 +/- 0.035954\n",
      "Energy evaluation 848 returned -0.756902 +/- 0.035072\n",
      "Energy evaluation 849 returned -0.715539 +/- 0.037766\n",
      "Energy evaluation 850 returned -0.757398 +/- 0.033647\n",
      "Energy evaluation 851 returned -0.775745 +/- 0.036038\n",
      "Energy evaluation 852 returned -0.728497 +/- 0.035216\n",
      "Energy evaluation 853 returned -0.730746 +/- 0.036365\n"
     ]
    },
    {
     "name": "stdout",
     "output_type": "stream",
     "text": [
      "Energy evaluation 854 returned -0.768332 +/- 0.034586\n",
      "Energy evaluation 855 returned -0.754864 +/- 0.034476\n",
      "Energy evaluation 856 returned -0.792201 +/- 0.036312\n",
      "Energy evaluation 857 returned -0.732692 +/- 0.033929\n",
      "Energy evaluation 858 returned -0.767906 +/- 0.036193\n",
      "Energy evaluation 859 returned -0.787913 +/- 0.033443\n",
      "Energy evaluation 860 returned -0.776091 +/- 0.038226\n",
      "Energy evaluation 861 returned -0.707349 +/- 0.033905\n",
      "Energy evaluation 862 returned -0.714081 +/- 0.037935\n",
      "Energy evaluation 863 returned -0.720205 +/- 0.036198\n",
      "Energy evaluation 864 returned -0.840149 +/- 0.033405\n",
      "Energy evaluation 865 returned -0.791214 +/- 0.033896\n",
      "Energy evaluation 866 returned -0.723313 +/- 0.037161\n",
      "Energy evaluation 867 returned -0.726623 +/- 0.035987\n",
      "Energy evaluation 868 returned -0.745297 +/- 0.037197\n",
      "Energy evaluation 869 returned -0.741967 +/- 0.034236\n",
      "Energy evaluation 870 returned -0.761832 +/- 0.037025\n",
      "Energy evaluation 871 returned -0.740591 +/- 0.034134\n",
      "Energy evaluation 872 returned -0.744514 +/- 0.037242\n",
      "Energy evaluation 873 returned -0.712137 +/- 0.035854\n",
      "Energy evaluation 874 returned -0.728907 +/- 0.035464\n",
      "Energy evaluation 875 returned -0.773048 +/- 0.037243\n",
      "Energy evaluation 876 returned -0.742837 +/- 0.032999\n",
      "Energy evaluation 877 returned -0.814077 +/- 0.035690\n",
      "Energy evaluation 878 returned -0.806742 +/- 0.034733\n",
      "Energy evaluation 879 returned -0.751170 +/- 0.036659\n",
      "Energy evaluation 880 returned -0.742675 +/- 0.033632\n",
      "Energy evaluation 881 returned -0.746426 +/- 0.035613\n",
      "Energy evaluation 882 returned -0.770976 +/- 0.035859\n",
      "Energy evaluation 883 returned -0.758492 +/- 0.034188\n",
      "Energy evaluation 884 returned -0.773212 +/- 0.036612\n",
      "Energy evaluation 885 returned -0.799405 +/- 0.034946\n",
      "Energy evaluation 886 returned -0.765504 +/- 0.036414\n",
      "Energy evaluation 887 returned -0.750482 +/- 0.037569\n",
      "Energy evaluation 888 returned -0.772341 +/- 0.033143\n",
      "Energy evaluation 889 returned -0.724500 +/- 0.036151\n",
      "Energy evaluation 890 returned -0.798137 +/- 0.033828\n",
      "Energy evaluation 891 returned -0.781783 +/- 0.037451\n",
      "Energy evaluation 892 returned -0.729181 +/- 0.033760\n",
      "Energy evaluation 893 returned -0.758048 +/- 0.036858\n",
      "Energy evaluation 894 returned -0.759197 +/- 0.033456\n",
      "Energy evaluation 895 returned -0.783902 +/- 0.037441\n",
      "Energy evaluation 896 returned -0.728805 +/- 0.034015\n",
      "Energy evaluation 897 returned -0.750589 +/- 0.034076\n",
      "Energy evaluation 898 returned -0.728314 +/- 0.037807\n",
      "Energy evaluation 899 returned -0.707569 +/- 0.036139\n",
      "Energy evaluation 900 returned -0.800682 +/- 0.035508\n",
      "Energy evaluation 901 returned -0.785869 +/- 0.036299\n",
      "Energy evaluation 902 returned -0.796193 +/- 0.034541\n",
      "Energy evaluation 903 returned -0.786031 +/- 0.032958\n",
      "Energy evaluation 904 returned -0.751606 +/- 0.037757\n",
      "Energy evaluation 905 returned -0.793663 +/- 0.036821\n",
      "Energy evaluation 906 returned -0.792930 +/- 0.033957\n",
      "Energy evaluation 907 returned -0.812541 +/- 0.035456\n",
      "Energy evaluation 908 returned -0.727307 +/- 0.035080\n",
      "Energy evaluation 909 returned -0.802518 +/- 0.034681\n",
      "Energy evaluation 910 returned -0.744842 +/- 0.036641\n",
      "Energy evaluation 911 returned -0.805799 +/- 0.034807\n",
      "Energy evaluation 912 returned -0.789704 +/- 0.034573\n",
      "Energy evaluation 913 returned -0.735730 +/- 0.038864\n",
      "Energy evaluation 914 returned -0.780597 +/- 0.033437\n",
      "Energy evaluation 915 returned -0.724021 +/- 0.036246\n",
      "Energy evaluation 916 returned -0.684292 +/- 0.035893\n",
      "Energy evaluation 917 returned -0.727545 +/- 0.034469\n",
      "Energy evaluation 918 returned -0.751048 +/- 0.038379\n",
      "Energy evaluation 919 returned -0.684529 +/- 0.036462\n",
      "Energy evaluation 920 returned -0.817453 +/- 0.035911\n",
      "Energy evaluation 921 returned -0.768204 +/- 0.034729\n",
      "Energy evaluation 922 returned -0.716370 +/- 0.038342\n",
      "Energy evaluation 923 returned -0.798987 +/- 0.034214\n",
      "Energy evaluation 924 returned -0.767804 +/- 0.036964\n",
      "Energy evaluation 925 returned -0.748945 +/- 0.034101\n",
      "Energy evaluation 926 returned -0.783785 +/- 0.036334\n",
      "Energy evaluation 927 returned -0.742672 +/- 0.034158\n",
      "Energy evaluation 928 returned -0.821095 +/- 0.036485\n",
      "Energy evaluation 929 returned -0.685687 +/- 0.035220\n",
      "Energy evaluation 930 returned -0.746204 +/- 0.038572\n",
      "Energy evaluation 931 returned -0.713805 +/- 0.037294\n",
      "Energy evaluation 932 returned -0.815706 +/- 0.033986\n",
      "Energy evaluation 933 returned -0.728083 +/- 0.036045\n",
      "Energy evaluation 934 returned -0.787277 +/- 0.035671\n",
      "Energy evaluation 935 returned -0.780820 +/- 0.034732\n",
      "Energy evaluation 936 returned -0.813007 +/- 0.035163\n",
      "Energy evaluation 937 returned -0.763103 +/- 0.035972\n",
      "Energy evaluation 938 returned -0.759725 +/- 0.036552\n",
      "Energy evaluation 939 returned -0.807598 +/- 0.036111\n",
      "Energy evaluation 940 returned -0.750787 +/- 0.036602\n",
      "Energy evaluation 941 returned -0.754424 +/- 0.034422\n",
      "Energy evaluation 942 returned -0.701850 +/- 0.039162\n",
      "Energy evaluation 943 returned -0.733193 +/- 0.033979\n",
      "Energy evaluation 944 returned -0.772236 +/- 0.037506\n",
      "Energy evaluation 945 returned -0.799549 +/- 0.035744\n",
      "Energy evaluation 946 returned -0.792088 +/- 0.035160\n",
      "Energy evaluation 947 returned -0.796009 +/- 0.034356\n",
      "Energy evaluation 948 returned -0.803917 +/- 0.036101\n",
      "Energy evaluation 949 returned -0.711871 +/- 0.036970\n",
      "Energy evaluation 950 returned -0.852996 +/- 0.035216\n",
      "Energy evaluation 951 returned -0.780430 +/- 0.036064\n",
      "Energy evaluation 952 returned -0.770649 +/- 0.035032\n",
      "Energy evaluation 953 returned -0.736298 +/- 0.038005\n",
      "Energy evaluation 954 returned -0.827056 +/- 0.034403\n",
      "Energy evaluation 955 returned -0.763734 +/- 0.036393\n",
      "Energy evaluation 956 returned -0.788261 +/- 0.036338\n",
      "Energy evaluation 957 returned -0.754368 +/- 0.035129\n",
      "Energy evaluation 958 returned -0.794305 +/- 0.036671\n",
      "Energy evaluation 959 returned -0.708775 +/- 0.039546\n",
      "Energy evaluation 960 returned -0.701743 +/- 0.034954\n",
      "Energy evaluation 961 returned -0.788334 +/- 0.037427\n",
      "Energy evaluation 962 returned -0.776468 +/- 0.034773\n",
      "Energy evaluation 963 returned -0.727344 +/- 0.038160\n",
      "Energy evaluation 964 returned -0.737697 +/- 0.035594\n",
      "Energy evaluation 965 returned -0.781239 +/- 0.037907\n",
      "Energy evaluation 966 returned -0.762304 +/- 0.034935\n",
      "Energy evaluation 967 returned -0.751867 +/- 0.038728\n",
      "Energy evaluation 968 returned -0.726839 +/- 0.035334\n",
      "Energy evaluation 969 returned -0.750022 +/- 0.035293\n",
      "Energy evaluation 970 returned -0.727578 +/- 0.038155\n",
      "Energy evaluation 971 returned -0.743885 +/- 0.034732\n",
      "Energy evaluation 972 returned -0.716528 +/- 0.039092\n",
      "Energy evaluation 973 returned -0.790370 +/- 0.034121\n",
      "Energy evaluation 974 returned -0.725999 +/- 0.037119\n",
      "Energy evaluation 975 returned -0.803761 +/- 0.033118\n",
      "Energy evaluation 976 returned -0.793812 +/- 0.037864\n",
      "Energy evaluation 977 returned -0.751586 +/- 0.034395\n",
      "Energy evaluation 978 returned -0.751482 +/- 0.036945\n",
      "Energy evaluation 979 returned -0.777307 +/- 0.036196\n",
      "Energy evaluation 980 returned -0.819338 +/- 0.033073\n",
      "Energy evaluation 981 returned -0.792655 +/- 0.036682\n",
      "Energy evaluation 982 returned -0.741322 +/- 0.035953\n",
      "Energy evaluation 983 returned -0.834178 +/- 0.033441\n",
      "Energy evaluation 984 returned -0.713032 +/- 0.038176\n",
      "Energy evaluation 985 returned -0.736088 +/- 0.035084\n",
      "Energy evaluation 986 returned -0.706564 +/- 0.038000\n",
      "Energy evaluation 987 returned -0.769043 +/- 0.035472\n",
      "Energy evaluation 988 returned -0.711295 +/- 0.037118\n",
      "Energy evaluation 989 returned -0.765237 +/- 0.033831\n",
      "Energy evaluation 990 returned -0.788878 +/- 0.037484\n",
      "Energy evaluation 991 returned -0.716628 +/- 0.035733\n",
      "Energy evaluation 992 returned -0.716555 +/- 0.037771\n",
      "Energy evaluation 993 returned -0.665535 +/- 0.037290\n",
      "Energy evaluation 994 returned -0.646490 +/- 0.037186\n",
      "Energy evaluation 995 returned -0.744750 +/- 0.038593\n",
      "Energy evaluation 996 returned -0.670376 +/- 0.035468\n",
      "Energy evaluation 997 returned -0.786338 +/- 0.037482\n",
      "Energy evaluation 998 returned -0.695119 +/- 0.035684\n",
      "Energy evaluation 999 returned -0.721698 +/- 0.038044\n",
      "Energy evaluation 1000 returned -0.746176 +/- 0.035754\n",
      "Energy evaluation 1001 returned -0.700505 +/- 0.035601\n",
      "Energy evaluation 1002 returned -0.688076 +/- 0.038828\n",
      "Energy evaluation 1003 returned -0.763049 +/- 0.035275\n",
      "Energy evaluation 1004 returned -0.816152 +/- 0.036256\n",
      "Energy evaluation 1005 returned -0.800143 +/- 0.035579\n"
     ]
    },
    {
     "name": "stdout",
     "output_type": "stream",
     "text": [
      "Energy evaluation 1006 returned -0.723787 +/- 0.036126\n",
      "Energy evaluation 1007 returned -0.730821 +/- 0.038114\n",
      "Energy evaluation 1008 returned -0.768083 +/- 0.035740\n",
      "Energy evaluation 1009 returned -0.697879 +/- 0.037358\n",
      "Energy evaluation 1010 returned -0.771851 +/- 0.035452\n",
      "Energy evaluation 1011 returned -0.785275 +/- 0.034970\n"
     ]
    },
    {
     "name": "stderr",
     "output_type": "stream",
     "text": [
      "FAILURE: job id: 5e36574444cb3d0018179559, status: 'FAIL_TO_GET_STATUS' Terra job error: \"'501 Server Error: Not Implemented for url: https://api.quantum-computing.ibm.com/api/Network/ibm-q/Groups/open/Projects/main/Jobs/5e36574444cb3d0018179559/status'\"\n",
      "FAILURE: job id: 5e36574444cb3d0018179559, status: 'FAIL_TO_GET_STATUS' Terra job error: \"'501 Server Error: Not Implemented for url: https://api.quantum-computing.ibm.com/api/Network/ibm-q/Groups/open/Projects/main/Jobs/5e36574444cb3d0018179559/status'\"\n"
     ]
    },
    {
     "name": "stdout",
     "output_type": "stream",
     "text": [
      "Energy evaluation 1012 returned -0.784913 +/- 0.037101\n",
      "Energy evaluation 1013 returned -0.752569 +/- 0.037765\n",
      "Energy evaluation 1014 returned -0.722532 +/- 0.034557\n",
      "Energy evaluation 1015 returned -0.712719 +/- 0.036692\n",
      "Energy evaluation 1016 returned -0.756421 +/- 0.035947\n",
      "Energy evaluation 1017 returned -0.820097 +/- 0.036934\n",
      "Energy evaluation 1018 returned -0.771999 +/- 0.034725\n",
      "Energy evaluation 1019 returned -0.657963 +/- 0.038256\n",
      "Energy evaluation 1020 returned -0.753820 +/- 0.035548\n",
      "Energy evaluation 1021 returned -0.788623 +/- 0.035991\n",
      "Energy evaluation 1022 returned -0.809930 +/- 0.035126\n",
      "Energy evaluation 1023 returned -0.772810 +/- 0.036165\n",
      "Energy evaluation 1024 returned -0.797007 +/- 0.035721\n",
      "Energy evaluation 1025 returned -0.743444 +/- 0.037564\n",
      "Energy evaluation 1026 returned -0.760850 +/- 0.034492\n",
      "Energy evaluation 1027 returned -0.733236 +/- 0.034196\n",
      "Energy evaluation 1028 returned -0.730195 +/- 0.037955\n",
      "Energy evaluation 1029 returned -0.753329 +/- 0.038215\n",
      "Energy evaluation 1030 returned -0.742959 +/- 0.033989\n",
      "Energy evaluation 1031 returned -0.791210 +/- 0.037838\n",
      "Energy evaluation 1032 returned -0.817671 +/- 0.033530\n",
      "Energy evaluation 1033 returned -0.774901 +/- 0.035917\n",
      "Energy evaluation 1034 returned -0.789058 +/- 0.035020\n",
      "Energy evaluation 1035 returned -0.801311 +/- 0.034923\n",
      "Energy evaluation 1036 returned -0.762749 +/- 0.036654\n",
      "Energy evaluation 1037 returned -0.753459 +/- 0.034612\n",
      "Energy evaluation 1038 returned -0.814001 +/- 0.036482\n",
      "Energy evaluation 1039 returned -0.687720 +/- 0.037927\n",
      "Energy evaluation 1040 returned -0.787122 +/- 0.034937\n",
      "Energy evaluation 1041 returned -0.740991 +/- 0.034224\n",
      "Energy evaluation 1042 returned -0.755051 +/- 0.038720\n",
      "Energy evaluation 1043 returned -0.767875 +/- 0.037024\n",
      "Energy evaluation 1044 returned -0.801528 +/- 0.034773\n",
      "Energy evaluation 1045 returned -0.794627 +/- 0.037335\n",
      "Energy evaluation 1046 returned -0.725637 +/- 0.034818\n",
      "Energy evaluation 1047 returned -0.762866 +/- 0.035849\n",
      "Energy evaluation 1048 returned -0.752069 +/- 0.036679\n",
      "Energy evaluation 1049 returned -0.792925 +/- 0.036790\n",
      "Energy evaluation 1050 returned -0.715310 +/- 0.034327\n",
      "Energy evaluation 1051 returned -0.771777 +/- 0.036127\n"
     ]
    }
   ],
   "source": [
    "res = sim.run(my_quantum_instance)"
   ]
  },
  {
   "cell_type": "code",
   "execution_count": 68,
   "metadata": {},
   "outputs": [
    {
     "data": {
      "text/plain": [
       "{'num_optimizer_evals': None,\n",
       " 'min_val': -0.7717770898437497,\n",
       " 'opt_params': array([ 0.19542627, -1.17248482,  0.01695746]),\n",
       " 'eval_time': 35248.37902903557,\n",
       " 'eval_count': 1051,\n",
       " 'energy': -0.7717770898437497,\n",
       " 'eigvals': array([-0.77177709]),\n",
       " 'min_vector': {'01': 322, '10': 37, '00': 632, '11': 33},\n",
       " 'eigvecs': array([{'01': 322, '10': 37, '00': 632, '11': 33}], dtype=object)}"
      ]
     },
     "execution_count": 68,
     "metadata": {},
     "output_type": "execute_result"
    }
   ],
   "source": [
    "res"
   ]
  },
  {
   "cell_type": "code",
   "execution_count": 69,
   "metadata": {},
   "outputs": [
    {
     "data": {
      "text/plain": [
       "{'01': 306, '10': 56, '00': 633, '11': 29}"
      ]
     },
     "execution_count": 69,
     "metadata": {},
     "output_type": "execute_result"
    }
   ],
   "source": [
    "sim.get_optimal_vector()"
   ]
  },
  {
   "cell_type": "code",
   "execution_count": 70,
   "metadata": {},
   "outputs": [
    {
     "data": {
      "text/plain": [
       "-0.7717770898437497"
      ]
     },
     "execution_count": 70,
     "metadata": {},
     "output_type": "execute_result"
    }
   ],
   "source": [
    "sim.get_optimal_cost()"
   ]
  },
  {
   "cell_type": "code",
   "execution_count": 71,
   "metadata": {},
   "outputs": [],
   "source": [
    "energy_eval = sim.get_optimal_cost()"
   ]
  },
  {
   "cell_type": "code",
   "execution_count": 72,
   "metadata": {},
   "outputs": [],
   "source": [
    "energy_eval_err = 0.011"
   ]
  },
  {
   "cell_type": "code",
   "execution_count": 73,
   "metadata": {},
   "outputs": [
    {
     "data": {
      "text/plain": [
       "array([ 0.19542627, -1.17248482,  0.01695746])"
      ]
     },
     "execution_count": 73,
     "metadata": {},
     "output_type": "execute_result"
    }
   ],
   "source": [
    "sim._ret['opt_params']"
   ]
  },
  {
   "cell_type": "code",
   "execution_count": 74,
   "metadata": {},
   "outputs": [
    {
     "name": "stdout",
     "output_type": "stream",
     "text": [
      "Energy evaluation 1052 returned -0.774006 +/- 0.036572\n",
      "Energy evaluation 1053 returned -0.834709 +/- 0.035706\n",
      "Energy evaluation 1054 returned -0.730064 +/- 0.037173\n",
      "Energy evaluation 1055 returned -0.772066 +/- 0.036642\n",
      "Energy evaluation 1056 returned -0.726406 +/- 0.037241\n"
     ]
    },
    {
     "data": {
      "text/plain": [
       "-0.7264059921874997"
      ]
     },
     "execution_count": 74,
     "metadata": {},
     "output_type": "execute_result"
    }
   ],
   "source": [
    "sim._energy_evaluation(sim._ret['opt_params'])\n",
    "sim._energy_evaluation(sim._ret['opt_params'])\n",
    "sim._energy_evaluation(sim._ret['opt_params'])\n",
    "sim._energy_evaluation(sim._ret['opt_params'])\n",
    "sim._energy_evaluation(sim._ret['opt_params'])"
   ]
  },
  {
   "cell_type": "code",
   "execution_count": 75,
   "metadata": {},
   "outputs": [
    {
     "data": {
      "application/vnd.jupyter.widget-view+json": {
       "model_id": "0074ac20a25446cbb2a15acc4606d01e",
       "version_major": 2,
       "version_minor": 0
      },
      "text/plain": [
       "VBox(children=(HTML(value=\"<h1 style='color:#ffffff;background-color:#000000;padding-top: 1%;padding-bottom: 1…"
      ]
     },
     "metadata": {},
     "output_type": "display_data"
    },
    {
     "data": {
      "text/plain": [
       "<IBMQBackend('ibmqx2') from IBMQ(hub='ibm-q', group='open', project='main')>"
      ]
     },
     "execution_count": 75,
     "metadata": {},
     "output_type": "execute_result"
    }
   ],
   "source": [
    "sim.quantum_instance.backend"
   ]
  },
  {
   "cell_type": "code",
   "execution_count": 39,
   "metadata": {},
   "outputs": [
    {
     "data": {
      "image/png": "[encoded data removed]",
      "text/plain": [
       "<PIL.Image.Image image mode=RGB size=1953x313 at 0x12E188E80>"
      ]
     },
     "execution_count": 39,
     "metadata": {},
     "output_type": "execute_result"
    }
   ],
   "source": [
    "from qiskit.aqua.utils.run_circuits import find_regs_by_name\n",
    "opt_circ = sim.get_optimal_circuit()\n",
    "c = ClassicalRegister(opt_circ.width(), name='c')\n",
    "q = find_regs_by_name(opt_circ, 'q')\n",
    "opt_circ.add_register(c)\n",
    "opt_circ.barrier(q)\n",
    "opt_circ.measure(q, c)\n",
    "opt_circ.draw(output='latex', filename='example_gate.png', scale=1.0)"
   ]
  },
  {
   "cell_type": "code",
   "execution_count": 40,
   "metadata": {},
   "outputs": [
    {
     "name": "stdout",
     "output_type": "stream",
     "text": [
      "% \\documentclass[preview]{standalone}\n",
      "% If the image is too large to fit on this documentclass use\n",
      "\\documentclass[draft]{beamer}\n",
      "% img_width = 4, img_depth = 11\n",
      "\\usepackage[size=custom,height=10,width=39,scale=0.5]{beamerposter}\n",
      "% instead and customize the height and width (in cm) to fit.\n",
      "% Large images may run out of memory quickly.\n",
      "% To fix this use the LuaLaTeX compiler, which dynamically\n",
      "% allocates memory.\n",
      "\\usepackage[braket, qm]{qcircuit}\n",
      "\\usepackage{amsmath}\n",
      "\\pdfmapfile{+sansmathaccent.map}\n",
      "% \\usepackage[landscape]{geometry}\n",
      "% Comment out the above line if using the beamer documentclass.\n",
      "\\begin{document}\n",
      "\\begin{equation*}\n",
      "    \\Qcircuit @C=1.0em @R=0.0em @!R {\n",
      "\t \t\\lstick{ q_{0} : \\ket{0} } & \\gate{U_3(-1.18,0,0)} & \\ctrl{1} & \\qw & \\ctrl{1} & \\qw \\barrier[0em]{1} & \\qw \\barrier[0em]{1} & \\qw & \\meter & \\qw & \\qw & \\qw\\\\\n",
      "\t \t\\lstick{ q_{1} : \\ket{0} } & \\gate{U_3(0.137,0,0)} & \\targ & \\gate{U_3(0.137,0,0)} & \\targ & \\gate{U_3(0.079,0,0)} & \\qw & \\qw & \\qw & \\meter & \\qw & \\qw\\\\\n",
      "\t \t\\lstick{c_{0}: 0} & \\cw & \\cw & \\cw & \\cw & \\cw & \\cw & \\cw & \\cw \\cwx[-2] & \\cw & \\cw & \\cw\\\\\n",
      "\t \t\\lstick{c_{1}: 0} & \\cw & \\cw & \\cw & \\cw & \\cw & \\cw & \\cw & \\cw & \\cw \\cwx[-2] & \\cw & \\cw\\\\\n",
      "\t }\n",
      "\\end{equation*}\n",
      "\n",
      "\\end{document}\n"
     ]
    }
   ],
   "source": [
    "latex_source = opt_circ.draw(output='latex_source', filename='example_gate.png', scale=0.5)\n",
    "print(latex_source)"
   ]
  },
  {
   "cell_type": "code",
   "execution_count": 41,
   "metadata": {},
   "outputs": [],
   "source": [
    "# build an optimized circuit;\n",
    "# make measurement, retrieve memory\n",
    "# bootstrap uncertainties"
   ]
  },
  {
   "cell_type": "code",
   "execution_count": 76,
   "metadata": {},
   "outputs": [
    {
     "data": {
      "text/plain": [
       "1024"
      ]
     },
     "execution_count": 76,
     "metadata": {},
     "output_type": "execute_result"
    }
   ],
   "source": [
    "sim.quantum_instance.run_config.shots"
   ]
  },
  {
   "cell_type": "code",
   "execution_count": 77,
   "metadata": {},
   "outputs": [],
   "source": [
    "sim.quantum_instance.set_config(shots=1024, memory=True)"
   ]
  },
  {
   "cell_type": "code",
   "execution_count": 78,
   "metadata": {},
   "outputs": [
    {
     "data": {
      "text/plain": [
       "RunConfig(max_credits=10, memory=True, shots=1024)"
      ]
     },
     "execution_count": 78,
     "metadata": {},
     "output_type": "execute_result"
    }
   ],
   "source": [
    "sim.quantum_instance.run_config"
   ]
  },
  {
   "cell_type": "code",
   "execution_count": 79,
   "metadata": {},
   "outputs": [],
   "source": [
    "# takes in results from a single circuit \n",
    "# with memory=True, and estimates\n",
    "# the uncertanities on the probability of each outcome \n",
    "# (currently with bootstrap)\n",
    "# returns outcome:(pba, std) dictionary\n",
    "def compute_stats(res, invert_qubit_order = False):\n",
    "    # check that there is a single circuit in the results\n",
    "    # (ambiguous otherwise)\n",
    "    assert(len(res.results)==1)\n",
    "    # generates all possible outcomes given \\\n",
    "    # the number of qubits \n",
    "    def _generate_bitstrings(nqubits, invert_qubit_order):\n",
    "        # (recursive, modifies all_strings in place)\n",
    "        def _generate_bitstrings_rec(nqubits, all_strings, a_string, irecur): \n",
    "            # base\n",
    "            if irecur == nqubits: \n",
    "                all_strings.append(''.join([bit for bit in a_string]))\n",
    "                return \n",
    "            # append 0\n",
    "            _generate_bitstrings_rec(nqubits, all_strings, a_string + ['0'], irecur + 1)\n",
    "            # append 1\n",
    "            _generate_bitstrings_rec(nqubits, all_strings, a_string + ['1'], irecur + 1)\n",
    "        all_strings = []\n",
    "        _generate_bitstrings_rec(nqubits, all_strings, [], 0)\n",
    "        if (invert_qubit_order): \n",
    "        # pesky Qiskit messes up qubit ordering... this may or may not be necessary to translate the results.\n",
    "            all_strings = [''.join(reversed(bitstring)) for bitstring in all_strings]\n",
    "        return all_strings\n",
    "    # bootstrap specific?\n",
    "    # given ensembles of outcomes and a particular outcome\n",
    "    # calculates the statistics of that outcome:\n",
    "    # returns outcome:(pba, std) estimates for the outcome\n",
    "    def _calc_outcome_stats(ensembles, nshots, outcome):\n",
    "        cts = np.count_nonzero(ensembles==outcome, axis=0)\n",
    "        pba = np.mean(cts)/nshots\n",
    "        std = np.std(cts/nshots, ddof = 1) # use unbiased estimator\n",
    "        return (pba, std)\n",
    "    nqubits = int(np.log2(len(res.get_counts(0)))) # pull number of qubits from results\n",
    "    outcomes = _generate_bitstrings(nqubits, invert_qubit_order)\n",
    "    mem = res.get_memory(0)\n",
    "    nshots = sum(list(res.get_counts(0).values()))\n",
    "    nens = nshots # choose number of ensemles = number of samples\n",
    "    nsam = nshots\n",
    "    ensembles = np.random.choice(mem, (nens, nsam))\n",
    "    stats = map(lambda outcome: (outcome, _calc_outcome_stats(ensembles, nshots, outcome)), outcomes)\n",
    "    return dict(stats)"
   ]
  },
  {
   "cell_type": "code",
   "execution_count": 84,
   "metadata": {},
   "outputs": [],
   "source": [
    "sim.quantum_instance.set_config(shots=1024, memory=True)\n",
    "opt_res = sim.quantum_instance.execute(opt_circ)\n",
    "sim.quantum_instance.set_config(shots=1024, memory=False) # reset to no memory! saves resources?"
   ]
  },
  {
   "cell_type": "code",
   "execution_count": 85,
   "metadata": {},
   "outputs": [
    {
     "data": {
      "image/png": "[encoded data removed]",
      "text/plain": [
       "<Figure size 504x360 with 1 Axes>"
      ]
     },
     "execution_count": 85,
     "metadata": {},
     "output_type": "execute_result"
    }
   ],
   "source": [
    "from qiskit.visualization import plot_histogram\n",
    "plot_histogram(opt_res.get_counts(opt_circ))"
   ]
  },
  {
   "cell_type": "code",
   "execution_count": 86,
   "metadata": {},
   "outputs": [],
   "source": [
    "measured_coeffs =compute_stats(opt_res, False)"
   ]
  },
  {
   "cell_type": "code",
   "execution_count": 87,
   "metadata": {},
   "outputs": [
    {
     "data": {
      "text/plain": [
       "{'00': (0.617706298828125, 0.014986103888819274),\n",
       " '01': (0.31874656677246094, 0.014887180954741418),\n",
       " '10': (0.037270545959472656, 0.006089766856725273),\n",
       " '11': (0.026276588439941406, 0.00476308672585744)}"
      ]
     },
     "execution_count": 87,
     "metadata": {},
     "output_type": "execute_result"
    }
   ],
   "source": [
    "measured_coeffs"
   ]
  },
  {
   "cell_type": "code",
   "execution_count": 88,
   "metadata": {},
   "outputs": [
    {
     "data": {
      "image/png": "[encoded data removed]",
      "text/plain": [
       "<PIL.Image.Image image mode=RGB size=1151x283 at 0x124157CC0>"
      ]
     },
     "execution_count": 88,
     "metadata": {},
     "output_type": "execute_result"
    }
   ],
   "source": [
    "transp_circ = transpile(opt_circ, sim.quantum_instance.backend, optimization_level=3)\n",
    "transp_circ.draw(output='latex', scale=0.5)"
   ]
  },
  {
   "cell_type": "code",
   "execution_count": 51,
   "metadata": {},
   "outputs": [
    {
     "data": {
      "image/png": "[encoded data removed]",
      "text/plain": [
       "<PIL.Image.Image image mode=RGB size=1008x160 at 0x12DCB0978>"
      ]
     },
     "execution_count": 51,
     "metadata": {},
     "output_type": "execute_result"
    }
   ],
   "source": [
    "opt_circ.decompose().draw(output='latex', scale=0.5)"
   ]
  },
  {
   "cell_type": "code",
   "execution_count": 110,
   "metadata": {},
   "outputs": [],
   "source": [
    "# compare with Mathematica's expectations\n",
    "mathematica_res = -1.01162 # Even\n",
    "mathematica_res2 = 0.486204 # Odd\n",
    "\n",
    "# odd coefficients\n",
    "even_coeffs = [0.669069, 0.305919, 0.023941, 0.00107068]\n",
    "even_coeffs_at_theta = [0.664109, 0.309821, 0.0236388, 0.00243079]\n",
    "odd_coeffs = [0.7041621406145364, 0.2582831083289985, 0.03524433188695736, 0.002310419169507747]"
   ]
  },
  {
   "cell_type": "code",
   "execution_count": 114,
   "metadata": {},
   "outputs": [
    {
     "data": {
      "image/png": "[encoded data removed]",
      "text/plain": [
       "<Figure size 432x288 with 1 Axes>"
      ]
     },
     "metadata": {
      "needs_background": "light"
     },
     "output_type": "display_data"
    }
   ],
   "source": [
    "import matplotlib.pyplot as plt\n",
    "outcomes = list(measured_coeffs.keys())\n",
    "outcomes_bars = np.arange(len(outcomes))\n",
    "avgs = [measured_coeffs[outcome][0] for outcome in outcomes]\n",
    "stds = [measured_coeffs[outcome][1] for outcome in outcomes]\n",
    "fig, ax = plt.subplots()\n",
    "ax.bar(outcomes_bars, avgs, yerr=stds, \n",
    "       align='center', alpha=0.5, ecolor='black',\n",
    "       edgecolor='k',\n",
    "       error_kw=dict(lw=0.5, capsize=10, capthick=2.0),\n",
    "       label='IBM sim')\n",
    "ax.set_ylabel(r'$|c_i|^2$', fontsize=16)\n",
    "ax.set_xlabel(r'outcome', fontsize=16)\n",
    "ax.set_xticks(outcomes_bars)\n",
    "ax.set_xticklabels(outcomes)\n",
    "ax.set_title('ibmqx2: $E \\\\pm \\\\Delta E = %.3f \\\\pm %.3f$\\n($E = %.3f$ exact),\\n nshots=%d' \n",
    "             % (energy_eval, energy_eval_err, mathematica_res, \n",
    "                sim.quantum_instance.run_config.shots), fontsize=16)\n",
    "for icoeff in range(len(even_coeffs)):\n",
    "    ax.axhline(y = even_coeffs[icoeff], color ='red', linewidth = 0.5, \n",
    "               label=r'exact $|c_{%d}|^2 = %.3f$' % (icoeff+1, even_coeffs[icoeff]))\n",
    "    ax.axhline(y = even_coeffs_at_theta[icoeff], color ='green', linewidth = 0.5, \n",
    "               label=r'exact $|c(\\theta)_{%d}|^2 = %.3f$''\\n'r'vs measured $%.3f \\pm %.3f$' % (icoeff+1, even_coeffs_at_theta[icoeff], *list(measured_coeffs.values())[icoeff]))\n",
    "# ax.set_yscale('log')\n",
    "# plt.tight_layout()\n",
    "plt.legend(frameon=False, fontsize=16, bbox_to_anchor=(1.04,1), loc=\"upper left\")\n",
    "# plt.savefig(\"ibmqx2_log.png\", dpi=300)"
   ]
  },
  {
   "cell_type": "code",
   "execution_count": 54,
   "metadata": {},
   "outputs": [
    {
     "data": {
      "text/plain": [
       "{'qiskit-terra': '0.11.1',\n",
       " 'qiskit-aer': '0.3.4',\n",
       " 'qiskit-ignis': '0.2.0',\n",
       " 'qiskit-ibmq-provider': '0.4.5',\n",
       " 'qiskit-aqua': '0.6.2',\n",
       " 'qiskit': '0.14.1'}"
      ]
     },
     "execution_count": 54,
     "metadata": {},
     "output_type": "execute_result"
    }
   ],
   "source": [
    "qiskit.__qiskit_version__"
   ]
  },
  {
   "cell_type": "code",
   "execution_count": 101,
   "metadata": {},
   "outputs": [
    {
     "data": {
      "text/plain": [
       "{'00': (0.617706298828125, 0.014986103888819274),\n",
       " '01': (0.31874656677246094, 0.014887180954741418),\n",
       " '10': (0.037270545959472656, 0.006089766856725273),\n",
       " '11': (0.026276588439941406, 0.00476308672585744)}"
      ]
     },
     "execution_count": 101,
     "metadata": {},
     "output_type": "execute_result"
    }
   ],
   "source": [
    "measured_coeffs"
   ]
  },
  {
   "cell_type": "code",
   "execution_count": 102,
   "metadata": {},
   "outputs": [
    {
     "data": {
      "text/plain": [
       "[(0.617706298828125, 0.014986103888819274),\n",
       " (0.31874656677246094, 0.014887180954741418),\n",
       " (0.037270545959472656, 0.006089766856725273),\n",
       " (0.026276588439941406, 0.00476308672585744)]"
      ]
     },
     "execution_count": 102,
     "metadata": {},
     "output_type": "execute_result"
    }
   ],
   "source": [
    "list(measured_coeffs.values())"
   ]
  },
  {
   "cell_type": "code",
   "execution_count": 104,
   "metadata": {},
   "outputs": [
    {
     "data": {
      "text/plain": [
       "(0.31874656677246094, 0.014887180954741418)"
      ]
     },
     "execution_count": 104,
     "metadata": {},
     "output_type": "execute_result"
    }
   ],
   "source": [
    "list(measured_coeffs.values())[1]"
   ]
  },
  {
   "cell_type": "code",
   "execution_count": null,
   "metadata": {},
   "outputs": [],
   "source": []
  }
 ],
 "metadata": {
  "kernelspec": {
   "display_name": "Python 3",
   "language": "python",
   "name": "python3"
  },
  "language_info": {
   "codemirror_mode": {
    "name": "ipython",
    "version": 3
   },
   "file_extension": ".py",
   "mimetype": "text/x-python",
   "name": "python",
   "nbconvert_exporter": "python",
   "pygments_lexer": "ipython3",
   "version": "3.6.0"
  }
 },
 "nbformat": 4,
 "nbformat_minor": 2
}
