{
 "cells": [
  {
   "cell_type": "markdown",
   "metadata": {},
   "source": [
    "# Research Log 2020/01/02-2020/01/09"
   ]
  },
  {
   "cell_type": "markdown",
   "metadata": {},
   "source": [
    "## Fri 01/03/2020\n",
    "- Finish DMRG reference.\n",
    "- Draft the DMRG-TN algorithm steps with Sam's reference and the DMRG reference."
   ]
  },
  {
   "cell_type": "markdown",
   "metadata": {},
   "source": [
    "## Mon 01/06/2020\n",
    "- Paper by Verstraete is still a bit impenetrable in details.\n",
    "- Sam's reference is very helpful. Work through that.\n",
    "- [DMRG reference from the ITensor library](http://itensor.org/docs.cgi?vers=cppv3&page=tutorials/DMRG)\n",
    "- [Practical guide](https://itensor.org/docs.cgi?page=tutorials/dmrg_params) to choosing DMRG parameters.\n",
    "\n",
    "Installed Julia and its Jupyter kernel.\n",
    "**Don't yet know how to install ITensors as a package in Julia**"
   ]
  },
  {
   "cell_type": "markdown",
   "metadata": {},
   "source": [
    "## Wed 01/08/2020\n",
    "- Paper on quantum circuits for preparing [Absolute Maximally Entangled states](https://journals.aps.org/pra/pdf/10.1103/PhysRevA.100.022342)\n",
    "- Interesting paper on [generalized overlaps](https://arxiv.org/pdf/1906.10639.pdf) --- although since we're not willing to implement the interpolators, this may not be directly relevant.\n",
    "- [Creation of superposition of 2 unknown quantum states](https://arxiv.org/pdf/1505.04955.pdf)\n",
    "    - Impossible if the two states are unknown\n",
    "    - Possible if the two states have some known fixed overlaps with a known reference state.\n",
    "\n",
    "I don't want to solve a general problem of equally entangling 2 n-qubit states.\n",
    "I want to exploit the fact that my states are either:\n",
    "\n",
    "    - Computational basis kets, or\n",
    "    - Variationally prepared ground states (in some sector).\n",
    "    \n",
    "- If I am using computational basis kets, the advantage is that I can make projective measurements onto those states.\n",
    "- If I am using the variationally prepared states, the advantage is that I know these states minimize some known function.\n",
    "\n",
    "- Essentially we want a particular (easier) case of a [*quantum adder*](https://www.quantum-inspire.com/kbase/full-adder/). See also the [forbidden quantum adder](https://arxiv.org/abs/1411.4534)\n",
    "\n",
    "**Is there a cost function that is minimized by the superposition of 2 ground states from the two sectors?**"
   ]
  },
  {
   "cell_type": "markdown",
   "metadata": {},
   "source": [
    "## Thu 01/09/2020\n",
    "\n",
    "- **Quantum Computing**\n",
    "    - need team of 3 for the Hackathon\n",
    "    - The is a relevant piece of literature to what we're trying to do: [the quantum adder](https://www.nature.com/articles/srep11983):\n",
    "        - There is no general unitary protocol for adding two unknown quantum states from a finite-dimensional Hilbert space; this is related to the no-cloning theorem.\n",
    "            \\\\[\n",
    "            U | \\Psi_1 \\rangle | \\Psi_2 \\rangle  \\propto (| \\Psi_1 \\rangle + | \\Psi_2 \\rangle ) | \\chi \\rangle\n",
    "            \\\\]\n",
    "        - Given an orthonormal basis and two unknown states, the quantum adder is forbidden in the absence of an ancillary system.\n",
    "        - However, *restricted* and *approximate* quantum adders are not disallowed. There is literature related to this. In fact, [someone](https://arxiv.org/pdf/1611.07851.pdf) made a quantum adder on IBM! \n",
    "        - Our setup is slightly different (we wouldn't want two copies of the Hilbert space, no?). Can it be avoided?\n",
    "        - Further, we do not need to add two arbitrary quantum states; we need to combine to known variational states, or a variational state and a computational ket (on which we can project). So the states are quite special, and this should be exploited.\n",
    "        - For example, maybe there's a variational scheme for preparing the superposition of two ground states? I know if I project the concatenated space onto zero, and measure the other one with the Hamiltonian, I should get the ground state energy; ditto for the other parity sector. Can this help? Can I find a cost function that gets me the superposition as opposed to a mixture?\n",
    "- **Tensor networks**\n",
    "    - Working with Sam's reference proved helpful; installing Julia's package today and starting to play around with it as I am trying to learn more about the theory (this should also help)\n",
    "    - Installed ITensors for Julia (it's pre-release, so no official package yet...). Ran some basic DMRG they provide in the README. This should help with getting a hang of things on the theory side --- just being able to experiment with code as I read along.\n",
    "    - Useful [Julia tutorials](https://julialang.org/learning/) --- will spend 1-2 hours just playing with this.\n",
    "- **Conventional lattice**\n",
    "    - Managed to have QLUA understand Tej's sampled configs (Dan and Tej helped!). It's easier and faster to produce configs with Tej's code, and quite easy to customize it to make unusual samples (good for learning and prototyping). Now we can use QLUA spectroscopy tools on those samples.\n",
    "    - Will test the script with at least the pion mass; polish it a bit and commit to Tej's repo."
   ]
  },
  {
   "cell_type": "code",
   "execution_count": null,
   "metadata": {},
   "outputs": [],
   "source": []
  }
 ],
 "metadata": {
  "kernelspec": {
   "display_name": "Python (Qiskitenv)",
   "language": "python",
   "name": "qiskitenv"
  },
  "language_info": {
   "codemirror_mode": {
    "name": "ipython",
    "version": 3
   },
   "file_extension": ".py",
   "mimetype": "text/x-python",
   "name": "python",
   "nbconvert_exporter": "python",
   "pygments_lexer": "ipython3",
   "version": "3.6.0"
  }
 },
 "nbformat": 4,
 "nbformat_minor": 2
}
