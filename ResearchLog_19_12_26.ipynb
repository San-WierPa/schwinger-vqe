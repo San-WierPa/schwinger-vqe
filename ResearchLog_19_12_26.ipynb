{
 "cells": [
  {
   "cell_type": "markdown",
   "metadata": {},
   "source": [
    "## Research Log 19/12/23-19/12/26"
   ]
  },
  {
   "cell_type": "markdown",
   "metadata": {},
   "source": [
    "## 12/23/19 Mon\n",
    "\n",
    "- Outline / sketch out the explicit (coefficient-wise) approach, and \n",
    "- summarize the for and the against.\n",
    "\n",
    "Starting a set of notes with Overleaf. Takes time to typeset everything in a way that it would only have to be done once (in particular, a way to have consistent notation that's relatively easy to modify)."
   ]
  },
  {
   "cell_type": "markdown",
   "metadata": {},
   "source": [
    "## 12/24/19 Tue\n",
    "- Continued the set of notes on Overleaf. Finished the background section that lays out how measurements are made on IBM's quantum computers and simulators, finished the nomenclature for now, added relevant references and their summaries. Started the section that outlines our next steps for measuring the matrix elements for transition operators."
   ]
  },
  {
   "cell_type": "markdown",
   "metadata": {},
   "source": [
    "## 12/25/19 Wed\n",
    "To-Do:\n",
    "- Finish the outline for our options to proceeed with the evaluation of transition amplitudes. Can keep it brief for now, a lot of the work is done in the background section.\n",
    "\n",
    "Done!"
   ]
  },
  {
   "cell_type": "markdown",
   "metadata": {},
   "source": [
    "## 12/26/19 Thu\n",
    "- Meet with Phiala (Skype/in person?)\n",
    "- How do I measure both real and imaginary part of an off-diagonal matrix element? As outlined in the notes.\n",
    "\n",
    "- [This paper](https://arxiv.org/pdf/1307.0411.pdf), among other things, proposes the algorithm of supervised cluster assignment, where in particular there is a description of measuring an inner product between two vectors. Need to work through and understand. One thing to note is that it ties together what Natalie mentioned and what Scott and I discussed. So it's probably not two distrinct methods.\n",
    "- Quick search reveals that at least [this paper](https://arxiv.org/pdf/1909.02611.pdf) has implemented a swap test on IBM's quantum computer.\n",
    "\n",
    "Here are my thoughts on swap tests / superpositions...\n",
    "\n",
    "- [Lloyd's paper](https://arxiv.org/pdf/1307.0411.pdf) shows that people have thought about the object we want to compute a while ago, motivated  by data analysis / big data. \n",
    "- A swap test circuit, which is a part of those proposed algorithms and other [notable papers](https://journals.aps.org/prl/abstract/10.1103/PhysRevLett.87.167902), indeed allows to measure just a single number — the *square* of the inner product between two vectors. \n",
    "- If we are to employ a swap-test-like approach, in the language of the data-analysis paper, we additionally want to post-process our vector with a transition operator. This means, **actually apply the transition operator**, which in practice will require ancillary qubits, and which is something we'd like to avoid (right?). In the other hand, if we measure the inner product between the ground state and the first excited state in the Schwinger model, we will of course just get 0.\n",
    "- So, staring at what is currently now Eq.(II.7) on Overleaf, I want to actually measure the matrix elements, and then combine them to form the variational operators. This avoid applying a non-unitary operator to a state, and is more feasible at the moment."
   ]
  },
  {
   "cell_type": "code",
   "execution_count": null,
   "metadata": {},
   "outputs": [],
   "source": []
  }
 ],
 "metadata": {
  "kernelspec": {
   "display_name": "Python (Qiskitenv)",
   "language": "python",
   "name": "qiskitenv"
  },
  "language_info": {
   "codemirror_mode": {
    "name": "ipython",
    "version": 3
   },
   "file_extension": ".py",
   "mimetype": "text/x-python",
   "name": "python",
   "nbconvert_exporter": "python",
   "pygments_lexer": "ipython3",
   "version": "3.6.0"
  }
 },
 "nbformat": 4,
 "nbformat_minor": 2
}
